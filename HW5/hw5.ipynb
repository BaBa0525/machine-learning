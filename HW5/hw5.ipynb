{
  "nbformat": 4,
  "nbformat_minor": 0,
  "metadata": {
    "colab": {
      "provenance": [],
      "mount_file_id": "1GFlmhACRNYpk3_oYq0kGLetPSeaSC3px",
      "authorship_tag": "ABX9TyPe8QqLiKMoJoz14ZyvifB6",
      "include_colab_link": true
    },
    "kernelspec": {
      "name": "python3",
      "display_name": "Python 3"
    },
    "language_info": {
      "name": "python"
    },
    "gpuClass": "standard"
  },
  "cells": [
    {
      "cell_type": "markdown",
      "metadata": {
        "id": "view-in-github",
        "colab_type": "text"
      },
      "source": [
        "<a href=\"https://colab.research.google.com/github/BaBa0525/machine-learning/blob/main/HW5/hw5.ipynb\" target=\"_parent\"><img src=\"https://colab.research.google.com/assets/colab-badge.svg\" alt=\"Open In Colab\"/></a>"
      ]
    },
    {
      "cell_type": "markdown",
      "source": [
        "## Import package"
      ],
      "metadata": {
        "id": "yD3lJvhJS6nl"
      }
    },
    {
      "cell_type": "code",
      "source": [
        "import csv\n",
        "import cv2\n",
        "import numpy as np\n",
        "import random\n",
        "import os\n",
        "\n",
        "from tqdm import tqdm\n",
        "\n",
        "import torch\n",
        "import torch.nn as nn\n",
        "from torch.utils.data import Dataset, DataLoader"
      ],
      "metadata": {
        "id": "FHtAe_HuosC8"
      },
      "execution_count": 1,
      "outputs": []
    },
    {
      "cell_type": "markdown",
      "source": [
        "## Mount Google Drive"
      ],
      "metadata": {
        "id": "VaNoXf6KOvdd"
      }
    },
    {
      "cell_type": "code",
      "execution_count": 2,
      "metadata": {
        "id": "O4ft1IQlWPuJ",
        "colab": {
          "base_uri": "https://localhost:8080/"
        },
        "outputId": "2ccaaef1-643a-4233-cfb9-a469ae1186f1"
      },
      "outputs": [
        {
          "output_type": "stream",
          "name": "stdout",
          "text": [
            "Mounted at /content/drive\n"
          ]
        }
      ],
      "source": [
        "from google.colab import drive\n",
        "drive.mount('/content/drive', force_remount=True)"
      ]
    },
    {
      "cell_type": "code",
      "source": [
        "%cd /content/drive/MyDrive/Colab\\ Notebooks/ML-HW5\n",
        "!ls"
      ],
      "metadata": {
        "colab": {
          "base_uri": "https://localhost:8080/"
        },
        "id": "hvIA3ZGlNbRZ",
        "outputId": "ba8e8b03-57a3-4c0b-855c-12033ce790e5"
      },
      "execution_count": 3,
      "outputs": [
        {
          "output_type": "stream",
          "name": "stdout",
          "text": [
            "/content/drive/MyDrive/Colab Notebooks/ML-HW5\n",
            "captcha-hacker.zip  hw5.ipynb  input\n"
          ]
        }
      ]
    },
    {
      "cell_type": "code",
      "source": [
        "device = torch.device(\"cuda:0\" if torch.cuda.is_available() else \"cpu\")\n",
        "print(device)"
      ],
      "metadata": {
        "colab": {
          "base_uri": "https://localhost:8080/"
        },
        "id": "CvIISexbEya_",
        "outputId": "e5a62965-7d40-446e-936c-b96b48dae874"
      },
      "execution_count": 4,
      "outputs": [
        {
          "output_type": "stream",
          "name": "stdout",
          "text": [
            "cpu\n"
          ]
        }
      ]
    },
    {
      "cell_type": "markdown",
      "source": [
        "## Check dataset"
      ],
      "metadata": {
        "id": "cDayX5xvn6Wj"
      }
    },
    {
      "cell_type": "code",
      "source": [
        "import os\n",
        "\n",
        "for dirname, _, filenames in os.walk('./input'):\n",
        "    for filename in filenames[:3]:\n",
        "        print(os.path.join(dirname, filename))\n",
        "    if len(filenames) > 3:\n",
        "        print(\"...\")\n"
      ],
      "metadata": {
        "id": "NUuO3vFvPF-7",
        "colab": {
          "base_uri": "https://localhost:8080/"
        },
        "outputId": "5b7aebe4-b4b4-4370-cff0-b4c321014763"
      },
      "execution_count": 5,
      "outputs": [
        {
          "output_type": "stream",
          "name": "stdout",
          "text": [
            "./input/sample_submission.csv\n",
            "./input/test/task1/p1mQMrocXHhSDTxe.png\n",
            "./input/test/task1/wH6XHdKbYBL7l29q.png\n",
            "./input/test/task1/zIUgMdE4RUJ2XWDI.png\n",
            "...\n",
            "./input/test/task2/hIGVIh29SGCmyllJ.png\n",
            "./input/test/task2/mVC7Bn9xc4I7X9ZC.png\n",
            "./input/test/task2/kkiDDFzu8iPBOuDW.png\n",
            "...\n",
            "./input/test/task3/3hTBBm1cGTSdNNDl.png\n",
            "./input/test/task3/42AwuKvLKi2F636B.png\n",
            "./input/test/task3/AYuafmx4qou5HsGd.png\n",
            "...\n",
            "./input/train/annotations.csv\n",
            "./input/train/task1/ixR3Su7WAzEEn584.png\n",
            "./input/train/task1/Z16DOd7u1x5Rh9uo.png\n",
            "./input/train/task1/o2lcHmf6OyAtCuY8.png\n",
            "...\n",
            "./input/train/task2/GJtENwld5UvVcPcB.png\n",
            "./input/train/task2/UIwaYwOchgxtV5zN.png\n",
            "./input/train/task2/BZiz0GWTxkTPsgbV.png\n",
            "...\n",
            "./input/train/task3/DME5yC43SSVtdLyk.png\n",
            "./input/train/task3/NXg03BRj0yxP9Pf2.png\n",
            "./input/train/task3/PHUbZrDwWJrQ9m3J.png\n",
            "...\n"
          ]
        }
      ]
    },
    {
      "cell_type": "code",
      "source": [
        "TRAIN_PATH = \"./input/train\"\n",
        "TEST_PATH = \"./input/test\""
      ],
      "metadata": {
        "id": "LuzXy6gOn_H9"
      },
      "execution_count": 6,
      "outputs": []
    },
    {
      "cell_type": "markdown",
      "source": [
        "## Dataset Class"
      ],
      "metadata": {
        "id": "RgBf6bJbTVa3"
      }
    },
    {
      "cell_type": "code",
      "source": [
        "class Task1Dataset(Dataset):\n",
        "  def __init__(self, data, root, return_filename=False):\n",
        "    self.data = [sample for sample in data if sample[0].startswith(\"task1\")]\n",
        "    self.return_filename = return_filename\n",
        "    self.root = root\n",
        "\n",
        "  def __getitem__(self, index):\n",
        "    filename, label = self.data[index]\n",
        "    img = cv2.imread(f\"{self.root}/{filename}\")\n",
        "    img = cv2.resize(img, (32, 32))\n",
        "    img = np.mean(img, axis=2)\n",
        "    if self.return_filename:\n",
        "      return torch.FloatTensor((img - 128) / 128), filename\n",
        "\n",
        "    return torch.FloatTensor((img - 128) / 128), int(label)\n",
        "\n",
        "  def __len__(self):\n",
        "    return len(self.data)\n",
        "    "
      ],
      "metadata": {
        "id": "4p7tNXYWoTLB"
      },
      "execution_count": 7,
      "outputs": []
    },
    {
      "cell_type": "markdown",
      "source": [
        "## Model Class"
      ],
      "metadata": {
        "id": "MCOj-iEyThI1"
      }
    },
    {
      "cell_type": "code",
      "source": [
        "class Model(nn.Module):\n",
        "  def __init__(self):\n",
        "    super().__init__()\n",
        "    self.layers = nn.Sequential(\n",
        "        nn.Linear(1024, 512),\n",
        "        nn.LeakyReLU(),\n",
        "        nn.Linear(512, 10)\n",
        "    )\n",
        "\n",
        "  def forward(self, x):\n",
        "    b, h, w = x.shape\n",
        "    x = x.view(b, h*w)\n",
        "    return self.layers(x)"
      ],
      "metadata": {
        "id": "m4Kswa6zxEKF"
      },
      "execution_count": 8,
      "outputs": []
    },
    {
      "cell_type": "markdown",
      "source": [
        "## Process training data"
      ],
      "metadata": {
        "id": "If5DC9MpTlS_"
      }
    },
    {
      "cell_type": "code",
      "source": [
        "train_data = []\n",
        "val_data = []\n",
        "\n",
        "with open(f\"{TRAIN_PATH}/annotations.csv\", newline=\"\") as csvfile:\n",
        "  for row in csv.reader(csvfile, delimiter=\",\"):\n",
        "    if random.random() < 0.7:\n",
        "      train_data.append(row)\n",
        "    else:\n",
        "      val_data.append(row)\n",
        "\n",
        "train_ds = Task1Dataset(train_data, TRAIN_PATH)\n",
        "train_dl = DataLoader(train_ds, batch_size=500, drop_last=True, shuffle=True)\n",
        "\n",
        "val_ds = Task1Dataset(val_data, TRAIN_PATH)\n",
        "val_dl = DataLoader(val_ds, batch_size=500, drop_last=True, shuffle=True)"
      ],
      "metadata": {
        "id": "ixhLc15Fyc45"
      },
      "execution_count": 9,
      "outputs": []
    },
    {
      "cell_type": "markdown",
      "source": [
        "## Training"
      ],
      "metadata": {
        "id": "1qkxKDNmTqi4"
      }
    },
    {
      "cell_type": "code",
      "source": [
        "model = Model().to(device)\n",
        "optimizer = torch.optim.Adam(params=model.parameters(), lr=1e-3)\n",
        "loss_fn = nn.CrossEntropyLoss()\n",
        "\n",
        "for epoch in range(100):\n",
        "  print(f\"Epoch: [{epoch}]\")\n",
        "\n",
        "  model.train()\n",
        "  for image, label in train_dl:\n",
        "    image = image.to(device)\n",
        "    label = label.to(label)\n",
        "\n",
        "    pred = model(image)\n",
        "    loss = loss_fn(pred, label)\n",
        "\n",
        "    optimizer.zero_grad()\n",
        "    loss.backward()\n",
        "    optimizer.step()\n",
        "\n",
        "  sample_count = 0\n",
        "  correct_count = 0\n",
        "\n",
        "  model.eval()\n",
        "  for image, label in val_dl:\n",
        "    image = image.to(device)\n",
        "    label = label.to(label)\n",
        "\n",
        "    pred = model(image)\n",
        "    loss = loss_fn(pred, label)\n",
        "\n",
        "    pred = torch.argmax(pred, dim=1)\n",
        "\n",
        "    sample_count += len(image)\n",
        "    correct_count += (label == pred).sum()\n",
        "\n",
        "  print(f\"accuracy(validation): {correct_count / sample_count}\")\n",
        "\n"
      ],
      "metadata": {
        "colab": {
          "base_uri": "https://localhost:8080/"
        },
        "id": "HMAUiroR0dCr",
        "outputId": "2a3b50e0-0d91-4664-be29-4facf504de6d"
      },
      "execution_count": 10,
      "outputs": [
        {
          "output_type": "stream",
          "name": "stdout",
          "text": [
            "Epoch: [0]\n",
            "accuracy(validation): 0.09399999678134918\n",
            "Epoch: [1]\n",
            "accuracy(validation): 0.10400000214576721\n",
            "Epoch: [2]\n",
            "accuracy(validation): 0.0860000029206276\n",
            "Epoch: [3]\n",
            "accuracy(validation): 0.09399999678134918\n",
            "Epoch: [4]\n",
            "accuracy(validation): 0.164000004529953\n",
            "Epoch: [5]\n",
            "accuracy(validation): 0.2680000066757202\n",
            "Epoch: [6]\n",
            "accuracy(validation): 0.1860000044107437\n",
            "Epoch: [7]\n",
            "accuracy(validation): 0.1899999976158142\n",
            "Epoch: [8]\n",
            "accuracy(validation): 0.2980000078678131\n",
            "Epoch: [9]\n",
            "accuracy(validation): 0.31200000643730164\n",
            "Epoch: [10]\n",
            "accuracy(validation): 0.335999995470047\n",
            "Epoch: [11]\n",
            "accuracy(validation): 0.32199999690055847\n",
            "Epoch: [12]\n",
            "accuracy(validation): 0.3140000104904175\n",
            "Epoch: [13]\n",
            "accuracy(validation): 0.39800000190734863\n",
            "Epoch: [14]\n",
            "accuracy(validation): 0.4059999883174896\n",
            "Epoch: [15]\n",
            "accuracy(validation): 0.36399999260902405\n",
            "Epoch: [16]\n",
            "accuracy(validation): 0.33799999952316284\n",
            "Epoch: [17]\n",
            "accuracy(validation): 0.4359999895095825\n",
            "Epoch: [18]\n",
            "accuracy(validation): 0.4339999854564667\n",
            "Epoch: [19]\n",
            "accuracy(validation): 0.421999990940094\n",
            "Epoch: [20]\n",
            "accuracy(validation): 0.4519999921321869\n",
            "Epoch: [21]\n",
            "accuracy(validation): 0.44999998807907104\n",
            "Epoch: [22]\n",
            "accuracy(validation): 0.4740000069141388\n",
            "Epoch: [23]\n",
            "accuracy(validation): 0.5080000162124634\n",
            "Epoch: [24]\n",
            "accuracy(validation): 0.5120000243186951\n",
            "Epoch: [25]\n",
            "accuracy(validation): 0.4880000054836273\n",
            "Epoch: [26]\n",
            "accuracy(validation): 0.4659999907016754\n",
            "Epoch: [27]\n",
            "accuracy(validation): 0.5059999823570251\n",
            "Epoch: [28]\n",
            "accuracy(validation): 0.5339999794960022\n",
            "Epoch: [29]\n",
            "accuracy(validation): 0.5199999809265137\n",
            "Epoch: [30]\n",
            "accuracy(validation): 0.5260000228881836\n",
            "Epoch: [31]\n",
            "accuracy(validation): 0.515999972820282\n",
            "Epoch: [32]\n",
            "accuracy(validation): 0.5559999942779541\n",
            "Epoch: [33]\n",
            "accuracy(validation): 0.5540000200271606\n",
            "Epoch: [34]\n",
            "accuracy(validation): 0.5360000133514404\n",
            "Epoch: [35]\n",
            "accuracy(validation): 0.5260000228881836\n",
            "Epoch: [36]\n",
            "accuracy(validation): 0.5619999766349792\n",
            "Epoch: [37]\n",
            "accuracy(validation): 0.5860000252723694\n",
            "Epoch: [38]\n",
            "accuracy(validation): 0.5759999752044678\n",
            "Epoch: [39]\n",
            "accuracy(validation): 0.5460000038146973\n",
            "Epoch: [40]\n",
            "accuracy(validation): 0.6039999723434448\n",
            "Epoch: [41]\n",
            "accuracy(validation): 0.5879999995231628\n",
            "Epoch: [42]\n",
            "accuracy(validation): 0.5979999899864197\n",
            "Epoch: [43]\n",
            "accuracy(validation): 0.5920000076293945\n",
            "Epoch: [44]\n",
            "accuracy(validation): 0.593999981880188\n",
            "Epoch: [45]\n",
            "accuracy(validation): 0.5540000200271606\n",
            "Epoch: [46]\n",
            "accuracy(validation): 0.6039999723434448\n",
            "Epoch: [47]\n",
            "accuracy(validation): 0.6299999952316284\n",
            "Epoch: [48]\n",
            "accuracy(validation): 0.621999979019165\n",
            "Epoch: [49]\n",
            "accuracy(validation): 0.6179999709129333\n",
            "Epoch: [50]\n",
            "accuracy(validation): 0.6359999775886536\n",
            "Epoch: [51]\n",
            "accuracy(validation): 0.6539999842643738\n",
            "Epoch: [52]\n",
            "accuracy(validation): 0.6320000290870667\n",
            "Epoch: [53]\n",
            "accuracy(validation): 0.6480000019073486\n",
            "Epoch: [54]\n",
            "accuracy(validation): 0.6200000047683716\n",
            "Epoch: [55]\n",
            "accuracy(validation): 0.6579999923706055\n",
            "Epoch: [56]\n",
            "accuracy(validation): 0.6200000047683716\n",
            "Epoch: [57]\n",
            "accuracy(validation): 0.628000020980835\n",
            "Epoch: [58]\n",
            "accuracy(validation): 0.6340000033378601\n",
            "Epoch: [59]\n",
            "accuracy(validation): 0.6439999938011169\n",
            "Epoch: [60]\n",
            "accuracy(validation): 0.6579999923706055\n",
            "Epoch: [61]\n",
            "accuracy(validation): 0.6399999856948853\n",
            "Epoch: [62]\n",
            "accuracy(validation): 0.6520000100135803\n",
            "Epoch: [63]\n",
            "accuracy(validation): 0.6439999938011169\n",
            "Epoch: [64]\n",
            "accuracy(validation): 0.6460000276565552\n",
            "Epoch: [65]\n",
            "accuracy(validation): 0.6340000033378601\n",
            "Epoch: [66]\n",
            "accuracy(validation): 0.6499999761581421\n",
            "Epoch: [67]\n",
            "accuracy(validation): 0.6620000004768372\n",
            "Epoch: [68]\n",
            "accuracy(validation): 0.6480000019073486\n",
            "Epoch: [69]\n",
            "accuracy(validation): 0.6880000233650208\n",
            "Epoch: [70]\n",
            "accuracy(validation): 0.6499999761581421\n",
            "Epoch: [71]\n",
            "accuracy(validation): 0.6579999923706055\n",
            "Epoch: [72]\n",
            "accuracy(validation): 0.671999990940094\n",
            "Epoch: [73]\n",
            "accuracy(validation): 0.6579999923706055\n",
            "Epoch: [74]\n",
            "accuracy(validation): 0.6539999842643738\n",
            "Epoch: [75]\n",
            "accuracy(validation): 0.656000018119812\n",
            "Epoch: [76]\n",
            "accuracy(validation): 0.6660000085830688\n",
            "Epoch: [77]\n",
            "accuracy(validation): 0.671999990940094\n",
            "Epoch: [78]\n",
            "accuracy(validation): 0.6660000085830688\n",
            "Epoch: [79]\n",
            "accuracy(validation): 0.6759999990463257\n",
            "Epoch: [80]\n",
            "accuracy(validation): 0.6759999990463257\n",
            "Epoch: [81]\n",
            "accuracy(validation): 0.6759999990463257\n",
            "Epoch: [82]\n",
            "accuracy(validation): 0.656000018119812\n",
            "Epoch: [83]\n",
            "accuracy(validation): 0.6639999747276306\n",
            "Epoch: [84]\n",
            "accuracy(validation): 0.6539999842643738\n",
            "Epoch: [85]\n",
            "accuracy(validation): 0.6700000166893005\n",
            "Epoch: [86]\n",
            "accuracy(validation): 0.6520000100135803\n",
            "Epoch: [87]\n",
            "accuracy(validation): 0.6819999814033508\n",
            "Epoch: [88]\n",
            "accuracy(validation): 0.6600000262260437\n",
            "Epoch: [89]\n",
            "accuracy(validation): 0.6740000247955322\n",
            "Epoch: [90]\n",
            "accuracy(validation): 0.6700000166893005\n",
            "Epoch: [91]\n",
            "accuracy(validation): 0.671999990940094\n",
            "Epoch: [92]\n",
            "accuracy(validation): 0.6620000004768372\n",
            "Epoch: [93]\n",
            "accuracy(validation): 0.6779999732971191\n",
            "Epoch: [94]\n",
            "accuracy(validation): 0.6779999732971191\n",
            "Epoch: [95]\n",
            "accuracy(validation): 0.671999990940094\n",
            "Epoch: [96]\n",
            "accuracy(validation): 0.6779999732971191\n",
            "Epoch: [97]\n",
            "accuracy(validation): 0.6740000247955322\n",
            "Epoch: [98]\n",
            "accuracy(validation): 0.6740000247955322\n",
            "Epoch: [99]\n",
            "accuracy(validation): 0.6759999990463257\n"
          ]
        }
      ]
    },
    {
      "cell_type": "markdown",
      "source": [
        "## Output prediction"
      ],
      "metadata": {
        "id": "1TxAho4ETvFL"
      }
    },
    {
      "cell_type": "code",
      "source": [
        "test_data = []\n",
        "\n",
        "with open(f\"{TEST_PATH}/../sample_submission.csv\", newline=\"\") as csvfile:\n",
        "  for row in csv.reader(csvfile, delimiter=\",\"):\n",
        "    test_data.append(row)\n",
        "\n",
        "test_ds = Task1Dataset(test_data, TEST_PATH, return_filename=True)\n",
        "test_dl = DataLoader(test_ds, batch_size=500, num_workers=2, drop_last=False, shuffle=False)\n",
        "\n",
        "if os.path.exists(\"submission.csv\"):\n",
        "  fo = open(\"submission.csv\", mode=\"a\", newline=\"\")\n",
        "  csv_writer = csv.writer(fo)\n",
        "else:\n",
        "  fo = open(\"submission.csv\", mode=\"a\", newline=\"\")\n",
        "  csv_writer = csv.writer(fo)\n",
        "  csv_writer.writerow([\"filename\", \"label\"])\n",
        "\n",
        "model.eval()\n",
        "for image, filenames in test_dl:\n",
        "  image = image.to(device)\n",
        "\n",
        "  pred = model(image)\n",
        "  pred = torch.argmax(pred, dim=1)\n",
        "\n",
        "  for ind, filename in enumerate(filenames):\n",
        "    if (len(filename) < 3):\n",
        "      print(filename)\n",
        "    csv_writer.writerow([filename, str(pred[ind].item())])\n",
        "\n"
      ],
      "metadata": {
        "id": "uXuT2OBh_OQJ"
      },
      "execution_count": 20,
      "outputs": []
    },
    {
      "cell_type": "code",
      "source": [
        "for filename, _ in test_data:\n",
        "  if filename.startswith(\"task2\") or filename.startswith(\"task3\"):\n",
        "    # print(filename)\n",
        "    csv_writer.writerow([filename, 0])\n",
        "\n",
        "fo.close()"
      ],
      "metadata": {
        "id": "zrRN3JjkQSwy"
      },
      "execution_count": 21,
      "outputs": []
    },
    {
      "cell_type": "code",
      "source": [
        "!ls"
      ],
      "metadata": {
        "colab": {
          "base_uri": "https://localhost:8080/"
        },
        "id": "jEUfz2yGRsAm",
        "outputId": "aaabc053-2f10-4522-9df9-4218fee275e1"
      },
      "execution_count": 22,
      "outputs": [
        {
          "output_type": "stream",
          "name": "stdout",
          "text": [
            "captcha-hacker.zip  hw5.ipynb  input  submission.csv\n"
          ]
        }
      ]
    }
  ]
}