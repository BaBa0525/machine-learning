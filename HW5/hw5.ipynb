{
  "nbformat": 4,
  "nbformat_minor": 0,
  "metadata": {
    "colab": {
      "provenance": [],
      "mount_file_id": "1GFlmhACRNYpk3_oYq0kGLetPSeaSC3px",
      "authorship_tag": "ABX9TyORqYDKQ2UFGdB5l2c+qTYM",
      "include_colab_link": true
    },
    "kernelspec": {
      "name": "python3",
      "display_name": "Python 3"
    },
    "language_info": {
      "name": "python"
    },
    "gpuClass": "standard",
    "accelerator": "GPU"
  },
  "cells": [
    {
      "cell_type": "markdown",
      "metadata": {
        "id": "view-in-github",
        "colab_type": "text"
      },
      "source": [
        "<a href=\"https://colab.research.google.com/github/BaBa0525/machine-learning/blob/main/HW5/hw5.ipynb\" target=\"_parent\"><img src=\"https://colab.research.google.com/assets/colab-badge.svg\" alt=\"Open In Colab\"/></a>"
      ]
    },
    {
      "cell_type": "markdown",
      "source": [
        "## Import package"
      ],
      "metadata": {
        "id": "yD3lJvhJS6nl"
      }
    },
    {
      "cell_type": "code",
      "source": [
        "import csv\n",
        "import cv2\n",
        "import numpy as np\n",
        "import random\n",
        "import os\n",
        "\n",
        "from tqdm import tqdm\n",
        "\n",
        "import torch\n",
        "import torch.nn as nn\n",
        "from torch.utils.data import Dataset, DataLoader"
      ],
      "metadata": {
        "id": "FHtAe_HuosC8"
      },
      "execution_count": null,
      "outputs": []
    },
    {
      "cell_type": "markdown",
      "source": [
        "## Mount Google Drive"
      ],
      "metadata": {
        "id": "VaNoXf6KOvdd"
      }
    },
    {
      "cell_type": "code",
      "execution_count": null,
      "metadata": {
        "id": "O4ft1IQlWPuJ",
        "colab": {
          "base_uri": "https://localhost:8080/"
        },
        "outputId": "97395945-55c1-4d12-bc2a-d9c6dcdb7f70"
      },
      "outputs": [
        {
          "output_type": "stream",
          "name": "stdout",
          "text": [
            "Mounted at /content/drive\n"
          ]
        }
      ],
      "source": [
        "from google.colab import drive\n",
        "drive.mount('/content/drive')"
      ]
    },
    {
      "cell_type": "code",
      "source": [
        "%cd /content/drive/MyDrive/Colab\\ Notebooks/ML-HW5\n",
        "!ls"
      ],
      "metadata": {
        "colab": {
          "base_uri": "https://localhost:8080/"
        },
        "id": "hvIA3ZGlNbRZ",
        "outputId": "299bc8f1-d68b-4ac7-8697-201e3ec01d5f"
      },
      "execution_count": null,
      "outputs": [
        {
          "output_type": "stream",
          "name": "stdout",
          "text": [
            "/content/drive/MyDrive/Colab Notebooks/ML-HW5\n",
            "captcha-hacker.zip  hw5.ipynb  input  submission.csv\n"
          ]
        }
      ]
    },
    {
      "cell_type": "code",
      "source": [
        "device = torch.device(\"cuda:0\" if torch.cuda.is_available() else \"cpu\")\n",
        "print(device)"
      ],
      "metadata": {
        "colab": {
          "base_uri": "https://localhost:8080/"
        },
        "id": "CvIISexbEya_",
        "outputId": "ff95a390-2c04-41af-a410-e185aafe5305"
      },
      "execution_count": null,
      "outputs": [
        {
          "output_type": "stream",
          "name": "stdout",
          "text": [
            "cuda:0\n"
          ]
        }
      ]
    },
    {
      "cell_type": "markdown",
      "source": [
        "## Check dataset"
      ],
      "metadata": {
        "id": "cDayX5xvn6Wj"
      }
    },
    {
      "cell_type": "code",
      "source": [
        "# import os\n",
        "\n",
        "# for dirname, _, filenames in os.walk('./input'):\n",
        "#     for filename in filenames[:3]:\n",
        "#         print(os.path.join(dirname, filename))\n",
        "#     if len(filenames) > 3:\n",
        "#         print(\"...\")\n"
      ],
      "metadata": {
        "id": "NUuO3vFvPF-7"
      },
      "execution_count": null,
      "outputs": []
    },
    {
      "cell_type": "code",
      "source": [
        "TRAIN_PATH = \"./input/train\"\n",
        "TEST_PATH = \"./input/test\""
      ],
      "metadata": {
        "id": "LuzXy6gOn_H9"
      },
      "execution_count": null,
      "outputs": []
    },
    {
      "cell_type": "markdown",
      "source": [
        "## Dataset Class"
      ],
      "metadata": {
        "id": "RgBf6bJbTVa3"
      }
    },
    {
      "cell_type": "code",
      "source": [
        "class Task1Dataset(Dataset):\n",
        "  def __init__(self, data, root, return_filename=False):\n",
        "    self.data = [sample for sample in data if sample[0].startswith(\"task1\")]\n",
        "    self.return_filename = return_filename\n",
        "    self.root = root\n",
        "\n",
        "  def __getitem__(self, index):\n",
        "    filename, label = self.data[index]\n",
        "    img = cv2.imread(f\"{self.root}/{filename}\")\n",
        "    img = cv2.resize(img, (32, 32))\n",
        "    img = np.mean(img, axis=2)\n",
        "    if self.return_filename:\n",
        "      return torch.FloatTensor((img - 128) / 128), filename\n",
        "\n",
        "    return torch.FloatTensor((img - 128) / 128), int(label)\n",
        "\n",
        "  def __len__(self):\n",
        "    return len(self.data)\n",
        "    "
      ],
      "metadata": {
        "id": "4p7tNXYWoTLB"
      },
      "execution_count": null,
      "outputs": []
    },
    {
      "cell_type": "markdown",
      "source": [
        "## Model Class"
      ],
      "metadata": {
        "id": "MCOj-iEyThI1"
      }
    },
    {
      "cell_type": "code",
      "source": [
        "class Model(nn.Module):\n",
        "  def __init__(self):\n",
        "    super().__init__()\n",
        "    self.layers = nn.Sequential(\n",
        "        nn.Conv2d(in_channels=1, out_channels=3, kernel_size=5),\n",
        "        nn.LeakyReLU(),\n",
        "        nn.MaxPool2d(kernel_size=2, stride=2),\n",
        "        nn.Conv2d(in_channels=3, out_channels=9, kernel_size=5),\n",
        "        nn.LeakyReLU(),\n",
        "        nn.MaxPool2d(kernel_size=2, stride=2),\n",
        "        nn.Flatten(),\n",
        "        nn.Linear(9 * 5 * 5, 100),\n",
        "        nn.LeakyReLU(),\n",
        "        nn.Linear(100, 50),\n",
        "        nn.LeakyReLU(),\n",
        "        nn.Linear(50, 10)\n",
        "    )\n",
        "\n",
        "  def forward(self, x):\n",
        "    # print(f\"{x.shape=}\")\n",
        "    # b, h, w = x.shape\n",
        "    # x = x.view(b, h*w)\n",
        "    x = x[:, np.newaxis, :]\n",
        "    print(f\"{x.shape=}\")\n",
        "    return self.layers(x)"
      ],
      "metadata": {
        "id": "m4Kswa6zxEKF"
      },
      "execution_count": null,
      "outputs": []
    },
    {
      "cell_type": "markdown",
      "source": [
        "## Process training data"
      ],
      "metadata": {
        "id": "If5DC9MpTlS_"
      }
    },
    {
      "cell_type": "code",
      "source": [
        "train_data = []\n",
        "val_data = []\n",
        "\n",
        "with open(f\"{TRAIN_PATH}/annotations.csv\", newline=\"\") as csvfile:\n",
        "  for row in csv.reader(csvfile, delimiter=\",\"):\n",
        "    if random.random() < 0.7:\n",
        "      train_data.append(row)\n",
        "    else:\n",
        "      val_data.append(row)\n",
        "\n",
        "train_ds = Task1Dataset(train_data, TRAIN_PATH)\n",
        "train_dl = DataLoader(train_ds, batch_size=500, drop_last=True, shuffle=True)\n",
        "\n",
        "val_ds = Task1Dataset(val_data, TRAIN_PATH)\n",
        "val_dl = DataLoader(val_ds, batch_size=500, drop_last=True, shuffle=True)"
      ],
      "metadata": {
        "id": "ixhLc15Fyc45"
      },
      "execution_count": null,
      "outputs": []
    },
    {
      "cell_type": "markdown",
      "source": [
        "## Training"
      ],
      "metadata": {
        "id": "1qkxKDNmTqi4"
      }
    },
    {
      "cell_type": "code",
      "source": [
        "model = Model().to(device)\n",
        "optimizer = torch.optim.Adam(params=model.parameters(), lr=1e-3)\n",
        "loss_fn = nn.CrossEntropyLoss()\n",
        "\n",
        "for epoch in tqdm(range(100), leave=True):\n",
        "  print(f\"Epoch: [{epoch}]\")\n",
        "\n",
        "  model.train()\n",
        "  for image, label in train_dl:\n",
        "    print(\"---\")\n",
        "    image = image.to(device)\n",
        "    label = label.to(device)\n",
        "\n",
        "    pred = model(image)\n",
        "    loss = loss_fn(pred, label)\n",
        "\n",
        "    optimizer.zero_grad()\n",
        "    loss.backward()\n",
        "    optimizer.step()\n",
        "\n",
        "  sample_count = 0\n",
        "  correct_count = 0\n",
        "\n",
        "  model.eval()\n",
        "  for image, label in val_dl:\n",
        "    image = image.to(device)\n",
        "    label = label.to(device)\n",
        "\n",
        "    pred = model(image)\n",
        "    loss = loss_fn(pred, label)\n",
        "\n",
        "    pred = torch.argmax(pred, dim=1)\n",
        "\n",
        "    sample_count += len(image)\n",
        "    correct_count += (label == pred).sum()\n",
        "\n",
        "  print(f\"accuracy(validation): {correct_count / sample_count}\")\n",
        "\n"
      ],
      "metadata": {
        "colab": {
          "base_uri": "https://localhost:8080/"
        },
        "id": "HMAUiroR0dCr",
        "outputId": "bc9431f8-acd0-445f-d8ca-45f485f0af9d"
      },
      "execution_count": null,
      "outputs": [
        {
          "output_type": "stream",
          "name": "stderr",
          "text": [
            "\r  0%|          | 0/100 [00:00<?, ?it/s]"
          ]
        },
        {
          "output_type": "stream",
          "name": "stdout",
          "text": [
            "Epoch: [0]\n",
            "---\n",
            "x.shape=torch.Size([500, 1, 32, 32])\n",
            "---\n",
            "x.shape=torch.Size([500, 1, 32, 32])\n"
          ]
        },
        {
          "output_type": "stream",
          "name": "stderr",
          "text": [
            "\r  1%|          | 1/100 [05:54<9:44:31, 354.26s/it]"
          ]
        },
        {
          "output_type": "stream",
          "name": "stdout",
          "text": [
            "x.shape=torch.Size([500, 1, 32, 32])\n",
            "accuracy(validation): 0.11800000816583633\n",
            "Epoch: [1]\n",
            "---\n",
            "x.shape=torch.Size([500, 1, 32, 32])\n",
            "---\n",
            "x.shape=torch.Size([500, 1, 32, 32])\n"
          ]
        },
        {
          "output_type": "stream",
          "name": "stderr",
          "text": [
            "\r  2%|▏         | 2/100 [07:18<5:18:51, 195.22s/it]"
          ]
        },
        {
          "output_type": "stream",
          "name": "stdout",
          "text": [
            "x.shape=torch.Size([500, 1, 32, 32])\n",
            "accuracy(validation): 0.11000000685453415\n",
            "Epoch: [2]\n",
            "---\n",
            "x.shape=torch.Size([500, 1, 32, 32])\n",
            "---\n",
            "x.shape=torch.Size([500, 1, 32, 32])\n"
          ]
        },
        {
          "output_type": "stream",
          "name": "stderr",
          "text": [
            "\r  3%|▎         | 3/100 [07:44<3:11:15, 118.30s/it]"
          ]
        },
        {
          "output_type": "stream",
          "name": "stdout",
          "text": [
            "x.shape=torch.Size([500, 1, 32, 32])\n",
            "accuracy(validation): 0.11400000751018524\n",
            "Epoch: [3]\n",
            "---\n",
            "x.shape=torch.Size([500, 1, 32, 32])\n",
            "---\n",
            "x.shape=torch.Size([500, 1, 32, 32])\n"
          ]
        },
        {
          "output_type": "stream",
          "name": "stderr",
          "text": [
            "\r  4%|▍         | 4/100 [07:54<2:00:45, 75.47s/it] "
          ]
        },
        {
          "output_type": "stream",
          "name": "stdout",
          "text": [
            "x.shape=torch.Size([500, 1, 32, 32])\n",
            "accuracy(validation): 0.11800000816583633\n",
            "Epoch: [4]\n",
            "---\n",
            "x.shape=torch.Size([500, 1, 32, 32])\n",
            "---\n",
            "x.shape=torch.Size([500, 1, 32, 32])\n"
          ]
        },
        {
          "output_type": "stream",
          "name": "stderr",
          "text": [
            "\r  5%|▌         | 5/100 [07:59<1:19:06, 49.96s/it]"
          ]
        },
        {
          "output_type": "stream",
          "name": "stdout",
          "text": [
            "x.shape=torch.Size([500, 1, 32, 32])\n",
            "accuracy(validation): 0.11600000411272049\n",
            "Epoch: [5]\n",
            "---\n",
            "x.shape=torch.Size([500, 1, 32, 32])\n",
            "---\n",
            "x.shape=torch.Size([500, 1, 32, 32])\n"
          ]
        },
        {
          "output_type": "stream",
          "name": "stderr",
          "text": [
            "\r  6%|▌         | 6/100 [08:02<53:28, 34.13s/it]  "
          ]
        },
        {
          "output_type": "stream",
          "name": "stdout",
          "text": [
            "x.shape=torch.Size([500, 1, 32, 32])\n",
            "accuracy(validation): 0.11600000411272049\n",
            "Epoch: [6]\n",
            "---\n",
            "x.shape=torch.Size([500, 1, 32, 32])\n",
            "---\n",
            "x.shape=torch.Size([500, 1, 32, 32])\n"
          ]
        },
        {
          "output_type": "stream",
          "name": "stderr",
          "text": [
            "\r  7%|▋         | 7/100 [08:06<37:13, 24.02s/it]"
          ]
        },
        {
          "output_type": "stream",
          "name": "stdout",
          "text": [
            "x.shape=torch.Size([500, 1, 32, 32])\n",
            "accuracy(validation): 0.11400000751018524\n",
            "Epoch: [7]\n",
            "---\n",
            "x.shape=torch.Size([500, 1, 32, 32])\n",
            "---\n",
            "x.shape=torch.Size([500, 1, 32, 32])\n"
          ]
        },
        {
          "output_type": "stream",
          "name": "stderr",
          "text": [
            "\r  8%|▊         | 8/100 [08:08<26:25, 17.23s/it]"
          ]
        },
        {
          "output_type": "stream",
          "name": "stdout",
          "text": [
            "x.shape=torch.Size([500, 1, 32, 32])\n",
            "accuracy(validation): 0.12400000542402267\n",
            "Epoch: [8]\n",
            "---\n",
            "x.shape=torch.Size([500, 1, 32, 32])\n",
            "---\n",
            "x.shape=torch.Size([500, 1, 32, 32])\n"
          ]
        },
        {
          "output_type": "stream",
          "name": "stderr",
          "text": [
            "\r  9%|▉         | 9/100 [08:11<19:14, 12.68s/it]"
          ]
        },
        {
          "output_type": "stream",
          "name": "stdout",
          "text": [
            "x.shape=torch.Size([500, 1, 32, 32])\n",
            "accuracy(validation): 0.12600000202655792\n",
            "Epoch: [9]\n",
            "---\n",
            "x.shape=torch.Size([500, 1, 32, 32])\n",
            "---\n",
            "x.shape=torch.Size([500, 1, 32, 32])\n"
          ]
        },
        {
          "output_type": "stream",
          "name": "stderr",
          "text": [
            "\r 10%|█         | 10/100 [08:14<14:23,  9.60s/it]"
          ]
        },
        {
          "output_type": "stream",
          "name": "stdout",
          "text": [
            "x.shape=torch.Size([500, 1, 32, 32])\n",
            "accuracy(validation): 0.14800000190734863\n",
            "Epoch: [10]\n",
            "---\n",
            "x.shape=torch.Size([500, 1, 32, 32])\n",
            "---\n",
            "x.shape=torch.Size([500, 1, 32, 32])\n"
          ]
        },
        {
          "output_type": "stream",
          "name": "stderr",
          "text": [
            "\r 11%|█         | 11/100 [08:16<11:09,  7.53s/it]"
          ]
        },
        {
          "output_type": "stream",
          "name": "stdout",
          "text": [
            "x.shape=torch.Size([500, 1, 32, 32])\n",
            "accuracy(validation): 0.17000000178813934\n",
            "Epoch: [11]\n",
            "---\n",
            "x.shape=torch.Size([500, 1, 32, 32])\n",
            "---\n",
            "x.shape=torch.Size([500, 1, 32, 32])\n"
          ]
        },
        {
          "output_type": "stream",
          "name": "stderr",
          "text": [
            "\r 12%|█▏        | 12/100 [08:19<08:54,  6.07s/it]"
          ]
        },
        {
          "output_type": "stream",
          "name": "stdout",
          "text": [
            "x.shape=torch.Size([500, 1, 32, 32])\n",
            "accuracy(validation): 0.17400000989437103\n",
            "Epoch: [12]\n",
            "---\n",
            "x.shape=torch.Size([500, 1, 32, 32])\n",
            "---\n",
            "x.shape=torch.Size([500, 1, 32, 32])\n"
          ]
        },
        {
          "output_type": "stream",
          "name": "stderr",
          "text": [
            "\r 13%|█▎        | 13/100 [08:22<07:19,  5.06s/it]"
          ]
        },
        {
          "output_type": "stream",
          "name": "stdout",
          "text": [
            "x.shape=torch.Size([500, 1, 32, 32])\n",
            "accuracy(validation): 0.15200001001358032\n",
            "Epoch: [13]\n",
            "---\n",
            "x.shape=torch.Size([500, 1, 32, 32])\n",
            "---\n",
            "x.shape=torch.Size([500, 1, 32, 32])\n"
          ]
        },
        {
          "output_type": "stream",
          "name": "stderr",
          "text": [
            "\r 14%|█▍        | 14/100 [08:25<06:15,  4.37s/it]"
          ]
        },
        {
          "output_type": "stream",
          "name": "stdout",
          "text": [
            "x.shape=torch.Size([500, 1, 32, 32])\n",
            "accuracy(validation): 0.164000004529953\n",
            "Epoch: [14]\n",
            "---\n",
            "x.shape=torch.Size([500, 1, 32, 32])\n",
            "---\n",
            "x.shape=torch.Size([500, 1, 32, 32])\n"
          ]
        },
        {
          "output_type": "stream",
          "name": "stderr",
          "text": [
            "\r 15%|█▌        | 15/100 [08:28<05:31,  3.89s/it]"
          ]
        },
        {
          "output_type": "stream",
          "name": "stdout",
          "text": [
            "x.shape=torch.Size([500, 1, 32, 32])\n",
            "accuracy(validation): 0.1600000113248825\n",
            "Epoch: [15]\n",
            "---\n",
            "x.shape=torch.Size([500, 1, 32, 32])\n",
            "---\n",
            "x.shape=torch.Size([500, 1, 32, 32])\n"
          ]
        },
        {
          "output_type": "stream",
          "name": "stderr",
          "text": [
            "\r 16%|█▌        | 16/100 [08:30<04:58,  3.55s/it]"
          ]
        },
        {
          "output_type": "stream",
          "name": "stdout",
          "text": [
            "x.shape=torch.Size([500, 1, 32, 32])\n",
            "accuracy(validation): 0.18400001525878906\n",
            "Epoch: [16]\n",
            "---\n",
            "x.shape=torch.Size([500, 1, 32, 32])\n",
            "---\n",
            "x.shape=torch.Size([500, 1, 32, 32])\n"
          ]
        },
        {
          "output_type": "stream",
          "name": "stderr",
          "text": [
            "\r 17%|█▋        | 17/100 [08:33<04:34,  3.31s/it]"
          ]
        },
        {
          "output_type": "stream",
          "name": "stdout",
          "text": [
            "x.shape=torch.Size([500, 1, 32, 32])\n",
            "accuracy(validation): 0.18800000846385956\n",
            "Epoch: [17]\n",
            "---\n",
            "x.shape=torch.Size([500, 1, 32, 32])\n",
            "---\n",
            "x.shape=torch.Size([500, 1, 32, 32])\n"
          ]
        },
        {
          "output_type": "stream",
          "name": "stderr",
          "text": [
            "\r 18%|█▊        | 18/100 [08:36<04:17,  3.14s/it]"
          ]
        },
        {
          "output_type": "stream",
          "name": "stdout",
          "text": [
            "x.shape=torch.Size([500, 1, 32, 32])\n",
            "accuracy(validation): 0.1940000057220459\n",
            "Epoch: [18]\n",
            "---\n",
            "x.shape=torch.Size([500, 1, 32, 32])\n",
            "---\n",
            "x.shape=torch.Size([500, 1, 32, 32])\n"
          ]
        },
        {
          "output_type": "stream",
          "name": "stderr",
          "text": [
            "\r 19%|█▉        | 19/100 [08:39<04:05,  3.03s/it]"
          ]
        },
        {
          "output_type": "stream",
          "name": "stdout",
          "text": [
            "x.shape=torch.Size([500, 1, 32, 32])\n",
            "accuracy(validation): 0.25\n",
            "Epoch: [19]\n",
            "---\n",
            "x.shape=torch.Size([500, 1, 32, 32])\n",
            "---\n",
            "x.shape=torch.Size([500, 1, 32, 32])\n"
          ]
        },
        {
          "output_type": "stream",
          "name": "stderr",
          "text": [
            "\r 20%|██        | 20/100 [08:41<03:56,  2.96s/it]"
          ]
        },
        {
          "output_type": "stream",
          "name": "stdout",
          "text": [
            "x.shape=torch.Size([500, 1, 32, 32])\n",
            "accuracy(validation): 0.24000000953674316\n",
            "Epoch: [20]\n",
            "---\n",
            "x.shape=torch.Size([500, 1, 32, 32])\n",
            "---\n",
            "x.shape=torch.Size([500, 1, 32, 32])\n"
          ]
        },
        {
          "output_type": "stream",
          "name": "stderr",
          "text": [
            "\r 21%|██        | 21/100 [08:44<03:48,  2.89s/it]"
          ]
        },
        {
          "output_type": "stream",
          "name": "stdout",
          "text": [
            "x.shape=torch.Size([500, 1, 32, 32])\n",
            "accuracy(validation): 0.23000000417232513\n",
            "Epoch: [21]\n",
            "---\n",
            "x.shape=torch.Size([500, 1, 32, 32])\n",
            "---\n",
            "x.shape=torch.Size([500, 1, 32, 32])\n"
          ]
        },
        {
          "output_type": "stream",
          "name": "stderr",
          "text": [
            "\r 22%|██▏       | 22/100 [08:47<03:42,  2.85s/it]"
          ]
        },
        {
          "output_type": "stream",
          "name": "stdout",
          "text": [
            "x.shape=torch.Size([500, 1, 32, 32])\n",
            "accuracy(validation): 0.2540000081062317\n",
            "Epoch: [22]\n",
            "---\n",
            "x.shape=torch.Size([500, 1, 32, 32])\n",
            "---\n",
            "x.shape=torch.Size([500, 1, 32, 32])\n"
          ]
        },
        {
          "output_type": "stream",
          "name": "stderr",
          "text": [
            "\r 23%|██▎       | 23/100 [08:50<03:37,  2.82s/it]"
          ]
        },
        {
          "output_type": "stream",
          "name": "stdout",
          "text": [
            "x.shape=torch.Size([500, 1, 32, 32])\n",
            "accuracy(validation): 0.27000001072883606\n",
            "Epoch: [23]\n",
            "---\n",
            "x.shape=torch.Size([500, 1, 32, 32])\n",
            "---\n",
            "x.shape=torch.Size([500, 1, 32, 32])\n"
          ]
        },
        {
          "output_type": "stream",
          "name": "stderr",
          "text": [
            "\r 24%|██▍       | 24/100 [08:52<03:32,  2.80s/it]"
          ]
        },
        {
          "output_type": "stream",
          "name": "stdout",
          "text": [
            "x.shape=torch.Size([500, 1, 32, 32])\n",
            "accuracy(validation): 0.29600000381469727\n",
            "Epoch: [24]\n",
            "---\n",
            "x.shape=torch.Size([500, 1, 32, 32])\n",
            "---\n",
            "x.shape=torch.Size([500, 1, 32, 32])\n"
          ]
        },
        {
          "output_type": "stream",
          "name": "stderr",
          "text": [
            "\r 25%|██▌       | 25/100 [08:55<03:29,  2.80s/it]"
          ]
        },
        {
          "output_type": "stream",
          "name": "stdout",
          "text": [
            "x.shape=torch.Size([500, 1, 32, 32])\n",
            "accuracy(validation): 0.31200000643730164\n",
            "Epoch: [25]\n",
            "---\n",
            "x.shape=torch.Size([500, 1, 32, 32])\n",
            "---\n",
            "x.shape=torch.Size([500, 1, 32, 32])\n"
          ]
        },
        {
          "output_type": "stream",
          "name": "stderr",
          "text": [
            "\r 26%|██▌       | 26/100 [08:58<03:25,  2.77s/it]"
          ]
        },
        {
          "output_type": "stream",
          "name": "stdout",
          "text": [
            "x.shape=torch.Size([500, 1, 32, 32])\n",
            "accuracy(validation): 0.3240000009536743\n",
            "Epoch: [26]\n",
            "---\n",
            "x.shape=torch.Size([500, 1, 32, 32])\n",
            "---\n",
            "x.shape=torch.Size([500, 1, 32, 32])\n"
          ]
        },
        {
          "output_type": "stream",
          "name": "stderr",
          "text": [
            "\r 27%|██▋       | 27/100 [09:01<03:21,  2.76s/it]"
          ]
        },
        {
          "output_type": "stream",
          "name": "stdout",
          "text": [
            "x.shape=torch.Size([500, 1, 32, 32])\n",
            "accuracy(validation): 0.32200002670288086\n",
            "Epoch: [27]\n",
            "---\n",
            "x.shape=torch.Size([500, 1, 32, 32])\n",
            "---\n",
            "x.shape=torch.Size([500, 1, 32, 32])\n"
          ]
        },
        {
          "output_type": "stream",
          "name": "stderr",
          "text": [
            "\r 28%|██▊       | 28/100 [09:03<03:18,  2.75s/it]"
          ]
        },
        {
          "output_type": "stream",
          "name": "stdout",
          "text": [
            "x.shape=torch.Size([500, 1, 32, 32])\n",
            "accuracy(validation): 0.33800002932548523\n",
            "Epoch: [28]\n",
            "---\n",
            "x.shape=torch.Size([500, 1, 32, 32])\n",
            "---\n",
            "x.shape=torch.Size([500, 1, 32, 32])\n"
          ]
        },
        {
          "output_type": "stream",
          "name": "stderr",
          "text": [
            "\r 29%|██▉       | 29/100 [09:06<03:17,  2.78s/it]"
          ]
        },
        {
          "output_type": "stream",
          "name": "stdout",
          "text": [
            "x.shape=torch.Size([500, 1, 32, 32])\n",
            "accuracy(validation): 0.3660000264644623\n",
            "Epoch: [29]\n",
            "---\n",
            "x.shape=torch.Size([500, 1, 32, 32])\n",
            "---\n",
            "x.shape=torch.Size([500, 1, 32, 32])\n"
          ]
        },
        {
          "output_type": "stream",
          "name": "stderr",
          "text": [
            "\r 30%|███       | 30/100 [09:09<03:12,  2.75s/it]"
          ]
        },
        {
          "output_type": "stream",
          "name": "stdout",
          "text": [
            "x.shape=torch.Size([500, 1, 32, 32])\n",
            "accuracy(validation): 0.4020000100135803\n",
            "Epoch: [30]\n",
            "---\n",
            "x.shape=torch.Size([500, 1, 32, 32])\n",
            "---\n",
            "x.shape=torch.Size([500, 1, 32, 32])\n"
          ]
        },
        {
          "output_type": "stream",
          "name": "stderr",
          "text": [
            "\r 31%|███       | 31/100 [09:12<03:09,  2.75s/it]"
          ]
        },
        {
          "output_type": "stream",
          "name": "stdout",
          "text": [
            "x.shape=torch.Size([500, 1, 32, 32])\n",
            "accuracy(validation): 0.4140000343322754\n",
            "Epoch: [31]\n",
            "---\n",
            "x.shape=torch.Size([500, 1, 32, 32])\n",
            "---\n",
            "x.shape=torch.Size([500, 1, 32, 32])\n"
          ]
        },
        {
          "output_type": "stream",
          "name": "stderr",
          "text": [
            "\r 32%|███▏      | 32/100 [09:14<03:07,  2.76s/it]"
          ]
        },
        {
          "output_type": "stream",
          "name": "stdout",
          "text": [
            "x.shape=torch.Size([500, 1, 32, 32])\n",
            "accuracy(validation): 0.39000001549720764\n",
            "Epoch: [32]\n",
            "---\n",
            "x.shape=torch.Size([500, 1, 32, 32])\n",
            "---\n",
            "x.shape=torch.Size([500, 1, 32, 32])\n"
          ]
        },
        {
          "output_type": "stream",
          "name": "stderr",
          "text": [
            "\r 33%|███▎      | 33/100 [09:17<03:05,  2.77s/it]"
          ]
        },
        {
          "output_type": "stream",
          "name": "stdout",
          "text": [
            "x.shape=torch.Size([500, 1, 32, 32])\n",
            "accuracy(validation): 0.4300000071525574\n",
            "Epoch: [33]\n",
            "---\n",
            "x.shape=torch.Size([500, 1, 32, 32])\n",
            "---\n",
            "x.shape=torch.Size([500, 1, 32, 32])\n"
          ]
        },
        {
          "output_type": "stream",
          "name": "stderr",
          "text": [
            "\r 34%|███▍      | 34/100 [09:20<03:02,  2.77s/it]"
          ]
        },
        {
          "output_type": "stream",
          "name": "stdout",
          "text": [
            "x.shape=torch.Size([500, 1, 32, 32])\n",
            "accuracy(validation): 0.47200003266334534\n",
            "Epoch: [34]\n",
            "---\n",
            "x.shape=torch.Size([500, 1, 32, 32])\n",
            "---\n",
            "x.shape=torch.Size([500, 1, 32, 32])\n"
          ]
        },
        {
          "output_type": "stream",
          "name": "stderr",
          "text": [
            "\r 35%|███▌      | 35/100 [09:23<03:00,  2.77s/it]"
          ]
        },
        {
          "output_type": "stream",
          "name": "stdout",
          "text": [
            "x.shape=torch.Size([500, 1, 32, 32])\n",
            "accuracy(validation): 0.46400001645088196\n",
            "Epoch: [35]\n",
            "---\n",
            "x.shape=torch.Size([500, 1, 32, 32])\n",
            "---\n",
            "x.shape=torch.Size([500, 1, 32, 32])\n"
          ]
        },
        {
          "output_type": "stream",
          "name": "stderr",
          "text": [
            "\r 36%|███▌      | 36/100 [09:25<02:57,  2.77s/it]"
          ]
        },
        {
          "output_type": "stream",
          "name": "stdout",
          "text": [
            "x.shape=torch.Size([500, 1, 32, 32])\n",
            "accuracy(validation): 0.49400001764297485\n",
            "Epoch: [36]\n",
            "---\n",
            "x.shape=torch.Size([500, 1, 32, 32])\n",
            "---\n",
            "x.shape=torch.Size([500, 1, 32, 32])\n"
          ]
        },
        {
          "output_type": "stream",
          "name": "stderr",
          "text": [
            "\r 37%|███▋      | 37/100 [09:28<02:54,  2.77s/it]"
          ]
        },
        {
          "output_type": "stream",
          "name": "stdout",
          "text": [
            "x.shape=torch.Size([500, 1, 32, 32])\n",
            "accuracy(validation): 0.5200000405311584\n",
            "Epoch: [37]\n",
            "---\n",
            "x.shape=torch.Size([500, 1, 32, 32])\n",
            "---\n",
            "x.shape=torch.Size([500, 1, 32, 32])\n"
          ]
        },
        {
          "output_type": "stream",
          "name": "stderr",
          "text": [
            "\r 38%|███▊      | 38/100 [09:31<02:51,  2.76s/it]"
          ]
        },
        {
          "output_type": "stream",
          "name": "stdout",
          "text": [
            "x.shape=torch.Size([500, 1, 32, 32])\n",
            "accuracy(validation): 0.5360000133514404\n",
            "Epoch: [38]\n",
            "---\n",
            "x.shape=torch.Size([500, 1, 32, 32])\n",
            "---\n",
            "x.shape=torch.Size([500, 1, 32, 32])\n"
          ]
        },
        {
          "output_type": "stream",
          "name": "stderr",
          "text": [
            "\r 39%|███▉      | 39/100 [09:34<02:48,  2.76s/it]"
          ]
        },
        {
          "output_type": "stream",
          "name": "stdout",
          "text": [
            "x.shape=torch.Size([500, 1, 32, 32])\n",
            "accuracy(validation): 0.5540000200271606\n",
            "Epoch: [39]\n",
            "---\n",
            "x.shape=torch.Size([500, 1, 32, 32])\n",
            "---\n",
            "x.shape=torch.Size([500, 1, 32, 32])\n"
          ]
        },
        {
          "output_type": "stream",
          "name": "stderr",
          "text": [
            "\r 40%|████      | 40/100 [09:36<02:45,  2.77s/it]"
          ]
        },
        {
          "output_type": "stream",
          "name": "stdout",
          "text": [
            "x.shape=torch.Size([500, 1, 32, 32])\n",
            "accuracy(validation): 0.5420000553131104\n",
            "Epoch: [40]\n",
            "---\n",
            "x.shape=torch.Size([500, 1, 32, 32])\n",
            "---\n",
            "x.shape=torch.Size([500, 1, 32, 32])\n"
          ]
        },
        {
          "output_type": "stream",
          "name": "stderr",
          "text": [
            "\r 41%|████      | 41/100 [09:39<02:43,  2.77s/it]"
          ]
        },
        {
          "output_type": "stream",
          "name": "stdout",
          "text": [
            "x.shape=torch.Size([500, 1, 32, 32])\n",
            "accuracy(validation): 0.5520000457763672\n",
            "Epoch: [41]\n",
            "---\n",
            "x.shape=torch.Size([500, 1, 32, 32])\n",
            "---\n",
            "x.shape=torch.Size([500, 1, 32, 32])\n"
          ]
        },
        {
          "output_type": "stream",
          "name": "stderr",
          "text": [
            "\r 42%|████▏     | 42/100 [09:42<02:39,  2.75s/it]"
          ]
        },
        {
          "output_type": "stream",
          "name": "stdout",
          "text": [
            "x.shape=torch.Size([500, 1, 32, 32])\n",
            "accuracy(validation): 0.550000011920929\n",
            "Epoch: [42]\n",
            "---\n",
            "x.shape=torch.Size([500, 1, 32, 32])\n",
            "---\n",
            "x.shape=torch.Size([500, 1, 32, 32])\n"
          ]
        },
        {
          "output_type": "stream",
          "name": "stderr",
          "text": [
            "\r 43%|████▎     | 43/100 [09:45<02:37,  2.76s/it]"
          ]
        },
        {
          "output_type": "stream",
          "name": "stdout",
          "text": [
            "x.shape=torch.Size([500, 1, 32, 32])\n",
            "accuracy(validation): 0.5600000023841858\n",
            "Epoch: [43]\n",
            "---\n",
            "x.shape=torch.Size([500, 1, 32, 32])\n",
            "---\n",
            "x.shape=torch.Size([500, 1, 32, 32])\n"
          ]
        },
        {
          "output_type": "stream",
          "name": "stderr",
          "text": [
            "\r 44%|████▍     | 44/100 [09:47<02:34,  2.75s/it]"
          ]
        },
        {
          "output_type": "stream",
          "name": "stdout",
          "text": [
            "x.shape=torch.Size([500, 1, 32, 32])\n",
            "accuracy(validation): 0.5879999995231628\n",
            "Epoch: [44]\n",
            "---\n",
            "x.shape=torch.Size([500, 1, 32, 32])\n",
            "---\n",
            "x.shape=torch.Size([500, 1, 32, 32])\n"
          ]
        },
        {
          "output_type": "stream",
          "name": "stderr",
          "text": [
            "\r 45%|████▌     | 45/100 [09:50<02:32,  2.77s/it]"
          ]
        },
        {
          "output_type": "stream",
          "name": "stdout",
          "text": [
            "x.shape=torch.Size([500, 1, 32, 32])\n",
            "accuracy(validation): 0.5960000157356262\n",
            "Epoch: [45]\n",
            "---\n",
            "x.shape=torch.Size([500, 1, 32, 32])\n",
            "---\n",
            "x.shape=torch.Size([500, 1, 32, 32])\n"
          ]
        },
        {
          "output_type": "stream",
          "name": "stderr",
          "text": [
            "\r 46%|████▌     | 46/100 [09:53<02:32,  2.83s/it]"
          ]
        },
        {
          "output_type": "stream",
          "name": "stdout",
          "text": [
            "x.shape=torch.Size([500, 1, 32, 32])\n",
            "accuracy(validation): 0.5940000414848328\n",
            "Epoch: [46]\n",
            "---\n",
            "x.shape=torch.Size([500, 1, 32, 32])\n",
            "---\n",
            "x.shape=torch.Size([500, 1, 32, 32])\n"
          ]
        },
        {
          "output_type": "stream",
          "name": "stderr",
          "text": [
            "\r 47%|████▋     | 47/100 [09:56<02:28,  2.81s/it]"
          ]
        },
        {
          "output_type": "stream",
          "name": "stdout",
          "text": [
            "x.shape=torch.Size([500, 1, 32, 32])\n",
            "accuracy(validation): 0.6100000143051147\n",
            "Epoch: [47]\n",
            "---\n",
            "x.shape=torch.Size([500, 1, 32, 32])\n",
            "---\n",
            "x.shape=torch.Size([500, 1, 32, 32])\n"
          ]
        },
        {
          "output_type": "stream",
          "name": "stderr",
          "text": [
            "\r 48%|████▊     | 48/100 [09:59<02:27,  2.83s/it]"
          ]
        },
        {
          "output_type": "stream",
          "name": "stdout",
          "text": [
            "x.shape=torch.Size([500, 1, 32, 32])\n",
            "accuracy(validation): 0.6320000290870667\n",
            "Epoch: [48]\n",
            "---\n",
            "x.shape=torch.Size([500, 1, 32, 32])\n",
            "---\n",
            "x.shape=torch.Size([500, 1, 32, 32])\n"
          ]
        },
        {
          "output_type": "stream",
          "name": "stderr",
          "text": [
            "\r 49%|████▉     | 49/100 [10:02<02:23,  2.82s/it]"
          ]
        },
        {
          "output_type": "stream",
          "name": "stdout",
          "text": [
            "x.shape=torch.Size([500, 1, 32, 32])\n",
            "accuracy(validation): 0.6200000047683716\n",
            "Epoch: [49]\n",
            "---\n",
            "x.shape=torch.Size([500, 1, 32, 32])\n",
            "---\n",
            "x.shape=torch.Size([500, 1, 32, 32])\n"
          ]
        },
        {
          "output_type": "stream",
          "name": "stderr",
          "text": [
            "\r 50%|█████     | 50/100 [10:05<02:21,  2.83s/it]"
          ]
        },
        {
          "output_type": "stream",
          "name": "stdout",
          "text": [
            "x.shape=torch.Size([500, 1, 32, 32])\n",
            "accuracy(validation): 0.6360000371932983\n",
            "Epoch: [50]\n",
            "---\n",
            "x.shape=torch.Size([500, 1, 32, 32])\n",
            "---\n",
            "x.shape=torch.Size([500, 1, 32, 32])\n"
          ]
        },
        {
          "output_type": "stream",
          "name": "stderr",
          "text": [
            "\r 51%|█████     | 51/100 [10:07<02:18,  2.83s/it]"
          ]
        },
        {
          "output_type": "stream",
          "name": "stdout",
          "text": [
            "x.shape=torch.Size([500, 1, 32, 32])\n",
            "accuracy(validation): 0.6600000262260437\n",
            "Epoch: [51]\n",
            "---\n",
            "x.shape=torch.Size([500, 1, 32, 32])\n",
            "---\n",
            "x.shape=torch.Size([500, 1, 32, 32])\n"
          ]
        },
        {
          "output_type": "stream",
          "name": "stderr",
          "text": [
            "\r 52%|█████▏    | 52/100 [10:10<02:15,  2.83s/it]"
          ]
        },
        {
          "output_type": "stream",
          "name": "stdout",
          "text": [
            "x.shape=torch.Size([500, 1, 32, 32])\n",
            "accuracy(validation): 0.6620000600814819\n",
            "Epoch: [52]\n",
            "---\n",
            "x.shape=torch.Size([500, 1, 32, 32])\n",
            "---\n",
            "x.shape=torch.Size([500, 1, 32, 32])\n"
          ]
        },
        {
          "output_type": "stream",
          "name": "stderr",
          "text": [
            "\r 53%|█████▎    | 53/100 [10:13<02:11,  2.81s/it]"
          ]
        },
        {
          "output_type": "stream",
          "name": "stdout",
          "text": [
            "x.shape=torch.Size([500, 1, 32, 32])\n",
            "accuracy(validation): 0.6540000438690186\n",
            "Epoch: [53]\n",
            "---\n",
            "x.shape=torch.Size([500, 1, 32, 32])\n",
            "---\n",
            "x.shape=torch.Size([500, 1, 32, 32])\n"
          ]
        },
        {
          "output_type": "stream",
          "name": "stderr",
          "text": [
            "\r 54%|█████▍    | 54/100 [10:16<02:08,  2.79s/it]"
          ]
        },
        {
          "output_type": "stream",
          "name": "stdout",
          "text": [
            "x.shape=torch.Size([500, 1, 32, 32])\n",
            "accuracy(validation): 0.6820000410079956\n",
            "Epoch: [54]\n",
            "---\n",
            "x.shape=torch.Size([500, 1, 32, 32])\n",
            "---\n",
            "x.shape=torch.Size([500, 1, 32, 32])\n"
          ]
        },
        {
          "output_type": "stream",
          "name": "stderr",
          "text": [
            "\r 55%|█████▌    | 55/100 [10:18<02:05,  2.78s/it]"
          ]
        },
        {
          "output_type": "stream",
          "name": "stdout",
          "text": [
            "x.shape=torch.Size([500, 1, 32, 32])\n",
            "accuracy(validation): 0.6820000410079956\n",
            "Epoch: [55]\n",
            "---\n",
            "x.shape=torch.Size([500, 1, 32, 32])\n",
            "---\n",
            "x.shape=torch.Size([500, 1, 32, 32])\n"
          ]
        },
        {
          "output_type": "stream",
          "name": "stderr",
          "text": [
            "\r 56%|█████▌    | 56/100 [10:21<02:02,  2.77s/it]"
          ]
        },
        {
          "output_type": "stream",
          "name": "stdout",
          "text": [
            "x.shape=torch.Size([500, 1, 32, 32])\n",
            "accuracy(validation): 0.6520000100135803\n",
            "Epoch: [56]\n",
            "---\n",
            "x.shape=torch.Size([500, 1, 32, 32])\n",
            "---\n",
            "x.shape=torch.Size([500, 1, 32, 32])\n"
          ]
        },
        {
          "output_type": "stream",
          "name": "stderr",
          "text": [
            "\r 57%|█████▋    | 57/100 [10:24<01:58,  2.76s/it]"
          ]
        },
        {
          "output_type": "stream",
          "name": "stdout",
          "text": [
            "x.shape=torch.Size([500, 1, 32, 32])\n",
            "accuracy(validation): 0.6740000247955322\n",
            "Epoch: [57]\n",
            "---\n",
            "x.shape=torch.Size([500, 1, 32, 32])\n",
            "---\n",
            "x.shape=torch.Size([500, 1, 32, 32])\n"
          ]
        },
        {
          "output_type": "stream",
          "name": "stderr",
          "text": [
            "\r 58%|█████▊    | 58/100 [10:27<01:56,  2.77s/it]"
          ]
        },
        {
          "output_type": "stream",
          "name": "stdout",
          "text": [
            "x.shape=torch.Size([500, 1, 32, 32])\n",
            "accuracy(validation): 0.7020000219345093\n",
            "Epoch: [58]\n",
            "---\n",
            "x.shape=torch.Size([500, 1, 32, 32])\n",
            "---\n",
            "x.shape=torch.Size([500, 1, 32, 32])\n"
          ]
        },
        {
          "output_type": "stream",
          "name": "stderr",
          "text": [
            "\r 59%|█████▉    | 59/100 [10:30<01:53,  2.77s/it]"
          ]
        },
        {
          "output_type": "stream",
          "name": "stdout",
          "text": [
            "x.shape=torch.Size([500, 1, 32, 32])\n",
            "accuracy(validation): 0.7120000123977661\n",
            "Epoch: [59]\n",
            "---\n",
            "x.shape=torch.Size([500, 1, 32, 32])\n",
            "---\n",
            "x.shape=torch.Size([500, 1, 32, 32])\n"
          ]
        },
        {
          "output_type": "stream",
          "name": "stderr",
          "text": [
            "\r 60%|██████    | 60/100 [10:32<01:50,  2.77s/it]"
          ]
        },
        {
          "output_type": "stream",
          "name": "stdout",
          "text": [
            "x.shape=torch.Size([500, 1, 32, 32])\n",
            "accuracy(validation): 0.7120000123977661\n",
            "Epoch: [60]\n",
            "---\n",
            "x.shape=torch.Size([500, 1, 32, 32])\n",
            "---\n",
            "x.shape=torch.Size([500, 1, 32, 32])\n"
          ]
        },
        {
          "output_type": "stream",
          "name": "stderr",
          "text": [
            "\r 61%|██████    | 61/100 [10:35<01:47,  2.76s/it]"
          ]
        },
        {
          "output_type": "stream",
          "name": "stdout",
          "text": [
            "x.shape=torch.Size([500, 1, 32, 32])\n",
            "accuracy(validation): 0.734000027179718\n",
            "Epoch: [61]\n",
            "---\n",
            "x.shape=torch.Size([500, 1, 32, 32])\n",
            "---\n",
            "x.shape=torch.Size([500, 1, 32, 32])\n"
          ]
        },
        {
          "output_type": "stream",
          "name": "stderr",
          "text": [
            "\r 62%|██████▏   | 62/100 [10:38<01:44,  2.76s/it]"
          ]
        },
        {
          "output_type": "stream",
          "name": "stdout",
          "text": [
            "x.shape=torch.Size([500, 1, 32, 32])\n",
            "accuracy(validation): 0.7240000367164612\n",
            "Epoch: [62]\n",
            "---\n",
            "x.shape=torch.Size([500, 1, 32, 32])\n",
            "---\n",
            "x.shape=torch.Size([500, 1, 32, 32])\n"
          ]
        },
        {
          "output_type": "stream",
          "name": "stderr",
          "text": [
            "\r 63%|██████▎   | 63/100 [10:41<01:42,  2.76s/it]"
          ]
        },
        {
          "output_type": "stream",
          "name": "stdout",
          "text": [
            "x.shape=torch.Size([500, 1, 32, 32])\n",
            "accuracy(validation): 0.7240000367164612\n",
            "Epoch: [63]\n",
            "---\n",
            "x.shape=torch.Size([500, 1, 32, 32])\n",
            "---\n",
            "x.shape=torch.Size([500, 1, 32, 32])\n"
          ]
        },
        {
          "output_type": "stream",
          "name": "stderr",
          "text": [
            "\r 64%|██████▍   | 64/100 [10:43<01:38,  2.74s/it]"
          ]
        },
        {
          "output_type": "stream",
          "name": "stdout",
          "text": [
            "x.shape=torch.Size([500, 1, 32, 32])\n",
            "accuracy(validation): 0.734000027179718\n",
            "Epoch: [64]\n",
            "---\n",
            "x.shape=torch.Size([500, 1, 32, 32])\n",
            "---\n",
            "x.shape=torch.Size([500, 1, 32, 32])\n"
          ]
        },
        {
          "output_type": "stream",
          "name": "stderr",
          "text": [
            "\r 65%|██████▌   | 65/100 [10:46<01:36,  2.75s/it]"
          ]
        },
        {
          "output_type": "stream",
          "name": "stdout",
          "text": [
            "x.shape=torch.Size([500, 1, 32, 32])\n",
            "accuracy(validation): 0.7420000433921814\n",
            "Epoch: [65]\n",
            "---\n",
            "x.shape=torch.Size([500, 1, 32, 32])\n",
            "---\n",
            "x.shape=torch.Size([500, 1, 32, 32])\n"
          ]
        },
        {
          "output_type": "stream",
          "name": "stderr",
          "text": [
            "\r 66%|██████▌   | 66/100 [10:49<01:34,  2.77s/it]"
          ]
        },
        {
          "output_type": "stream",
          "name": "stdout",
          "text": [
            "x.shape=torch.Size([500, 1, 32, 32])\n",
            "accuracy(validation): 0.7460000514984131\n",
            "Epoch: [66]\n",
            "---\n",
            "x.shape=torch.Size([500, 1, 32, 32])\n",
            "---\n",
            "x.shape=torch.Size([500, 1, 32, 32])\n"
          ]
        },
        {
          "output_type": "stream",
          "name": "stderr",
          "text": [
            "\r 67%|██████▋   | 67/100 [10:52<01:31,  2.77s/it]"
          ]
        },
        {
          "output_type": "stream",
          "name": "stdout",
          "text": [
            "x.shape=torch.Size([500, 1, 32, 32])\n",
            "accuracy(validation): 0.7460000514984131\n",
            "Epoch: [67]\n",
            "---\n",
            "x.shape=torch.Size([500, 1, 32, 32])\n",
            "---\n",
            "x.shape=torch.Size([500, 1, 32, 32])\n"
          ]
        },
        {
          "output_type": "stream",
          "name": "stderr",
          "text": [
            "\r 68%|██████▊   | 68/100 [10:54<01:28,  2.76s/it]"
          ]
        },
        {
          "output_type": "stream",
          "name": "stdout",
          "text": [
            "x.shape=torch.Size([500, 1, 32, 32])\n",
            "accuracy(validation): 0.7440000176429749\n",
            "Epoch: [68]\n",
            "---\n",
            "x.shape=torch.Size([500, 1, 32, 32])\n",
            "---\n",
            "x.shape=torch.Size([500, 1, 32, 32])\n"
          ]
        },
        {
          "output_type": "stream",
          "name": "stderr",
          "text": [
            "\r 69%|██████▉   | 69/100 [10:57<01:25,  2.75s/it]"
          ]
        },
        {
          "output_type": "stream",
          "name": "stdout",
          "text": [
            "x.shape=torch.Size([500, 1, 32, 32])\n",
            "accuracy(validation): 0.7660000324249268\n",
            "Epoch: [69]\n",
            "---\n",
            "x.shape=torch.Size([500, 1, 32, 32])\n",
            "---\n",
            "x.shape=torch.Size([500, 1, 32, 32])\n"
          ]
        },
        {
          "output_type": "stream",
          "name": "stderr",
          "text": [
            "\r 70%|███████   | 70/100 [11:00<01:22,  2.76s/it]"
          ]
        },
        {
          "output_type": "stream",
          "name": "stdout",
          "text": [
            "x.shape=torch.Size([500, 1, 32, 32])\n",
            "accuracy(validation): 0.7420000433921814\n",
            "Epoch: [70]\n",
            "---\n",
            "x.shape=torch.Size([500, 1, 32, 32])\n",
            "---\n",
            "x.shape=torch.Size([500, 1, 32, 32])\n"
          ]
        },
        {
          "output_type": "stream",
          "name": "stderr",
          "text": [
            "\r 71%|███████   | 71/100 [11:03<01:19,  2.75s/it]"
          ]
        },
        {
          "output_type": "stream",
          "name": "stdout",
          "text": [
            "x.shape=torch.Size([500, 1, 32, 32])\n",
            "accuracy(validation): 0.7640000581741333\n",
            "Epoch: [71]\n",
            "---\n",
            "x.shape=torch.Size([500, 1, 32, 32])\n",
            "---\n",
            "x.shape=torch.Size([500, 1, 32, 32])\n"
          ]
        },
        {
          "output_type": "stream",
          "name": "stderr",
          "text": [
            "\r 72%|███████▏  | 72/100 [11:05<01:17,  2.76s/it]"
          ]
        },
        {
          "output_type": "stream",
          "name": "stdout",
          "text": [
            "x.shape=torch.Size([500, 1, 32, 32])\n",
            "accuracy(validation): 0.7900000214576721\n",
            "Epoch: [72]\n",
            "---\n",
            "x.shape=torch.Size([500, 1, 32, 32])\n",
            "---\n",
            "x.shape=torch.Size([500, 1, 32, 32])\n"
          ]
        },
        {
          "output_type": "stream",
          "name": "stderr",
          "text": [
            "\r 73%|███████▎  | 73/100 [11:08<01:14,  2.74s/it]"
          ]
        },
        {
          "output_type": "stream",
          "name": "stdout",
          "text": [
            "x.shape=torch.Size([500, 1, 32, 32])\n",
            "accuracy(validation): 0.7640000581741333\n",
            "Epoch: [73]\n",
            "---\n",
            "x.shape=torch.Size([500, 1, 32, 32])\n",
            "---\n",
            "x.shape=torch.Size([500, 1, 32, 32])\n"
          ]
        },
        {
          "output_type": "stream",
          "name": "stderr",
          "text": [
            "\r 74%|███████▍  | 74/100 [11:11<01:11,  2.75s/it]"
          ]
        },
        {
          "output_type": "stream",
          "name": "stdout",
          "text": [
            "x.shape=torch.Size([500, 1, 32, 32])\n",
            "accuracy(validation): 0.7720000147819519\n",
            "Epoch: [74]\n",
            "---\n",
            "x.shape=torch.Size([500, 1, 32, 32])\n",
            "---\n",
            "x.shape=torch.Size([500, 1, 32, 32])\n"
          ]
        },
        {
          "output_type": "stream",
          "name": "stderr",
          "text": [
            "\r 75%|███████▌  | 75/100 [11:14<01:08,  2.73s/it]"
          ]
        },
        {
          "output_type": "stream",
          "name": "stdout",
          "text": [
            "x.shape=torch.Size([500, 1, 32, 32])\n",
            "accuracy(validation): 0.7780000567436218\n",
            "Epoch: [75]\n",
            "---\n",
            "x.shape=torch.Size([500, 1, 32, 32])\n",
            "---\n",
            "x.shape=torch.Size([500, 1, 32, 32])\n"
          ]
        },
        {
          "output_type": "stream",
          "name": "stderr",
          "text": [
            "\r 76%|███████▌  | 76/100 [11:16<01:05,  2.75s/it]"
          ]
        },
        {
          "output_type": "stream",
          "name": "stdout",
          "text": [
            "x.shape=torch.Size([500, 1, 32, 32])\n",
            "accuracy(validation): 0.7900000214576721\n",
            "Epoch: [76]\n",
            "---\n",
            "x.shape=torch.Size([500, 1, 32, 32])\n",
            "---\n",
            "x.shape=torch.Size([500, 1, 32, 32])\n"
          ]
        },
        {
          "output_type": "stream",
          "name": "stderr",
          "text": [
            "\r 77%|███████▋  | 77/100 [11:19<01:03,  2.75s/it]"
          ]
        },
        {
          "output_type": "stream",
          "name": "stdout",
          "text": [
            "x.shape=torch.Size([500, 1, 32, 32])\n",
            "accuracy(validation): 0.7720000147819519\n",
            "Epoch: [77]\n",
            "---\n",
            "x.shape=torch.Size([500, 1, 32, 32])\n",
            "---\n",
            "x.shape=torch.Size([500, 1, 32, 32])\n"
          ]
        },
        {
          "output_type": "stream",
          "name": "stderr",
          "text": [
            "\r 78%|███████▊  | 78/100 [11:22<01:00,  2.75s/it]"
          ]
        },
        {
          "output_type": "stream",
          "name": "stdout",
          "text": [
            "x.shape=torch.Size([500, 1, 32, 32])\n",
            "accuracy(validation): 0.7780000567436218\n",
            "Epoch: [78]\n",
            "---\n",
            "x.shape=torch.Size([500, 1, 32, 32])\n",
            "---\n",
            "x.shape=torch.Size([500, 1, 32, 32])\n"
          ]
        },
        {
          "output_type": "stream",
          "name": "stderr",
          "text": [
            "\r 79%|███████▉  | 79/100 [11:25<00:57,  2.74s/it]"
          ]
        },
        {
          "output_type": "stream",
          "name": "stdout",
          "text": [
            "x.shape=torch.Size([500, 1, 32, 32])\n",
            "accuracy(validation): 0.7980000376701355\n",
            "Epoch: [79]\n",
            "---\n",
            "x.shape=torch.Size([500, 1, 32, 32])\n",
            "---\n",
            "x.shape=torch.Size([500, 1, 32, 32])\n"
          ]
        },
        {
          "output_type": "stream",
          "name": "stderr",
          "text": [
            "\r 80%|████████  | 80/100 [11:27<00:55,  2.75s/it]"
          ]
        },
        {
          "output_type": "stream",
          "name": "stdout",
          "text": [
            "x.shape=torch.Size([500, 1, 32, 32])\n",
            "accuracy(validation): 0.8020000457763672\n",
            "Epoch: [80]\n",
            "---\n",
            "x.shape=torch.Size([500, 1, 32, 32])\n",
            "---\n",
            "x.shape=torch.Size([500, 1, 32, 32])\n"
          ]
        },
        {
          "output_type": "stream",
          "name": "stderr",
          "text": [
            "\r 81%|████████  | 81/100 [11:30<00:52,  2.77s/it]"
          ]
        },
        {
          "output_type": "stream",
          "name": "stdout",
          "text": [
            "x.shape=torch.Size([500, 1, 32, 32])\n",
            "accuracy(validation): 0.8040000200271606\n",
            "Epoch: [81]\n",
            "---\n",
            "x.shape=torch.Size([500, 1, 32, 32])\n",
            "---\n",
            "x.shape=torch.Size([500, 1, 32, 32])\n"
          ]
        },
        {
          "output_type": "stream",
          "name": "stderr",
          "text": [
            "\r 82%|████████▏ | 82/100 [11:33<00:49,  2.77s/it]"
          ]
        },
        {
          "output_type": "stream",
          "name": "stdout",
          "text": [
            "x.shape=torch.Size([500, 1, 32, 32])\n",
            "accuracy(validation): 0.8100000619888306\n",
            "Epoch: [82]\n",
            "---\n",
            "x.shape=torch.Size([500, 1, 32, 32])\n",
            "---\n",
            "x.shape=torch.Size([500, 1, 32, 32])\n"
          ]
        },
        {
          "output_type": "stream",
          "name": "stderr",
          "text": [
            "\r 83%|████████▎ | 83/100 [11:36<00:46,  2.76s/it]"
          ]
        },
        {
          "output_type": "stream",
          "name": "stdout",
          "text": [
            "x.shape=torch.Size([500, 1, 32, 32])\n",
            "accuracy(validation): 0.796000063419342\n",
            "Epoch: [83]\n",
            "---\n",
            "x.shape=torch.Size([500, 1, 32, 32])\n",
            "---\n",
            "x.shape=torch.Size([500, 1, 32, 32])\n"
          ]
        },
        {
          "output_type": "stream",
          "name": "stderr",
          "text": [
            "\r 84%|████████▍ | 84/100 [11:38<00:44,  2.77s/it]"
          ]
        },
        {
          "output_type": "stream",
          "name": "stdout",
          "text": [
            "x.shape=torch.Size([500, 1, 32, 32])\n",
            "accuracy(validation): 0.7940000295639038\n",
            "Epoch: [84]\n",
            "---\n",
            "x.shape=torch.Size([500, 1, 32, 32])\n",
            "---\n",
            "x.shape=torch.Size([500, 1, 32, 32])\n"
          ]
        },
        {
          "output_type": "stream",
          "name": "stderr",
          "text": [
            "\r 85%|████████▌ | 85/100 [11:41<00:41,  2.77s/it]"
          ]
        },
        {
          "output_type": "stream",
          "name": "stdout",
          "text": [
            "x.shape=torch.Size([500, 1, 32, 32])\n",
            "accuracy(validation): 0.800000011920929\n",
            "Epoch: [85]\n",
            "---\n",
            "x.shape=torch.Size([500, 1, 32, 32])\n",
            "---\n",
            "x.shape=torch.Size([500, 1, 32, 32])\n"
          ]
        },
        {
          "output_type": "stream",
          "name": "stderr",
          "text": [
            "\r 86%|████████▌ | 86/100 [11:44<00:38,  2.77s/it]"
          ]
        },
        {
          "output_type": "stream",
          "name": "stdout",
          "text": [
            "x.shape=torch.Size([500, 1, 32, 32])\n",
            "accuracy(validation): 0.8040000200271606\n",
            "Epoch: [86]\n",
            "---\n",
            "x.shape=torch.Size([500, 1, 32, 32])\n",
            "---\n",
            "x.shape=torch.Size([500, 1, 32, 32])\n"
          ]
        },
        {
          "output_type": "stream",
          "name": "stderr",
          "text": [
            "\r 87%|████████▋ | 87/100 [11:47<00:36,  2.77s/it]"
          ]
        },
        {
          "output_type": "stream",
          "name": "stdout",
          "text": [
            "x.shape=torch.Size([500, 1, 32, 32])\n",
            "accuracy(validation): 0.7900000214576721\n",
            "Epoch: [87]\n",
            "---\n",
            "x.shape=torch.Size([500, 1, 32, 32])\n",
            "---\n",
            "x.shape=torch.Size([500, 1, 32, 32])\n"
          ]
        },
        {
          "output_type": "stream",
          "name": "stderr",
          "text": [
            "\r 88%|████████▊ | 88/100 [11:49<00:33,  2.77s/it]"
          ]
        },
        {
          "output_type": "stream",
          "name": "stdout",
          "text": [
            "x.shape=torch.Size([500, 1, 32, 32])\n",
            "accuracy(validation): 0.8080000281333923\n",
            "Epoch: [88]\n",
            "---\n",
            "x.shape=torch.Size([500, 1, 32, 32])\n",
            "---\n",
            "x.shape=torch.Size([500, 1, 32, 32])\n"
          ]
        },
        {
          "output_type": "stream",
          "name": "stderr",
          "text": [
            "\r 89%|████████▉ | 89/100 [11:52<00:30,  2.79s/it]"
          ]
        },
        {
          "output_type": "stream",
          "name": "stdout",
          "text": [
            "x.shape=torch.Size([500, 1, 32, 32])\n",
            "accuracy(validation): 0.8300000429153442\n",
            "Epoch: [89]\n",
            "---\n",
            "x.shape=torch.Size([500, 1, 32, 32])\n",
            "---\n",
            "x.shape=torch.Size([500, 1, 32, 32])\n"
          ]
        },
        {
          "output_type": "stream",
          "name": "stderr",
          "text": [
            "\r 90%|█████████ | 90/100 [11:55<00:27,  2.77s/it]"
          ]
        },
        {
          "output_type": "stream",
          "name": "stdout",
          "text": [
            "x.shape=torch.Size([500, 1, 32, 32])\n",
            "accuracy(validation): 0.8160000443458557\n",
            "Epoch: [90]\n",
            "---\n",
            "x.shape=torch.Size([500, 1, 32, 32])\n",
            "---\n",
            "x.shape=torch.Size([500, 1, 32, 32])\n"
          ]
        },
        {
          "output_type": "stream",
          "name": "stderr",
          "text": [
            "\r 91%|█████████ | 91/100 [11:58<00:24,  2.77s/it]"
          ]
        },
        {
          "output_type": "stream",
          "name": "stdout",
          "text": [
            "x.shape=torch.Size([500, 1, 32, 32])\n",
            "accuracy(validation): 0.8080000281333923\n",
            "Epoch: [91]\n",
            "---\n",
            "x.shape=torch.Size([500, 1, 32, 32])\n",
            "---\n",
            "x.shape=torch.Size([500, 1, 32, 32])\n"
          ]
        },
        {
          "output_type": "stream",
          "name": "stderr",
          "text": [
            "\r 92%|█████████▏| 92/100 [12:01<00:22,  2.77s/it]"
          ]
        },
        {
          "output_type": "stream",
          "name": "stdout",
          "text": [
            "x.shape=torch.Size([500, 1, 32, 32])\n",
            "accuracy(validation): 0.812000036239624\n",
            "Epoch: [92]\n",
            "---\n",
            "x.shape=torch.Size([500, 1, 32, 32])\n",
            "---\n",
            "x.shape=torch.Size([500, 1, 32, 32])\n"
          ]
        },
        {
          "output_type": "stream",
          "name": "stderr",
          "text": [
            "\r 93%|█████████▎| 93/100 [12:04<00:19,  2.85s/it]"
          ]
        },
        {
          "output_type": "stream",
          "name": "stdout",
          "text": [
            "x.shape=torch.Size([500, 1, 32, 32])\n",
            "accuracy(validation): 0.8380000591278076\n",
            "Epoch: [93]\n",
            "---\n",
            "x.shape=torch.Size([500, 1, 32, 32])\n",
            "---\n",
            "x.shape=torch.Size([500, 1, 32, 32])\n"
          ]
        },
        {
          "output_type": "stream",
          "name": "stderr",
          "text": [
            "\r 94%|█████████▍| 94/100 [12:06<00:16,  2.82s/it]"
          ]
        },
        {
          "output_type": "stream",
          "name": "stdout",
          "text": [
            "x.shape=torch.Size([500, 1, 32, 32])\n",
            "accuracy(validation): 0.8160000443458557\n",
            "Epoch: [94]\n",
            "---\n",
            "x.shape=torch.Size([500, 1, 32, 32])\n",
            "---\n",
            "x.shape=torch.Size([500, 1, 32, 32])\n"
          ]
        },
        {
          "output_type": "stream",
          "name": "stderr",
          "text": [
            "\r 95%|█████████▌| 95/100 [12:09<00:14,  2.80s/it]"
          ]
        },
        {
          "output_type": "stream",
          "name": "stdout",
          "text": [
            "x.shape=torch.Size([500, 1, 32, 32])\n",
            "accuracy(validation): 0.8140000104904175\n",
            "Epoch: [95]\n",
            "---\n",
            "x.shape=torch.Size([500, 1, 32, 32])\n",
            "---\n",
            "x.shape=torch.Size([500, 1, 32, 32])\n"
          ]
        },
        {
          "output_type": "stream",
          "name": "stderr",
          "text": [
            "\r 96%|█████████▌| 96/100 [12:12<00:11,  2.79s/it]"
          ]
        },
        {
          "output_type": "stream",
          "name": "stdout",
          "text": [
            "x.shape=torch.Size([500, 1, 32, 32])\n",
            "accuracy(validation): 0.8400000333786011\n",
            "Epoch: [96]\n",
            "---\n",
            "x.shape=torch.Size([500, 1, 32, 32])\n",
            "---\n",
            "x.shape=torch.Size([500, 1, 32, 32])\n"
          ]
        },
        {
          "output_type": "stream",
          "name": "stderr",
          "text": [
            "\r 97%|█████████▋| 97/100 [12:15<00:08,  2.79s/it]"
          ]
        },
        {
          "output_type": "stream",
          "name": "stdout",
          "text": [
            "x.shape=torch.Size([500, 1, 32, 32])\n",
            "accuracy(validation): 0.8400000333786011\n",
            "Epoch: [97]\n",
            "---\n",
            "x.shape=torch.Size([500, 1, 32, 32])\n",
            "---\n",
            "x.shape=torch.Size([500, 1, 32, 32])\n"
          ]
        },
        {
          "output_type": "stream",
          "name": "stderr",
          "text": [
            "\r 98%|█████████▊| 98/100 [12:17<00:05,  2.77s/it]"
          ]
        },
        {
          "output_type": "stream",
          "name": "stdout",
          "text": [
            "x.shape=torch.Size([500, 1, 32, 32])\n",
            "accuracy(validation): 0.8220000267028809\n",
            "Epoch: [98]\n",
            "---\n",
            "x.shape=torch.Size([500, 1, 32, 32])\n",
            "---\n",
            "x.shape=torch.Size([500, 1, 32, 32])\n"
          ]
        },
        {
          "output_type": "stream",
          "name": "stderr",
          "text": [
            "\r 99%|█████████▉| 99/100 [12:20<00:02,  2.76s/it]"
          ]
        },
        {
          "output_type": "stream",
          "name": "stdout",
          "text": [
            "x.shape=torch.Size([500, 1, 32, 32])\n",
            "accuracy(validation): 0.8360000252723694\n",
            "Epoch: [99]\n",
            "---\n",
            "x.shape=torch.Size([500, 1, 32, 32])\n",
            "---\n",
            "x.shape=torch.Size([500, 1, 32, 32])\n"
          ]
        },
        {
          "output_type": "stream",
          "name": "stderr",
          "text": [
            "100%|██████████| 100/100 [12:23<00:00,  7.43s/it]"
          ]
        },
        {
          "output_type": "stream",
          "name": "stdout",
          "text": [
            "x.shape=torch.Size([500, 1, 32, 32])\n",
            "accuracy(validation): 0.8460000157356262\n"
          ]
        },
        {
          "output_type": "stream",
          "name": "stderr",
          "text": [
            "\n"
          ]
        }
      ]
    },
    {
      "cell_type": "code",
      "source": [
        "# torch.save(model.state_dict(), \"task1_model.pt\")\n",
        "print(model.state_dict())\n"
      ],
      "metadata": {
        "colab": {
          "base_uri": "https://localhost:8080/"
        },
        "id": "t8tD9Ije5k_0",
        "outputId": "45578930-1622-4c0e-f19f-024b6013aacd"
      },
      "execution_count": null,
      "outputs": [
        {
          "output_type": "stream",
          "name": "stdout",
          "text": [
            "OrderedDict([('layers.0.weight', tensor([[[[-0.0899, -0.0271, -0.0276,  0.0023, -0.0878],\n",
            "          [-0.0096, -0.0608,  0.1565, -0.1445, -0.0741],\n",
            "          [-0.0163, -0.0309,  0.0682,  0.0362, -0.0115],\n",
            "          [-0.0362,  0.0962,  0.2872,  0.1128, -0.1070],\n",
            "          [ 0.2070,  0.3048,  0.2565,  0.2978,  0.2694]]],\n",
            "\n",
            "\n",
            "        [[[ 0.0765, -0.0575, -0.1304, -0.0434, -0.1573],\n",
            "          [-0.0727, -0.0610,  0.0031, -0.2441, -0.2059],\n",
            "          [ 0.0438, -0.0996,  0.2365, -0.0499, -0.3081],\n",
            "          [ 0.1063,  0.0428,  0.0502,  0.2179,  0.0092],\n",
            "          [-0.1050,  0.3127,  0.3362,  0.0311, -0.2202]]],\n",
            "\n",
            "\n",
            "        [[[ 0.0103, -0.1601, -0.0670,  0.0253,  0.3175],\n",
            "          [ 0.0317, -0.2246, -0.0945, -0.1124,  0.1035],\n",
            "          [ 0.2479, -0.0798, -0.2734,  0.1377,  0.1286],\n",
            "          [ 0.0254, -0.1637, -0.1532,  0.0660, -0.0410],\n",
            "          [-0.0656,  0.1607, -0.1212, -0.2007,  0.0443]]]], device='cuda:0')), ('layers.0.bias', tensor([-0.0487,  0.0451,  0.1996], device='cuda:0')), ('layers.3.weight', tensor([[[[ 1.9236e-01,  3.2452e-02, -9.7345e-02, -4.6335e-02,  9.5830e-02],\n",
            "          [ 1.4675e-01,  2.0451e-01,  1.2891e-02, -1.4029e-01,  2.0257e-02],\n",
            "          [ 1.5521e-01,  7.9637e-02, -1.8254e-01, -5.5684e-02, -4.4035e-02],\n",
            "          [-5.3770e-02,  1.7979e-02, -1.4324e-01,  1.8710e-02,  7.3135e-03],\n",
            "          [-1.5652e-01, -1.7290e-01, -2.9632e-02, -4.2942e-02, -7.5077e-02]],\n",
            "\n",
            "         [[ 1.2640e-01,  2.5424e-01,  3.5931e-02, -5.5699e-02,  2.9634e-02],\n",
            "          [ 2.0493e-01,  2.6990e-01,  3.5521e-02,  3.0478e-03, -5.7600e-02],\n",
            "          [ 8.0523e-02,  2.8030e-01,  6.9717e-02, -5.4573e-02,  4.4006e-02],\n",
            "          [-2.4626e-01,  1.7754e-01, -5.7255e-02, -1.2517e-01, -7.0982e-02],\n",
            "          [ 1.9204e-02, -1.2175e-02, -1.3639e-02,  6.6330e-02, -1.3166e-01]],\n",
            "\n",
            "         [[ 1.0512e-01,  2.4812e-02, -5.3333e-02,  8.8975e-02,  2.3934e-02],\n",
            "          [-1.4972e-01, -4.8324e-02,  4.6298e-02,  1.2682e-01, -8.9828e-02],\n",
            "          [-2.5434e-01, -2.6019e-01,  2.7040e-01,  1.6228e-01,  2.0065e-01],\n",
            "          [-2.4487e-01, -2.9232e-01,  2.7038e-01,  2.7349e-01,  5.9362e-02],\n",
            "          [-6.2717e-02, -1.3472e-01,  2.5933e-01,  2.8478e-01,  8.0203e-02]]],\n",
            "\n",
            "\n",
            "        [[[-1.1764e-01, -2.7694e-01, -2.3512e-01, -1.5466e-01,  1.0224e-01],\n",
            "          [-1.1597e-01, -1.8348e-01, -1.8010e-01, -7.8322e-02, -8.2999e-02],\n",
            "          [ 1.3415e-02,  2.8318e-02,  1.2655e-01, -1.7542e-01, -7.0101e-02],\n",
            "          [ 1.0916e-01,  1.5245e-01,  7.9473e-02,  8.1484e-02, -1.9126e-01],\n",
            "          [ 1.9608e-02,  1.6539e-01,  9.5001e-02,  1.4007e-01,  1.4962e-01]],\n",
            "\n",
            "         [[ 6.5202e-02, -2.6033e-01, -1.9732e-01, -2.4828e-02,  1.0511e-01],\n",
            "          [-7.2053e-03, -1.9878e-01, -9.7239e-02, -7.0770e-02, -3.8465e-03],\n",
            "          [ 1.0893e-01,  1.9804e-01,  2.8337e-01,  2.3582e-02, -1.4045e-01],\n",
            "          [ 9.1944e-02,  1.6265e-01,  2.5354e-01,  3.6263e-02, -1.1888e-01],\n",
            "          [ 1.9387e-01,  2.3525e-01,  1.0405e-01,  6.0975e-02,  9.1644e-02]],\n",
            "\n",
            "         [[ 2.2109e-01,  1.1406e-01,  4.3949e-02,  1.4518e-01,  7.3958e-02],\n",
            "          [ 9.6382e-02,  2.8823e-01,  7.1389e-02,  8.6018e-02,  9.6969e-03],\n",
            "          [ 1.6639e-01,  1.5185e-01,  1.3180e-01,  2.0024e-01,  1.7381e-01],\n",
            "          [ 8.8396e-02, -4.3184e-02,  2.4017e-01,  3.2668e-01,  2.0859e-01],\n",
            "          [ 1.6932e-01,  4.4304e-02, -7.5189e-02,  1.9289e-01,  7.2338e-02]]],\n",
            "\n",
            "\n",
            "        [[[ 2.1953e-02, -2.2708e-02, -6.5103e-02, -1.7763e-01, -1.9457e-01],\n",
            "          [ 1.7931e-02, -5.6066e-02, -1.4400e-02,  8.0280e-02, -1.4179e-01],\n",
            "          [ 1.0061e-01,  2.3472e-01,  7.8811e-02,  9.0195e-02,  1.1389e-01],\n",
            "          [ 1.5916e-01,  2.2314e-01,  1.9448e-01,  5.2302e-02,  1.2888e-02],\n",
            "          [-1.5758e-02, -5.1216e-04, -7.1075e-02, -1.2383e-01,  2.0051e-02]],\n",
            "\n",
            "         [[ 1.1519e-01,  2.2633e-01,  5.1828e-02, -1.4857e-01,  7.5786e-02],\n",
            "          [ 2.3143e-01,  2.1008e-01,  4.9098e-02,  1.0436e-01,  9.2750e-02],\n",
            "          [ 1.3201e-01,  9.2729e-02,  1.8690e-01,  3.7696e-02,  1.5414e-01],\n",
            "          [ 2.3381e-01,  1.0096e-01,  9.6098e-02,  1.1470e-01,  1.6593e-01],\n",
            "          [-9.4438e-02, -1.5733e-01, -2.8064e-01, -2.3839e-01, -1.3794e-01]],\n",
            "\n",
            "         [[ 1.3258e-01,  1.6795e-01,  2.8107e-02,  2.0865e-01,  1.4102e-01],\n",
            "          [ 5.5691e-02,  2.2140e-01,  2.0652e-01,  1.5164e-01,  1.2861e-01],\n",
            "          [ 2.6379e-02,  4.9277e-03, -1.5257e-01,  9.2393e-02,  1.5152e-01],\n",
            "          [-1.0528e-01, -2.1777e-01, -6.0481e-02, -6.7399e-02,  2.9770e-03],\n",
            "          [-1.9139e-01, -1.2008e-01,  2.6639e-02,  1.8572e-01,  2.2217e-01]]],\n",
            "\n",
            "\n",
            "        [[[ 1.2647e-02, -5.6406e-02,  4.8151e-02,  4.3055e-02, -5.4908e-02],\n",
            "          [-1.4829e-01, -2.5702e-01, -2.6225e-01, -1.5229e-01, -5.0820e-02],\n",
            "          [ 4.8849e-02, -1.2134e-01, -1.6044e-01, -9.7497e-02,  2.9692e-03],\n",
            "          [-8.0884e-02,  5.8744e-02,  2.0146e-01,  1.5720e-01,  2.5146e-02],\n",
            "          [-1.3572e-01,  1.6530e-01,  1.1065e-01,  8.8809e-02,  3.9045e-02]],\n",
            "\n",
            "         [[-9.3592e-02, -2.3833e-02, -2.7781e-02,  1.3608e-01,  7.6642e-03],\n",
            "          [-5.1139e-02, -2.3996e-01, -2.3482e-01, -2.3498e-01, -1.4670e-01],\n",
            "          [ 1.6140e-01,  1.3988e-01,  1.9802e-01,  6.8636e-02, -4.6112e-02],\n",
            "          [ 1.4321e-01,  3.0680e-01,  2.4241e-01,  1.6423e-01,  1.8928e-01],\n",
            "          [ 1.2010e-01,  1.9825e-01,  1.1496e-01,  1.5405e-01,  1.0994e-01]],\n",
            "\n",
            "         [[ 2.1033e-02, -6.8145e-03,  9.5014e-03,  1.2120e-01,  1.7532e-01],\n",
            "          [ 1.7069e-01,  9.7947e-02,  1.0656e-01,  1.4881e-01,  1.7987e-01],\n",
            "          [-7.1048e-03,  1.7671e-02,  1.6229e-01,  1.7725e-02, -2.6071e-02],\n",
            "          [-1.1824e-01, -6.5175e-02,  3.1280e-02,  2.5350e-01,  1.2467e-01],\n",
            "          [ 2.5292e-01,  1.4370e-01, -5.2413e-02,  2.4795e-01,  1.1056e-01]]],\n",
            "\n",
            "\n",
            "        [[[-1.5049e-01, -7.2079e-02,  1.1372e-01,  5.0761e-02, -1.1660e-01],\n",
            "          [ 7.6437e-02,  2.4364e-02,  1.1762e-01, -2.9765e-02, -9.2191e-02],\n",
            "          [-1.9123e-02, -4.5241e-02,  7.0602e-02, -2.9345e-02, -7.2385e-02],\n",
            "          [-2.9126e-02, -2.6235e-02,  1.0143e-01,  1.1264e-02, -1.2944e-01],\n",
            "          [ 4.2770e-02, -5.0498e-03, -1.2405e-01, -5.2568e-02,  1.8418e-02]],\n",
            "\n",
            "         [[-1.2035e-01,  9.0507e-02,  1.8947e-01,  1.2285e-01,  4.9705e-02],\n",
            "          [ 1.6118e-01, -7.1545e-03,  2.1325e-01,  1.2444e-01, -6.9428e-02],\n",
            "          [ 1.7156e-01, -5.5771e-02,  4.6351e-02,  1.7158e-01, -1.8379e-01],\n",
            "          [ 1.6703e-01, -1.1970e-01,  8.5543e-02,  1.6445e-01, -8.1783e-02],\n",
            "          [ 2.0677e-02, -4.2729e-02,  8.4292e-03, -7.7584e-02,  4.2566e-02]],\n",
            "\n",
            "         [[ 2.2165e-01,  2.6437e-03, -1.0404e-02,  2.0685e-01,  1.3895e-01],\n",
            "          [ 1.4493e-01,  5.9885e-02, -5.4473e-02,  1.5237e-01,  8.6348e-02],\n",
            "          [ 1.8885e-01,  2.3424e-01,  6.0570e-02,  2.8474e-01,  2.3330e-01],\n",
            "          [ 1.5050e-01,  2.4916e-01, -3.2825e-02,  1.5280e-01,  2.4907e-01],\n",
            "          [ 2.2496e-01,  2.2001e-01, -5.0698e-03,  1.1586e-01,  2.1370e-01]]],\n",
            "\n",
            "\n",
            "        [[[-7.7700e-03, -5.0143e-03,  4.6432e-02, -3.4964e-02,  9.3421e-02],\n",
            "          [-3.0825e-02,  8.8668e-02, -3.7388e-02, -3.4086e-02, -4.9282e-02],\n",
            "          [-1.5617e-01,  8.0655e-02, -5.2632e-03,  2.9658e-04,  1.3231e-01],\n",
            "          [-2.3841e-01, -1.1773e-01, -9.6816e-02,  1.0345e-01,  1.6614e-02],\n",
            "          [-1.4355e-01,  2.0375e-02, -5.9026e-02,  8.2560e-02,  6.9711e-02]],\n",
            "\n",
            "         [[-5.2837e-02,  1.1362e-01,  4.7711e-02, -1.4802e-01,  1.5580e-01],\n",
            "          [-6.3321e-02,  2.2878e-01,  5.1418e-02,  2.9401e-02,  1.2724e-01],\n",
            "          [-1.5569e-01,  1.7747e-01,  1.3171e-01, -9.7801e-02,  1.6999e-01],\n",
            "          [-2.7264e-01, -1.6547e-01, -4.7968e-02,  9.1787e-02,  1.1826e-01],\n",
            "          [-2.0286e-01, -2.0836e-01, -4.1235e-02,  1.1538e-02,  1.4098e-01]],\n",
            "\n",
            "         [[-8.1294e-02,  4.4311e-02, -8.4198e-02, -1.0949e-01, -2.1557e-02],\n",
            "          [ 9.7144e-02, -2.8913e-02,  7.2385e-02,  1.5482e-02, -1.6256e-02],\n",
            "          [ 1.9997e-01, -5.1626e-02,  4.6991e-02,  2.3160e-01,  1.5619e-01],\n",
            "          [ 1.1360e-01,  1.9197e-01,  2.2050e-01,  1.9323e-01,  1.7763e-01],\n",
            "          [ 2.3591e-01, -4.0553e-02, -8.0263e-02,  2.1224e-01,  1.0117e-01]]],\n",
            "\n",
            "\n",
            "        [[[ 1.5511e-01,  1.0348e-01,  1.0628e-01, -9.2341e-02,  1.9614e-02],\n",
            "          [ 1.1807e-01,  2.5094e-02,  1.2160e-01,  1.2708e-01, -1.1488e-01],\n",
            "          [-3.2668e-02,  4.0640e-02,  1.3114e-01,  1.9856e-03, -1.0983e-01],\n",
            "          [ 1.4212e-01,  1.6544e-01,  8.2634e-02, -8.5130e-04,  6.0128e-02],\n",
            "          [-2.1499e-02, -4.0998e-03, -3.1655e-02,  5.1376e-02,  1.0394e-01]],\n",
            "\n",
            "         [[ 8.7331e-02,  2.5293e-01,  1.5509e-01,  7.2246e-02, -4.8468e-02],\n",
            "          [-5.4723e-02,  1.2155e-01,  4.2864e-02,  1.8480e-02, -4.5438e-03],\n",
            "          [ 4.0043e-02, -3.3154e-02, -4.3365e-02,  1.0730e-02,  4.2950e-02],\n",
            "          [-3.8574e-02, -1.4119e-01,  1.2507e-01,  6.8542e-02,  1.1341e-01],\n",
            "          [-2.0908e-01, -1.9875e-01, -1.9141e-01, -6.7811e-02, -8.8550e-02]],\n",
            "\n",
            "         [[-1.3176e-01, -1.7709e-01, -2.2962e-02,  5.1181e-02,  1.2398e-01],\n",
            "          [ 2.7967e-02, -1.7941e-01, -1.0125e-01,  2.9378e-02,  2.7973e-02],\n",
            "          [-1.0365e-01, -8.1315e-04, -1.3454e-01,  1.1764e-01,  1.4890e-01],\n",
            "          [-1.0550e-03, -1.1896e-01, -1.3215e-01,  8.4960e-02,  6.4120e-02],\n",
            "          [-1.5331e-01, -2.5871e-01, -2.0918e-01, -4.1923e-02,  5.7081e-02]]],\n",
            "\n",
            "\n",
            "        [[[-6.0277e-03, -1.5236e-02,  1.1977e-01, -3.0035e-02, -4.2446e-02],\n",
            "          [-1.9973e-02,  1.4237e-01,  1.4520e-01, -9.3664e-02,  1.6120e-02],\n",
            "          [ 3.3126e-02, -4.2741e-02,  1.1720e-01, -4.5253e-02,  5.1348e-02],\n",
            "          [-5.8520e-02, -1.4720e-03,  1.2691e-02, -3.5976e-02,  1.4587e-01],\n",
            "          [-6.4294e-02, -5.1902e-02, -7.2026e-02,  7.1422e-02,  1.5453e-02]],\n",
            "\n",
            "         [[ 1.2526e-01,  1.2637e-01,  1.6990e-01,  7.2002e-02,  4.3026e-02],\n",
            "          [-9.9220e-02,  1.1328e-01,  2.5680e-01, -5.9328e-02,  1.8469e-01],\n",
            "          [-9.2430e-02,  8.9452e-02,  2.0209e-01, -1.6363e-01,  1.8835e-01],\n",
            "          [ 1.5340e-03, -7.1941e-02,  1.9244e-02, -1.1251e-01,  1.8341e-01],\n",
            "          [-1.7305e-01, -1.8903e-01, -7.8198e-02, -1.3074e-01,  2.1320e-02]],\n",
            "\n",
            "         [[-1.1452e-01, -1.4821e-01,  1.3954e-01, -4.4368e-02, -9.6158e-02],\n",
            "          [ 1.2841e-01, -2.0235e-01,  1.8635e-01,  2.1427e-01, -3.6909e-02],\n",
            "          [ 2.5138e-01, -5.2745e-02,  1.5654e-01,  2.1161e-01,  1.9124e-02],\n",
            "          [ 1.4081e-01,  1.7989e-01, -1.5309e-01,  2.7580e-01,  8.9231e-02],\n",
            "          [ 7.9722e-02,  6.3676e-03, -1.1641e-01,  2.0995e-01, -1.1327e-02]]],\n",
            "\n",
            "\n",
            "        [[[-1.1367e-01, -8.1528e-02,  1.9958e-01,  2.2851e-01,  1.6782e-01],\n",
            "          [-4.3917e-02,  2.2687e-02,  1.5630e-01,  8.3448e-02,  4.0324e-03],\n",
            "          [ 8.9918e-02, -5.7323e-02,  1.0474e-01, -4.0158e-02,  4.9085e-03],\n",
            "          [ 8.1617e-02,  3.0195e-03,  4.3992e-02, -1.7871e-02, -4.0602e-02],\n",
            "          [-8.2663e-02, -6.2973e-02,  1.5410e-01,  1.4150e-01, -2.2174e-03]],\n",
            "\n",
            "         [[-2.1556e-01, -3.3329e-02,  7.7230e-02,  5.5581e-02,  4.1736e-02],\n",
            "          [ 4.4656e-02, -1.5332e-01, -8.9841e-02,  1.1686e-01,  1.2619e-01],\n",
            "          [ 7.4307e-03, -5.9430e-02, -1.5343e-01, -2.0946e-01, -2.6809e-01],\n",
            "          [ 1.0319e-01, -9.1081e-02,  1.5908e-01,  4.9030e-02,  3.5054e-02],\n",
            "          [-6.6885e-02,  3.5827e-02,  1.4535e-01,  2.5501e-01,  1.8099e-01]],\n",
            "\n",
            "         [[ 1.1551e-01,  2.4331e-01,  5.2226e-02, -1.0812e-01, -7.7571e-02],\n",
            "          [ 4.5172e-02, -2.9564e-02, -1.8251e-02, -2.5047e-01, -2.1943e-01],\n",
            "          [ 1.2792e-01,  1.3888e-02, -8.8505e-02, -7.0117e-02, -2.3256e-01],\n",
            "          [-2.3959e-04,  1.0103e-02, -1.5053e-01, -1.5185e-02, -6.6218e-02],\n",
            "          [ 1.2137e-01,  2.2749e-02, -8.2419e-02,  3.7165e-02,  7.5845e-02]]]],\n",
            "       device='cuda:0')), ('layers.3.bias', tensor([ 0.1053,  0.0032,  0.0986,  0.1166,  0.0507,  0.1263,  0.0550,  0.0042,\n",
            "        -0.0206], device='cuda:0')), ('layers.7.weight', tensor([[-0.0191, -0.0163, -0.0392,  ...,  0.0650, -0.0317,  0.0332],\n",
            "        [ 0.0002,  0.0058, -0.0086,  ...,  0.0121,  0.0647,  0.0351],\n",
            "        [ 0.1208,  0.0040,  0.0018,  ...,  0.0131, -0.0070,  0.0574],\n",
            "        ...,\n",
            "        [ 0.0256,  0.0046,  0.0371,  ...,  0.0606, -0.0428, -0.0157],\n",
            "        [ 0.0684,  0.0781,  0.0710,  ...,  0.0798,  0.0384,  0.0382],\n",
            "        [-0.0960, -0.0068,  0.0230,  ..., -0.0007,  0.0353,  0.0051]],\n",
            "       device='cuda:0')), ('layers.7.bias', tensor([-0.0232,  0.0575, -0.0380, -0.0200, -0.0512,  0.0782, -0.0072,  0.0522,\n",
            "         0.0425, -0.0190,  0.0616, -0.0615,  0.0391,  0.0405, -0.0035,  0.0248,\n",
            "         0.0386, -0.0308, -0.0030,  0.0355, -0.0025, -0.0216,  0.1028, -0.0359,\n",
            "        -0.0295, -0.0283,  0.0873,  0.0389, -0.0151,  0.0139,  0.0438,  0.0228,\n",
            "         0.0233,  0.0330,  0.0442,  0.0059, -0.0399, -0.0532,  0.0589,  0.0774,\n",
            "         0.0028,  0.0171, -0.0093, -0.0036,  0.0558,  0.0274,  0.0068, -0.0118,\n",
            "         0.0440,  0.0788,  0.0040,  0.0524,  0.0188,  0.0599,  0.0906,  0.0427,\n",
            "        -0.0513,  0.0497,  0.0268, -0.0226,  0.0081,  0.0941,  0.0901, -0.0446,\n",
            "        -0.0485,  0.0371, -0.0556,  0.0264, -0.0192,  0.0203, -0.0506,  0.0491,\n",
            "        -0.0159,  0.0063,  0.0642,  0.0209, -0.0562,  0.0393, -0.0107,  0.0325,\n",
            "        -0.0675, -0.0325,  0.0563, -0.0629,  0.0191,  0.1127, -0.0661, -0.0762,\n",
            "        -0.0270,  0.0401,  0.0782, -0.0241, -0.0201, -0.0790,  0.0410, -0.0497,\n",
            "         0.0027,  0.0806, -0.0229,  0.0486], device='cuda:0')), ('layers.9.weight', tensor([[-0.1312,  0.0978, -0.1846,  ..., -0.0532, -0.1492, -0.0735],\n",
            "        [ 0.0455, -0.0382, -0.0990,  ...,  0.1025, -0.0874, -0.0334],\n",
            "        [ 0.0970,  0.0767, -0.0685,  ...,  0.1338,  0.1078,  0.0327],\n",
            "        ...,\n",
            "        [-0.0256,  0.1062,  0.0004,  ...,  0.0018,  0.0685, -0.0865],\n",
            "        [ 0.1373,  0.1392,  0.1909,  ..., -0.0846,  0.2511,  0.1030],\n",
            "        [ 0.0979,  0.1250, -0.0251,  ...,  0.0530,  0.0447, -0.0596]],\n",
            "       device='cuda:0')), ('layers.9.bias', tensor([ 0.1223, -0.0281,  0.0547,  0.0870,  0.0989,  0.0604,  0.0141, -0.0673,\n",
            "        -0.0025, -0.0352,  0.0040, -0.0341,  0.0400,  0.0219,  0.0490,  0.0695,\n",
            "         0.0414, -0.0232,  0.0935,  0.0278,  0.0942, -0.0971, -0.0796,  0.0729,\n",
            "        -0.0810,  0.1065,  0.0475,  0.0044,  0.1050,  0.0267,  0.0312,  0.0407,\n",
            "        -0.0487,  0.0476, -0.0357,  0.0966, -0.0102,  0.0692, -0.0044, -0.0816,\n",
            "        -0.0491,  0.1116,  0.1345,  0.0177, -0.0849,  0.0207,  0.0642, -0.0428,\n",
            "         0.0715, -0.0776], device='cuda:0')), ('layers.11.weight', tensor([[ 1.1475e-01,  8.2310e-02,  1.1418e-01, -8.4578e-02, -2.5406e-02,\n",
            "          1.9764e-01, -1.6428e-01,  4.0557e-02, -1.6135e-02,  1.1541e-01,\n",
            "          1.9873e-01,  1.2218e-01, -1.5743e-01, -3.1869e-02, -1.0947e-01,\n",
            "         -2.1277e-01,  2.0203e-01,  5.0691e-02,  7.6132e-02, -1.2538e-01,\n",
            "          3.3889e-02, -1.2841e-01, -7.2719e-02,  2.2822e-02, -1.2296e-01,\n",
            "         -2.2492e-01, -1.9787e-01, -2.4734e-01,  4.3652e-02,  2.1925e-02,\n",
            "         -5.4792e-04, -4.9746e-02, -1.1577e-01,  1.0834e-01,  8.0698e-02,\n",
            "          1.8070e-01,  1.7816e-01,  8.2967e-02,  1.7123e-01, -1.7863e-01,\n",
            "          2.0025e-01,  1.0436e-01,  1.0324e-01, -1.6419e-01,  8.3637e-02,\n",
            "         -1.1070e-01,  6.2932e-02, -1.3810e-01, -1.3434e-01, -5.4130e-02],\n",
            "        [ 1.0591e-01,  7.5336e-02, -2.3611e-01,  1.0721e-01, -2.4064e-02,\n",
            "          1.6175e-01,  2.0858e-01,  7.3122e-02, -1.2998e-01, -2.6573e-01,\n",
            "          2.0210e-02, -2.0181e-01,  2.1629e-01,  9.5828e-02,  1.2777e-01,\n",
            "         -1.0647e-02, -1.7533e-02, -1.1087e-01,  1.1521e-01, -2.0873e-01,\n",
            "          1.9809e-01,  7.1255e-02, -2.3113e-01,  1.3031e-01,  2.1112e-02,\n",
            "         -1.8168e-02, -2.8969e-01,  1.5930e-01, -1.6151e-01, -2.8512e-02,\n",
            "         -5.4112e-02, -1.2474e-01,  1.5537e-01, -1.0054e-01,  1.3699e-01,\n",
            "         -2.3729e-01, -1.6019e-01,  1.1904e-01, -6.5880e-02,  1.9822e-01,\n",
            "          1.4908e-01, -5.7682e-02, -6.6917e-02,  5.5373e-02, -2.6582e-01,\n",
            "         -2.7283e-01, -5.4640e-02, -1.7157e-01, -1.5603e-01, -5.4811e-02],\n",
            "        [ 2.4077e-01,  1.6980e-01, -2.0624e-01,  8.7801e-02,  2.0406e-01,\n",
            "         -1.1624e-01, -1.9525e-01, -1.8229e-01,  1.5839e-01,  2.4831e-02,\n",
            "         -6.6947e-02, -1.4519e-02,  5.1166e-02,  1.0136e-01,  1.1728e-01,\n",
            "         -3.9539e-02, -5.4714e-02, -1.8939e-01, -1.8033e-01, -1.8700e-01,\n",
            "         -4.1664e-02, -1.2261e-01, -9.1392e-02, -1.5616e-01, -1.1814e-01,\n",
            "          1.9883e-01, -2.3779e-01,  4.1267e-02,  2.1213e-01, -4.7360e-02,\n",
            "         -5.1430e-02,  5.6907e-02,  1.3562e-01,  1.4079e-01,  1.6976e-01,\n",
            "         -1.2981e-01,  2.4002e-01, -6.6126e-02,  1.4982e-04, -1.3798e-01,\n",
            "          1.6986e-01,  1.7589e-01, -2.1366e-02, -9.3000e-02,  1.2164e-01,\n",
            "         -1.3421e-01, -2.2713e-01,  5.4499e-02, -2.0542e-01, -3.6581e-02],\n",
            "        [-2.7095e-02,  6.1550e-02,  1.4513e-01, -1.3960e-01, -1.4769e-01,\n",
            "         -1.9425e-01,  1.7652e-02,  1.6696e-01, -1.3510e-01,  1.0605e-01,\n",
            "         -2.2323e-01,  1.0648e-01,  1.1567e-01,  1.1674e-01, -4.3373e-02,\n",
            "         -2.5018e-02, -2.9668e-01, -1.2763e-01,  9.7162e-02,  1.3711e-01,\n",
            "          1.1162e-01, -1.2753e-01,  1.8030e-01, -1.3719e-01, -1.6061e-01,\n",
            "          1.6349e-01,  1.4416e-01, -1.0366e-01, -2.1564e-02, -6.0666e-02,\n",
            "         -5.3354e-02,  1.2973e-01,  5.3869e-02,  5.4368e-02, -2.3794e-01,\n",
            "         -4.7779e-03,  1.7469e-02, -1.6244e-03, -2.7128e-01, -7.5889e-02,\n",
            "          7.8184e-02, -2.7081e-01, -2.6172e-01,  1.3563e-01,  1.2960e-01,\n",
            "          2.1922e-01, -1.5506e-01, -8.0914e-02,  1.1371e-01,  1.2793e-01],\n",
            "        [-2.6011e-01,  7.1709e-02, -9.1380e-02,  7.5085e-02,  1.3441e-01,\n",
            "         -8.1543e-02,  2.6387e-01, -8.5576e-02,  1.0686e-01,  5.2531e-02,\n",
            "         -1.2691e-01,  1.2010e-01, -4.7629e-03,  1.0884e-01,  1.0221e-01,\n",
            "          1.3905e-02,  1.6378e-01, -2.4117e-01, -1.9069e-01,  2.1624e-01,\n",
            "          1.1995e-01,  1.4860e-01, -1.2939e-02,  1.9303e-01,  2.5181e-01,\n",
            "         -8.3882e-02,  1.3713e-01,  1.6279e-01,  2.3624e-01,  1.4599e-01,\n",
            "         -2.0018e-01,  1.8608e-01, -2.1385e-01, -2.6174e-01,  1.5800e-01,\n",
            "         -1.8955e-01,  4.6171e-02, -1.8876e-01,  1.0771e-01, -1.5683e-02,\n",
            "         -2.0280e-01,  1.2827e-01,  1.4349e-01, -2.1581e-01, -1.9400e-01,\n",
            "         -3.3307e-02,  1.0461e-01, -9.2258e-02, -6.7729e-02, -1.5583e-01],\n",
            "        [-9.6672e-02, -9.5722e-02,  2.1996e-01, -1.0371e-01, -2.5175e-01,\n",
            "         -1.6240e-01, -1.7032e-01, -8.0607e-02, -2.3160e-01, -1.8225e-01,\n",
            "          1.3014e-01, -3.0705e-01,  2.4068e-01, -2.1696e-01, -1.2416e-01,\n",
            "          1.1065e-03, -1.5439e-01, -3.0213e-02,  2.0690e-01,  1.1905e-01,\n",
            "         -6.9103e-02,  1.0937e-01,  7.8905e-02, -6.9111e-03, -9.4981e-02,\n",
            "         -1.0577e-01, -8.8061e-02,  6.3643e-02,  2.1598e-02, -1.4608e-01,\n",
            "         -9.9979e-02,  1.2926e-01, -1.0522e-01, -1.4074e-01, -4.0989e-02,\n",
            "          3.0208e-02, -1.2031e-01, -8.4647e-02, -1.6984e-01,  1.3391e-01,\n",
            "          1.1391e-01, -1.3421e-01,  1.1462e-01, -5.6797e-02, -3.9031e-02,\n",
            "          2.5081e-01,  1.8545e-01,  2.1680e-01, -1.0064e-02,  2.3807e-01],\n",
            "        [-2.3580e-01,  1.4178e-01,  1.9603e-01, -2.0064e-01, -3.2738e-02,\n",
            "          8.9045e-02,  2.9066e-02, -1.5393e-01, -1.3531e-02,  1.4366e-01,\n",
            "         -5.7282e-02,  8.1649e-02,  6.8311e-02, -2.6019e-01, -2.0131e-01,\n",
            "         -1.5156e-01, -1.1829e-01, -9.3940e-02,  3.4022e-02,  1.8012e-01,\n",
            "         -2.7659e-01,  5.5472e-03, -2.0131e-01,  1.5186e-01, -1.0480e-01,\n",
            "         -2.4138e-01,  1.1084e-01,  1.5952e-02, -1.9429e-01, -1.3744e-01,\n",
            "          1.1366e-01,  2.0049e-01, -2.5131e-01, -1.8167e-01, -2.2013e-01,\n",
            "          8.9388e-02,  3.0129e-02, -2.2690e-01, -5.1479e-02, -3.4222e-02,\n",
            "         -6.4670e-02,  1.6951e-01,  4.4541e-02, -1.0970e-01,  1.8823e-01,\n",
            "         -5.1717e-02, -5.2021e-02,  7.8858e-02, -7.5113e-02,  1.0520e-01],\n",
            "        [ 1.6766e-01,  9.5990e-02, -8.9681e-02,  1.7265e-01, -1.3735e-01,\n",
            "          2.5791e-02, -1.7675e-02, -2.5115e-02,  2.0420e-01, -2.0346e-01,\n",
            "          4.9320e-02, -2.1719e-03, -3.0492e-02,  1.8907e-01,  1.0359e-01,\n",
            "          2.1574e-01,  5.5920e-02, -2.1176e-01, -9.7984e-02, -1.8068e-01,\n",
            "         -1.0052e-01,  8.9137e-02,  5.2346e-02, -2.0606e-01,  1.1334e-01,\n",
            "          1.6125e-01, -6.4041e-02,  1.8662e-01, -1.4746e-01,  1.8947e-01,\n",
            "         -7.1552e-02, -3.4449e-02,  1.7019e-01,  1.9214e-01,  1.7471e-01,\n",
            "         -4.5354e-02,  3.4302e-02, -3.6977e-02, -2.1626e-01,  1.8363e-01,\n",
            "         -1.8336e-01, -2.1880e-01, -2.1282e-01, -1.6383e-02,  6.5334e-02,\n",
            "         -1.2471e-01, -1.6407e-01, -6.2836e-02, -4.5011e-02, -2.8905e-02],\n",
            "        [-1.9958e-01, -1.1667e-01,  1.4914e-01, -4.1536e-02,  1.2531e-01,\n",
            "         -2.7351e-01, -2.0452e-01,  6.7846e-02, -1.5852e-02,  8.6880e-02,\n",
            "         -1.2192e-02,  1.8070e-01, -2.2785e-01, -7.4217e-02, -9.9712e-02,\n",
            "         -7.9518e-02,  6.2403e-02,  1.6458e-01, -1.3577e-02,  8.7792e-02,\n",
            "         -4.9359e-02,  1.2888e-02,  1.0935e-01,  1.5009e-01, -1.5190e-01,\n",
            "         -2.9014e-02,  1.7892e-01, -5.6212e-02, -8.1991e-02,  1.8621e-02,\n",
            "         -1.0498e-01,  1.4265e-02,  4.2924e-02,  9.9906e-03, -1.1216e-01,\n",
            "         -2.6482e-02,  6.1661e-02,  1.5556e-01,  1.5273e-01, -1.4610e-01,\n",
            "         -1.1213e-01,  5.7025e-02, -1.4646e-01,  1.0692e-01,  1.5408e-02,\n",
            "          1.4061e-01, -8.6387e-02,  1.1577e-01,  1.4490e-01,  6.5718e-02],\n",
            "        [ 1.7298e-01, -2.1573e-01, -7.5108e-02, -1.6799e-01, -1.9489e-01,\n",
            "         -9.8467e-02,  6.3890e-02, -6.9045e-02,  5.1511e-02, -9.0798e-02,\n",
            "         -7.2313e-02, -1.8852e-01, -2.0065e-01,  1.0726e-01, -2.5293e-01,\n",
            "         -1.2403e-01, -1.1897e-01,  8.2356e-02,  1.0323e-01, -2.0221e-01,\n",
            "          5.0658e-02,  9.4985e-02,  1.8360e-01, -1.7868e-01, -1.1020e-01,\n",
            "          2.6900e-03, -1.7807e-01, -3.7122e-02,  6.1048e-03, -1.2354e-01,\n",
            "          1.2048e-01, -2.1995e-01,  1.2362e-01, -1.0039e-01, -4.4272e-02,\n",
            "          1.4082e-01, -1.8248e-01,  2.3697e-01,  3.6487e-02,  1.4692e-01,\n",
            "         -8.2728e-02, -2.0583e-01, -8.1111e-02,  6.0103e-02,  1.9013e-02,\n",
            "         -2.5105e-01,  2.0475e-01,  1.7683e-01,  9.7820e-02, -7.5429e-02]],\n",
            "       device='cuda:0')), ('layers.11.bias', tensor([-4.4888e-02,  1.0299e-02,  3.8959e-02, -4.0002e-02, -3.4998e-02,\n",
            "         1.0818e-02, -3.5562e-02, -7.9577e-05, -5.5196e-02,  1.5281e-01],\n",
            "       device='cuda:0'))])\n"
          ]
        }
      ]
    },
    {
      "cell_type": "markdown",
      "source": [
        "## Output prediction"
      ],
      "metadata": {
        "id": "1TxAho4ETvFL"
      }
    },
    {
      "cell_type": "code",
      "source": [
        "test_data = []\n",
        "\n",
        "with open(f\"{TEST_PATH}/../sample_submission.csv\", newline=\"\") as csvfile:\n",
        "  for row in csv.reader(csvfile, delimiter=\",\"):\n",
        "    test_data.append(row)\n",
        "\n",
        "test_ds = Task1Dataset(test_data, TEST_PATH, return_filename=True)\n",
        "test_dl = DataLoader(test_ds, batch_size=500, num_workers=2, drop_last=False, shuffle=False)\n",
        "\n",
        "if os.path.exists(\"submission.csv\"):\n",
        "  fo = open(\"submission.csv\", mode=\"a\", newline=\"\")\n",
        "  csv_writer = csv.writer(fo)\n",
        "else:\n",
        "  fo = open(\"submission.csv\", mode=\"a\", newline=\"\")\n",
        "  csv_writer = csv.writer(fo)\n",
        "  csv_writer.writerow([\"filename\", \"label\"])\n",
        "\n",
        "model.eval()\n",
        "for image, filenames in test_dl:\n",
        "  image = image.to(device)\n",
        "\n",
        "  pred = model(image)\n",
        "  pred = torch.argmax(pred, dim=1)\n",
        "\n",
        "  for ind, filename in enumerate(filenames):\n",
        "    if (len(filename) < 3):\n",
        "      print(filename)\n",
        "    csv_writer.writerow([filename, str(pred[ind].item())])\n",
        "\n"
      ],
      "metadata": {
        "id": "uXuT2OBh_OQJ",
        "colab": {
          "base_uri": "https://localhost:8080/"
        },
        "outputId": "38b8eeb0-24d5-4ba0-e42c-cc81b2922af2"
      },
      "execution_count": null,
      "outputs": [
        {
          "output_type": "stream",
          "name": "stdout",
          "text": [
            "x.shape=torch.Size([500, 1, 32, 32])\n",
            "x.shape=torch.Size([500, 1, 32, 32])\n",
            "x.shape=torch.Size([500, 1, 32, 32])\n",
            "x.shape=torch.Size([500, 1, 32, 32])\n",
            "x.shape=torch.Size([500, 1, 32, 32])\n",
            "x.shape=torch.Size([500, 1, 32, 32])\n",
            "x.shape=torch.Size([500, 1, 32, 32])\n",
            "x.shape=torch.Size([500, 1, 32, 32])\n",
            "x.shape=torch.Size([500, 1, 32, 32])\n",
            "x.shape=torch.Size([500, 1, 32, 32])\n",
            "x.shape=torch.Size([500, 1, 32, 32])\n",
            "x.shape=torch.Size([500, 1, 32, 32])\n",
            "x.shape=torch.Size([500, 1, 32, 32])\n"
          ]
        }
      ]
    },
    {
      "cell_type": "code",
      "source": [
        "for filename, _ in test_data:\n",
        "  if filename.startswith(\"task2\") or filename.startswith(\"task3\"):\n",
        "    # print(filename)\n",
        "    csv_writer.writerow([filename, 0])\n",
        "\n",
        "fo.close()"
      ],
      "metadata": {
        "id": "zrRN3JjkQSwy"
      },
      "execution_count": null,
      "outputs": []
    },
    {
      "cell_type": "code",
      "source": [
        "!ls"
      ],
      "metadata": {
        "colab": {
          "base_uri": "https://localhost:8080/"
        },
        "id": "jEUfz2yGRsAm",
        "outputId": "b4577738-1a16-4c38-b622-241938888f42"
      },
      "execution_count": null,
      "outputs": [
        {
          "output_type": "stream",
          "name": "stdout",
          "text": [
            "captcha-hacker.zip  hw5.ipynb  input  submission.csv\n"
          ]
        }
      ]
    }
  ]
}