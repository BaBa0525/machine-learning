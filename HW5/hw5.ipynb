{
  "nbformat": 4,
  "nbformat_minor": 0,
  "metadata": {
    "colab": {
      "provenance": [],
      "mount_file_id": "1GFlmhACRNYpk3_oYq0kGLetPSeaSC3px",
      "authorship_tag": "ABX9TyPADxb6gRx/SO6/AmxKW5kE",
      "include_colab_link": true
    },
    "kernelspec": {
      "name": "python3",
      "display_name": "Python 3"
    },
    "language_info": {
      "name": "python"
    },
    "gpuClass": "standard"
  },
  "cells": [
    {
      "cell_type": "markdown",
      "metadata": {
        "id": "view-in-github",
        "colab_type": "text"
      },
      "source": [
        "<a href=\"https://colab.research.google.com/github/BaBa0525/machine-learning/blob/dev/HW5/hw5.ipynb\" target=\"_parent\"><img src=\"https://colab.research.google.com/assets/colab-badge.svg\" alt=\"Open In Colab\"/></a>"
      ]
    },
    {
      "cell_type": "markdown",
      "source": [
        "## Import package"
      ],
      "metadata": {
        "id": "yD3lJvhJS6nl"
      }
    },
    {
      "cell_type": "code",
      "source": [
        "import csv\n",
        "import cv2\n",
        "import numpy as np\n",
        "import random\n",
        "import os\n",
        "\n",
        "from tqdm import tqdm\n",
        "\n",
        "import torch\n",
        "import torch.nn as nn\n",
        "from torch.utils.data import Dataset, DataLoader"
      ],
      "metadata": {
        "id": "FHtAe_HuosC8"
      },
      "execution_count": 1,
      "outputs": []
    },
    {
      "cell_type": "markdown",
      "source": [
        "## Mount Google Drive"
      ],
      "metadata": {
        "id": "VaNoXf6KOvdd"
      }
    },
    {
      "cell_type": "code",
      "execution_count": 2,
      "metadata": {
        "id": "O4ft1IQlWPuJ",
        "colab": {
          "base_uri": "https://localhost:8080/"
        },
        "outputId": "61c8b68c-88da-45b8-f2fd-81c9d0aea703"
      },
      "outputs": [
        {
          "output_type": "stream",
          "name": "stdout",
          "text": [
            "Mounted at /content/drive\n"
          ]
        }
      ],
      "source": [
        "from google.colab import drive\n",
        "drive.mount('/content/drive', force_remount=True)"
      ]
    },
    {
      "cell_type": "code",
      "source": [
        "%cd /content/drive/MyDrive/Colab\\ Notebooks/ML-HW5\n",
        "!ls"
      ],
      "metadata": {
        "colab": {
          "base_uri": "https://localhost:8080/"
        },
        "id": "hvIA3ZGlNbRZ",
        "outputId": "c20034c3-7c1a-43b5-9817-7874a3782e6a"
      },
      "execution_count": 3,
      "outputs": [
        {
          "output_type": "stream",
          "name": "stdout",
          "text": [
            "/content/drive/MyDrive/Colab Notebooks/ML-HW5\n",
            "captcha-hacker.zip  hw5.ipynb  input  submission.csv\n"
          ]
        }
      ]
    },
    {
      "cell_type": "code",
      "source": [
        "device = torch.device(\"cuda:0\" if torch.cuda.is_available() else \"cpu\")\n",
        "print(device)"
      ],
      "metadata": {
        "colab": {
          "base_uri": "https://localhost:8080/"
        },
        "id": "CvIISexbEya_",
        "outputId": "003a44b1-60f5-448e-83f0-d44c1ce7ce81"
      },
      "execution_count": 4,
      "outputs": [
        {
          "output_type": "stream",
          "name": "stdout",
          "text": [
            "cpu\n"
          ]
        }
      ]
    },
    {
      "cell_type": "markdown",
      "source": [
        "## Check dataset"
      ],
      "metadata": {
        "id": "cDayX5xvn6Wj"
      }
    },
    {
      "cell_type": "code",
      "source": [
        "# import os\n",
        "\n",
        "# for dirname, _, filenames in os.walk('./input'):\n",
        "#     for filename in filenames[:3]:\n",
        "#         print(os.path.join(dirname, filename))\n",
        "#     if len(filenames) > 3:\n",
        "#         print(\"...\")\n"
      ],
      "metadata": {
        "id": "NUuO3vFvPF-7"
      },
      "execution_count": null,
      "outputs": []
    },
    {
      "cell_type": "code",
      "source": [
        "TRAIN_PATH = \"./input/train\"\n",
        "TEST_PATH = \"./input/test\""
      ],
      "metadata": {
        "id": "LuzXy6gOn_H9"
      },
      "execution_count": 5,
      "outputs": []
    },
    {
      "cell_type": "markdown",
      "source": [
        "## Dataset Class"
      ],
      "metadata": {
        "id": "RgBf6bJbTVa3"
      }
    },
    {
      "cell_type": "code",
      "source": [
        "class TaskDataset(Dataset):\n",
        "  def __init__(self, data, root, task_type, return_filename=False):\n",
        "    self.data = [sample for sample in data if sample[0].startswith(task_type)]\n",
        "    self.return_filename = return_filename\n",
        "    self.root = root\n",
        "\n",
        "  def __getitem__(self, index):\n",
        "    filename, label = self.data[index]\n",
        "    img = cv2.imread(f\"{self.root}/{filename}\")\n",
        "    img = cv2.resize(img, (32, 32))\n",
        "    img = np.mean(img, axis=2)\n",
        "    if self.return_filename:\n",
        "      return torch.FloatTensor((img - 128) / 128), filename\n",
        "\n",
        "    return torch.FloatTensor((img - 128) / 128), int(label)\n",
        "\n",
        "  def __len__(self):\n",
        "    return len(self.data)\n",
        "    "
      ],
      "metadata": {
        "id": "4p7tNXYWoTLB"
      },
      "execution_count": 6,
      "outputs": []
    },
    {
      "cell_type": "markdown",
      "source": [
        "## Model Class"
      ],
      "metadata": {
        "id": "MCOj-iEyThI1"
      }
    },
    {
      "cell_type": "code",
      "source": [
        "class Model(nn.Module):\n",
        "  def __init__(self, out_feature):\n",
        "    super().__init__()\n",
        "    self.layers = nn.Sequential(\n",
        "        nn.Linear(1024, 512),\n",
        "        nn.LeakyReLU(),\n",
        "        nn.Linear(512, out_features=out_feature)\n",
        "    )\n",
        "\n",
        "  def forward(self, x):\n",
        "    b, h, w = x.shape\n",
        "    x = x.view(b, h*w)\n",
        "    return self.layers(x)"
      ],
      "metadata": {
        "id": "m4Kswa6zxEKF"
      },
      "execution_count": 7,
      "outputs": []
    },
    {
      "cell_type": "markdown",
      "source": [
        "## Process training data"
      ],
      "metadata": {
        "id": "If5DC9MpTlS_"
      }
    },
    {
      "cell_type": "code",
      "source": [
        "train_data = []\n",
        "val_data = []\n",
        "\n",
        "with open(f\"{TRAIN_PATH}/annotations.csv\", newline=\"\") as csvfile:\n",
        "  for row in csv.reader(csvfile, delimiter=\",\"):\n",
        "    if random.random() < 0.7:\n",
        "      train_data.append(row)\n",
        "    else:\n",
        "      val_data.append(row)\n"
      ],
      "metadata": {
        "id": "ixhLc15Fyc45"
      },
      "execution_count": 10,
      "outputs": []
    },
    {
      "cell_type": "code",
      "source": [
        "train_dl = []\n",
        "val_dl = []\n",
        "\n",
        "for i in range(1, 4):\n",
        "  train_ds = TaskDataset(train_data, TRAIN_PATH, task_type=f\"task{i}\")\n",
        "  train_dl.append(DataLoader(train_ds, batch_size=500, drop_last=True, shuffle=True))"
      ],
      "metadata": {
        "id": "5NG7b1YlaAYr"
      },
      "execution_count": 11,
      "outputs": []
    },
    {
      "cell_type": "markdown",
      "source": [
        "## Training"
      ],
      "metadata": {
        "id": "1qkxKDNmTqi4"
      }
    },
    {
      "cell_type": "code",
      "source": [
        "def train_model(n_epoch: int, model: Model, optimizer: torch.optim.Adam, train_dl: DataLoader, val_dl: DataLoader):\n",
        "  for epoch in tqdm(range(n_epoch)):\n",
        "    print(f\"Epoch: [{epoch}]\")\n",
        "\n",
        "    model.train()\n",
        "    for image, label in train_dl:\n",
        "      image = image.to(device)\n",
        "      label = label.to(label)\n",
        "\n",
        "      pred = model(image)\n",
        "      loss = loss_fn(pred, label)\n",
        "\n",
        "      optimizer.zero_grad()\n",
        "      loss.backward()\n",
        "      optimizer.step()\n",
        "\n",
        "    sample_count = 0\n",
        "    correct_count = 0\n",
        "\n",
        "    model.eval()\n",
        "    for image, label in val_dl:\n",
        "      image = image.to(device)\n",
        "      label = label.to(label)\n",
        "\n",
        "      pred = model(image)\n",
        "      loss = loss_fn(pred, label)\n",
        "\n",
        "      pred = torch.argmax(pred, dim=1)\n",
        "\n",
        "      sample_count += len(image)\n",
        "      correct_count += (label == pred).sum()\n",
        "\n",
        "    print(f\"accuracy(validation): {correct_count / sample_count}\")"
      ],
      "metadata": {
        "id": "48mNd0_5cRWc"
      },
      "execution_count": 13,
      "outputs": []
    },
    {
      "cell_type": "code",
      "source": [
        "models = [ Model().to(device) for _ in range(3) ]\n",
        "optimizers = [ torch.optim.Adam(params=models[i].parameters(), lr = 1e-3) for i in range(3) ]\n",
        "loss_fn = nn.CrossEntropyLoss()\n",
        "\n",
        "for task in range(3):\n",
        "  train_model(100, models[i], optimizers[i], train_dl[i], val_dl[i])"
      ],
      "metadata": {
        "colab": {
          "base_uri": "https://localhost:8080/",
          "height": 365
        },
        "id": "HMAUiroR0dCr",
        "outputId": "9a07df13-2b55-49e0-846f-8fc74ac26e08"
      },
      "execution_count": 14,
      "outputs": [
        {
          "output_type": "error",
          "ename": "TypeError",
          "evalue": "ignored",
          "traceback": [
            "\u001b[0;31m---------------------------------------------------------------------------\u001b[0m",
            "\u001b[0;31mTypeError\u001b[0m                                 Traceback (most recent call last)",
            "\u001b[0;32m<ipython-input-14-c0495184252a>\u001b[0m in \u001b[0;36m<module>\u001b[0;34m\u001b[0m\n\u001b[0;32m----> 1\u001b[0;31m \u001b[0mmodels\u001b[0m \u001b[0;34m=\u001b[0m \u001b[0;34m[\u001b[0m \u001b[0mModel\u001b[0m\u001b[0;34m(\u001b[0m\u001b[0;34m)\u001b[0m\u001b[0;34m.\u001b[0m\u001b[0mto\u001b[0m\u001b[0;34m(\u001b[0m\u001b[0mdevice\u001b[0m\u001b[0;34m)\u001b[0m \u001b[0;32mfor\u001b[0m \u001b[0m_\u001b[0m \u001b[0;32min\u001b[0m \u001b[0mrange\u001b[0m\u001b[0;34m(\u001b[0m\u001b[0;36m3\u001b[0m\u001b[0;34m)\u001b[0m \u001b[0;34m]\u001b[0m\u001b[0;34m\u001b[0m\u001b[0;34m\u001b[0m\u001b[0m\n\u001b[0m\u001b[1;32m      2\u001b[0m \u001b[0moptimizers\u001b[0m \u001b[0;34m=\u001b[0m \u001b[0;34m[\u001b[0m \u001b[0mtorch\u001b[0m\u001b[0;34m.\u001b[0m\u001b[0moptim\u001b[0m\u001b[0;34m.\u001b[0m\u001b[0mAdam\u001b[0m\u001b[0;34m(\u001b[0m\u001b[0mparams\u001b[0m\u001b[0;34m=\u001b[0m\u001b[0mmodels\u001b[0m\u001b[0;34m[\u001b[0m\u001b[0mi\u001b[0m\u001b[0;34m]\u001b[0m\u001b[0;34m.\u001b[0m\u001b[0mparameters\u001b[0m\u001b[0;34m(\u001b[0m\u001b[0;34m)\u001b[0m\u001b[0;34m,\u001b[0m \u001b[0mlr\u001b[0m \u001b[0;34m=\u001b[0m \u001b[0;36m1e-3\u001b[0m\u001b[0;34m)\u001b[0m \u001b[0;32mfor\u001b[0m \u001b[0mi\u001b[0m \u001b[0;32min\u001b[0m \u001b[0mrange\u001b[0m\u001b[0;34m(\u001b[0m\u001b[0;36m3\u001b[0m\u001b[0;34m)\u001b[0m \u001b[0;34m]\u001b[0m\u001b[0;34m\u001b[0m\u001b[0;34m\u001b[0m\u001b[0m\n\u001b[1;32m      3\u001b[0m \u001b[0mloss_fn\u001b[0m \u001b[0;34m=\u001b[0m \u001b[0mnn\u001b[0m\u001b[0;34m.\u001b[0m\u001b[0mCrossEntropyLoss\u001b[0m\u001b[0;34m(\u001b[0m\u001b[0;34m)\u001b[0m\u001b[0;34m\u001b[0m\u001b[0;34m\u001b[0m\u001b[0m\n\u001b[1;32m      4\u001b[0m \u001b[0;34m\u001b[0m\u001b[0m\n\u001b[1;32m      5\u001b[0m \u001b[0;32mfor\u001b[0m \u001b[0mtask\u001b[0m \u001b[0;32min\u001b[0m \u001b[0mrange\u001b[0m\u001b[0;34m(\u001b[0m\u001b[0;36m3\u001b[0m\u001b[0;34m)\u001b[0m\u001b[0;34m:\u001b[0m\u001b[0;34m\u001b[0m\u001b[0;34m\u001b[0m\u001b[0m\n",
            "\u001b[0;32m<ipython-input-14-c0495184252a>\u001b[0m in \u001b[0;36m<listcomp>\u001b[0;34m(.0)\u001b[0m\n\u001b[0;32m----> 1\u001b[0;31m \u001b[0mmodels\u001b[0m \u001b[0;34m=\u001b[0m \u001b[0;34m[\u001b[0m \u001b[0mModel\u001b[0m\u001b[0;34m(\u001b[0m\u001b[0;34m)\u001b[0m\u001b[0;34m.\u001b[0m\u001b[0mto\u001b[0m\u001b[0;34m(\u001b[0m\u001b[0mdevice\u001b[0m\u001b[0;34m)\u001b[0m \u001b[0;32mfor\u001b[0m \u001b[0m_\u001b[0m \u001b[0;32min\u001b[0m \u001b[0mrange\u001b[0m\u001b[0;34m(\u001b[0m\u001b[0;36m3\u001b[0m\u001b[0;34m)\u001b[0m \u001b[0;34m]\u001b[0m\u001b[0;34m\u001b[0m\u001b[0;34m\u001b[0m\u001b[0m\n\u001b[0m\u001b[1;32m      2\u001b[0m \u001b[0moptimizers\u001b[0m \u001b[0;34m=\u001b[0m \u001b[0;34m[\u001b[0m \u001b[0mtorch\u001b[0m\u001b[0;34m.\u001b[0m\u001b[0moptim\u001b[0m\u001b[0;34m.\u001b[0m\u001b[0mAdam\u001b[0m\u001b[0;34m(\u001b[0m\u001b[0mparams\u001b[0m\u001b[0;34m=\u001b[0m\u001b[0mmodels\u001b[0m\u001b[0;34m[\u001b[0m\u001b[0mi\u001b[0m\u001b[0;34m]\u001b[0m\u001b[0;34m.\u001b[0m\u001b[0mparameters\u001b[0m\u001b[0;34m(\u001b[0m\u001b[0;34m)\u001b[0m\u001b[0;34m,\u001b[0m \u001b[0mlr\u001b[0m \u001b[0;34m=\u001b[0m \u001b[0;36m1e-3\u001b[0m\u001b[0;34m)\u001b[0m \u001b[0;32mfor\u001b[0m \u001b[0mi\u001b[0m \u001b[0;32min\u001b[0m \u001b[0mrange\u001b[0m\u001b[0;34m(\u001b[0m\u001b[0;36m3\u001b[0m\u001b[0;34m)\u001b[0m \u001b[0;34m]\u001b[0m\u001b[0;34m\u001b[0m\u001b[0;34m\u001b[0m\u001b[0m\n\u001b[1;32m      3\u001b[0m \u001b[0mloss_fn\u001b[0m \u001b[0;34m=\u001b[0m \u001b[0mnn\u001b[0m\u001b[0;34m.\u001b[0m\u001b[0mCrossEntropyLoss\u001b[0m\u001b[0;34m(\u001b[0m\u001b[0;34m)\u001b[0m\u001b[0;34m\u001b[0m\u001b[0;34m\u001b[0m\u001b[0m\n\u001b[1;32m      4\u001b[0m \u001b[0;34m\u001b[0m\u001b[0m\n\u001b[1;32m      5\u001b[0m \u001b[0;32mfor\u001b[0m \u001b[0mtask\u001b[0m \u001b[0;32min\u001b[0m \u001b[0mrange\u001b[0m\u001b[0;34m(\u001b[0m\u001b[0;36m3\u001b[0m\u001b[0;34m)\u001b[0m\u001b[0;34m:\u001b[0m\u001b[0;34m\u001b[0m\u001b[0;34m\u001b[0m\u001b[0m\n",
            "\u001b[0;31mTypeError\u001b[0m: __init__() missing 1 required positional argument: 'out_feature'"
          ]
        }
      ]
    },
    {
      "cell_type": "markdown",
      "source": [
        "## Output prediction"
      ],
      "metadata": {
        "id": "1TxAho4ETvFL"
      }
    },
    {
      "cell_type": "code",
      "source": [
        "test_data = []\n",
        "\n",
        "with open(f\"{TEST_PATH}/../sample_submission.csv\", newline=\"\") as csvfile:\n",
        "  for row in csv.reader(csvfile, delimiter=\",\"):\n",
        "    test_data.append(row)\n",
        "\n",
        "test_ds = Task1Dataset(test_data, TEST_PATH, return_filename=True)\n",
        "test_dl = DataLoader(test_ds, batch_size=500, num_workers=2, drop_last=False, shuffle=False)\n",
        "\n",
        "if os.path.exists(\"submission.csv\"):\n",
        "  fo = open(\"submission.csv\", mode=\"a\", newline=\"\")\n",
        "  csv_writer = csv.writer(fo)\n",
        "else:\n",
        "  fo = open(\"submission.csv\", mode=\"a\", newline=\"\")\n",
        "  csv_writer = csv.writer(fo)\n",
        "  csv_writer.writerow([\"filename\", \"label\"])\n",
        "\n",
        "model.eval()\n",
        "for image, filenames in test_dl:\n",
        "  image = image.to(device)\n",
        "\n",
        "  pred = model(image)\n",
        "  pred = torch.argmax(pred, dim=1)\n",
        "\n",
        "  for ind, filename in enumerate(filenames):\n",
        "    if (len(filename) < 3):\n",
        "      print(filename)\n",
        "    csv_writer.writerow([filename, str(pred[ind].item())])\n",
        "\n"
      ],
      "metadata": {
        "id": "uXuT2OBh_OQJ"
      },
      "execution_count": null,
      "outputs": []
    },
    {
      "cell_type": "code",
      "source": [
        "for filename, _ in test_data:\n",
        "  if filename.startswith(\"task2\") or filename.startswith(\"task3\"):\n",
        "    # print(filename)\n",
        "    csv_writer.writerow([filename, 0])\n",
        "\n",
        "fo.close()"
      ],
      "metadata": {
        "id": "zrRN3JjkQSwy"
      },
      "execution_count": null,
      "outputs": []
    },
    {
      "cell_type": "code",
      "source": [
        "!ls"
      ],
      "metadata": {
        "colab": {
          "base_uri": "https://localhost:8080/"
        },
        "id": "jEUfz2yGRsAm",
        "outputId": "aaabc053-2f10-4522-9df9-4218fee275e1"
      },
      "execution_count": null,
      "outputs": [
        {
          "output_type": "stream",
          "name": "stdout",
          "text": [
            "captcha-hacker.zip  hw5.ipynb  input  submission.csv\n"
          ]
        }
      ]
    }
  ]
}