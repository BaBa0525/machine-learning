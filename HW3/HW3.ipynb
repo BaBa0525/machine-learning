{
 "cells": [
  {
   "cell_type": "markdown",
   "metadata": {},
   "source": [
    "## HW3: Decision Tree, AdaBoost and Random Forest\n",
    "In hw3, you need to implement decision tree, adaboost and random forest by using only numpy, then train your implemented model by the provided dataset. TA will use the on-hold test label to evaluate your model performance.\n",
    "\n",
    "Please note that only **NUMPY** can be used to implement your model, you will get no points by simply calling `sklearn.tree.DecisionTreeClassifier`"
   ]
  },
  {
   "cell_type": "markdown",
   "metadata": {},
   "source": [
    "## Question 1\n",
    "Gini Index or Entropy is often used for measuring the “best” splitting of the data. Please compute the Entropy and Gini Index of provided data. Please use the formula from [page 5 of hw3 slides](https://docs.google.com/presentation/d/1kIe_-YZdemRMmr_3xDy-l0OS2EcLgDH7Uan14tlU5KE/edit#slide=id.gd542a5ff75_0_15)"
   ]
  },
  {
   "cell_type": "code",
   "execution_count": 289,
   "metadata": {},
   "outputs": [],
   "source": [
    "from typing import Callable, Optional\n",
    "\n",
    "import matplotlib.pyplot as plt\n",
    "import numpy as np"
   ]
  },
  {
   "cell_type": "code",
   "execution_count": 290,
   "metadata": {},
   "outputs": [],
   "source": [
    "# Copy and paste your implementations right here to check your result\n",
    "# (Of course you can add your classes not written here)\n",
    "\n",
    "\n",
    "def get_prob(sequence: np.ndarray, classes: np.ndarray) -> tuple[float, float]:\n",
    "    size = sequence.shape[0]\n",
    "    class_1 = np.count_nonzero(sequence == classes[0])\n",
    "    class_2 = np.count_nonzero(sequence == classes[1])\n",
    "\n",
    "    return class_1 / size, class_2 / size\n",
    "\n",
    "\n",
    "CriterionFunction = Callable[[np.ndarray], float]\n",
    "\n",
    "\n",
    "def gini(sequence: np.ndarray) -> float:\n",
    "    if len(np.unique(sequence)) < 2:\n",
    "        return 0\n",
    "    p1, p2 = get_prob(sequence, np.unique(sequence))\n",
    "    return 1 - np.square(p1) - np.square(p2)\n",
    "\n",
    "\n",
    "def entropy(sequence: np.ndarray) -> float:\n",
    "    if len(np.unique(sequence)) < 2:\n",
    "        return 0\n",
    "    p1, p2 = get_prob(sequence, np.unique(sequence))\n",
    "\n",
    "    return -(p1 * np.log2(p1) + p2 * np.log2(p2))\n"
   ]
  },
  {
   "cell_type": "code",
   "execution_count": 291,
   "metadata": {},
   "outputs": [],
   "source": [
    "# 1 = class 1,\n",
    "# 2 = class 2\n",
    "data = np.array([1, 2, 1, 1, 1, 1, 2, 2, 1, 1, 2])"
   ]
  },
  {
   "cell_type": "code",
   "execution_count": 292,
   "metadata": {},
   "outputs": [
    {
     "name": "stdout",
     "output_type": "stream",
     "text": [
      "Gini of data is  0.4628099173553719\n"
     ]
    }
   ],
   "source": [
    "print(\"Gini of data is \", gini(data))"
   ]
  },
  {
   "cell_type": "code",
   "execution_count": 293,
   "metadata": {},
   "outputs": [
    {
     "name": "stdout",
     "output_type": "stream",
     "text": [
      "Entropy of data is  0.9456603046006401\n"
     ]
    }
   ],
   "source": [
    "print(\"Entropy of data is \", entropy(data))"
   ]
  },
  {
   "cell_type": "markdown",
   "metadata": {},
   "source": [
    "## Load data\n",
    "It is a binary classifiation dataset that classify if price is high or not for a cell phone, the label is stored in `price_range` column."
   ]
  },
  {
   "cell_type": "code",
   "execution_count": 294,
   "metadata": {},
   "outputs": [
    {
     "name": "stdout",
     "output_type": "stream",
     "text": [
      "(1200, 21)\n",
      "(300, 21)\n"
     ]
    },
    {
     "data": {
      "text/html": [
       "<div>\n",
       "<style scoped>\n",
       "    .dataframe tbody tr th:only-of-type {\n",
       "        vertical-align: middle;\n",
       "    }\n",
       "\n",
       "    .dataframe tbody tr th {\n",
       "        vertical-align: top;\n",
       "    }\n",
       "\n",
       "    .dataframe thead th {\n",
       "        text-align: right;\n",
       "    }\n",
       "</style>\n",
       "<table border=\"1\" class=\"dataframe\">\n",
       "  <thead>\n",
       "    <tr style=\"text-align: right;\">\n",
       "      <th></th>\n",
       "      <th>battery_power</th>\n",
       "      <th>blue</th>\n",
       "      <th>clock_speed</th>\n",
       "      <th>dual_sim</th>\n",
       "      <th>fc</th>\n",
       "      <th>four_g</th>\n",
       "      <th>int_memory</th>\n",
       "      <th>m_dep</th>\n",
       "      <th>mobile_wt</th>\n",
       "      <th>n_cores</th>\n",
       "      <th>...</th>\n",
       "      <th>px_height</th>\n",
       "      <th>px_width</th>\n",
       "      <th>ram</th>\n",
       "      <th>sc_h</th>\n",
       "      <th>sc_w</th>\n",
       "      <th>talk_time</th>\n",
       "      <th>three_g</th>\n",
       "      <th>touch_screen</th>\n",
       "      <th>wifi</th>\n",
       "      <th>price_range</th>\n",
       "    </tr>\n",
       "  </thead>\n",
       "  <tbody>\n",
       "    <tr>\n",
       "      <th>0</th>\n",
       "      <td>1583</td>\n",
       "      <td>1</td>\n",
       "      <td>2.1</td>\n",
       "      <td>1</td>\n",
       "      <td>11</td>\n",
       "      <td>0</td>\n",
       "      <td>14</td>\n",
       "      <td>0.7</td>\n",
       "      <td>148</td>\n",
       "      <td>7</td>\n",
       "      <td>...</td>\n",
       "      <td>942</td>\n",
       "      <td>1651</td>\n",
       "      <td>1704</td>\n",
       "      <td>17</td>\n",
       "      <td>13</td>\n",
       "      <td>2</td>\n",
       "      <td>1</td>\n",
       "      <td>0</td>\n",
       "      <td>1</td>\n",
       "      <td>1</td>\n",
       "    </tr>\n",
       "    <tr>\n",
       "      <th>1</th>\n",
       "      <td>745</td>\n",
       "      <td>1</td>\n",
       "      <td>0.6</td>\n",
       "      <td>1</td>\n",
       "      <td>5</td>\n",
       "      <td>0</td>\n",
       "      <td>35</td>\n",
       "      <td>0.8</td>\n",
       "      <td>102</td>\n",
       "      <td>8</td>\n",
       "      <td>...</td>\n",
       "      <td>89</td>\n",
       "      <td>1538</td>\n",
       "      <td>2459</td>\n",
       "      <td>14</td>\n",
       "      <td>1</td>\n",
       "      <td>16</td>\n",
       "      <td>1</td>\n",
       "      <td>1</td>\n",
       "      <td>0</td>\n",
       "      <td>0</td>\n",
       "    </tr>\n",
       "    <tr>\n",
       "      <th>2</th>\n",
       "      <td>832</td>\n",
       "      <td>0</td>\n",
       "      <td>0.7</td>\n",
       "      <td>1</td>\n",
       "      <td>2</td>\n",
       "      <td>1</td>\n",
       "      <td>39</td>\n",
       "      <td>0.7</td>\n",
       "      <td>103</td>\n",
       "      <td>4</td>\n",
       "      <td>...</td>\n",
       "      <td>125</td>\n",
       "      <td>1504</td>\n",
       "      <td>1799</td>\n",
       "      <td>5</td>\n",
       "      <td>2</td>\n",
       "      <td>11</td>\n",
       "      <td>1</td>\n",
       "      <td>0</td>\n",
       "      <td>1</td>\n",
       "      <td>0</td>\n",
       "    </tr>\n",
       "    <tr>\n",
       "      <th>3</th>\n",
       "      <td>1175</td>\n",
       "      <td>1</td>\n",
       "      <td>1.3</td>\n",
       "      <td>0</td>\n",
       "      <td>2</td>\n",
       "      <td>0</td>\n",
       "      <td>19</td>\n",
       "      <td>0.3</td>\n",
       "      <td>164</td>\n",
       "      <td>7</td>\n",
       "      <td>...</td>\n",
       "      <td>873</td>\n",
       "      <td>1394</td>\n",
       "      <td>1944</td>\n",
       "      <td>9</td>\n",
       "      <td>4</td>\n",
       "      <td>9</td>\n",
       "      <td>1</td>\n",
       "      <td>1</td>\n",
       "      <td>0</td>\n",
       "      <td>0</td>\n",
       "    </tr>\n",
       "    <tr>\n",
       "      <th>4</th>\n",
       "      <td>695</td>\n",
       "      <td>0</td>\n",
       "      <td>0.5</td>\n",
       "      <td>0</td>\n",
       "      <td>18</td>\n",
       "      <td>1</td>\n",
       "      <td>12</td>\n",
       "      <td>0.6</td>\n",
       "      <td>196</td>\n",
       "      <td>2</td>\n",
       "      <td>...</td>\n",
       "      <td>1649</td>\n",
       "      <td>1829</td>\n",
       "      <td>2855</td>\n",
       "      <td>16</td>\n",
       "      <td>13</td>\n",
       "      <td>7</td>\n",
       "      <td>1</td>\n",
       "      <td>1</td>\n",
       "      <td>1</td>\n",
       "      <td>1</td>\n",
       "    </tr>\n",
       "  </tbody>\n",
       "</table>\n",
       "<p>5 rows × 21 columns</p>\n",
       "</div>"
      ],
      "text/plain": [
       "   battery_power  blue  clock_speed  dual_sim  fc  four_g  int_memory  m_dep  \\\n",
       "0           1583     1          2.1         1  11       0          14    0.7   \n",
       "1            745     1          0.6         1   5       0          35    0.8   \n",
       "2            832     0          0.7         1   2       1          39    0.7   \n",
       "3           1175     1          1.3         0   2       0          19    0.3   \n",
       "4            695     0          0.5         0  18       1          12    0.6   \n",
       "\n",
       "   mobile_wt  n_cores  ...  px_height  px_width   ram  sc_h  sc_w  talk_time  \\\n",
       "0        148        7  ...        942      1651  1704    17    13          2   \n",
       "1        102        8  ...         89      1538  2459    14     1         16   \n",
       "2        103        4  ...        125      1504  1799     5     2         11   \n",
       "3        164        7  ...        873      1394  1944     9     4          9   \n",
       "4        196        2  ...       1649      1829  2855    16    13          7   \n",
       "\n",
       "   three_g  touch_screen  wifi  price_range  \n",
       "0        1             0     1            1  \n",
       "1        1             1     0            0  \n",
       "2        1             0     1            0  \n",
       "3        1             1     0            0  \n",
       "4        1             1     1            1  \n",
       "\n",
       "[5 rows x 21 columns]"
      ]
     },
     "execution_count": 294,
     "metadata": {},
     "output_type": "execute_result"
    }
   ],
   "source": [
    "import pandas as pd\n",
    "\n",
    "train_df = pd.read_csv(\"train.csv\")\n",
    "val_df = pd.read_csv(\"val.csv\")\n",
    "\n",
    "\n",
    "x_train: np.ndarray = train_df.loc[:, train_df.columns != \"price_range\"].to_numpy()  # type: ignore\n",
    "y_train: np.ndarray = train_df.loc[:, \"price_range\"].to_numpy()\n",
    "x_val: np.ndarray = val_df.loc[:, train_df.columns != \"price_range\"].to_numpy()  # type: ignore\n",
    "y_val: np.ndarray = val_df.loc[:, \"price_range\"].to_numpy()\n",
    "\n",
    "print(train_df.shape)\n",
    "print(val_df.shape)\n",
    "train_df.head()"
   ]
  },
  {
   "cell_type": "markdown",
   "metadata": {},
   "source": [
    "## Question 2\n",
    "Implement the Decision Tree algorithm (CART, Classification and Regression Trees) and trained the model by the given arguments, and print the accuracy score on the validation data. You should implement two arguments for the Decision Tree algorithm\n",
    "1. **criterion**: The function to measure the quality of a split. Your model should support `gini` for the Gini impurity and `entropy` for the information gain. \n",
    "2. **max_depth**: The maximum depth of the tree. If `max_depth=None`, then nodes are expanded until all leaves are pure. `max_depth=1` equals to split data once\n"
   ]
  },
  {
   "cell_type": "code",
   "execution_count": 295,
   "metadata": {},
   "outputs": [],
   "source": [
    "from dataclasses import dataclass\n",
    "\n",
    "\n",
    "@dataclass\n",
    "class Node:\n",
    "    feature: Optional[int] = None\n",
    "    threshold: Optional[float] = None\n",
    "    l_node: Optional[\"Node\"] = None\n",
    "    r_node: Optional[\"Node\"] = None\n",
    "    mark: Optional[int] = None\n",
    "\n",
    "    def is_leaf(self):\n",
    "        return self.mark is not None"
   ]
  },
  {
   "cell_type": "code",
   "execution_count": 296,
   "metadata": {},
   "outputs": [],
   "source": [
    "n_train_samples, n_train_feats = train_df.shape\n",
    "\n",
    "\n",
    "def convert_vote(data: np.ndarray) -> np.ndarray:\n",
    "    def replacer(x: int):\n",
    "        return -1 if x == 0 else x\n",
    "\n",
    "    return np.vectorize(replacer)(data)\n",
    "\n",
    "\n",
    "class DecisionTree:\n",
    "    def __init__(\n",
    "        self, criterion=\"gini\", max_depth=None, negative=False, max_features=None\n",
    "    ):\n",
    "        self.criterion = {\"gini\": gini, \"entropy\": entropy}[criterion]\n",
    "        self.max_depth = max_depth\n",
    "        self.importance = np.zeros(n_train_feats - 1)\n",
    "        self.negative = negative\n",
    "        self.max_features = max_features\n",
    "        self.rng = np.random.default_rng()\n",
    "\n",
    "    def get_accuracy(self, y_pred: np.ndarray, y_true: np.ndarray) -> float:\n",
    "        return np.count_nonzero(y_pred == y_true) / len(y_pred)\n",
    "\n",
    "    def fit(self, x_data: np.ndarray, y_data: np.ndarray):\n",
    "        self.root = self.build_tree(x_data, y_data)\n",
    "\n",
    "    def predict(self, x_data: np.ndarray) -> np.ndarray:\n",
    "        pred = np.array([self.traverse_tree(x, self.root) for x in x_data])\n",
    "        if self.negative:\n",
    "            return convert_vote(pred)\n",
    "        return pred\n",
    "\n",
    "    def traverse_tree(self, x: np.ndarray, node: Node):\n",
    "        if node.is_leaf():\n",
    "            return node.mark\n",
    "        if x[node.feature] <= node.threshold:\n",
    "            return self.traverse_tree(x, node.l_node)  # type: ignore\n",
    "\n",
    "        return self.traverse_tree(x, node.r_node)  # type: ignore\n",
    "\n",
    "    def build_tree(\n",
    "        self, x_data: np.ndarray, y_data: np.ndarray, depth: int = 0\n",
    "    ) -> Node:\n",
    "        if (self.max_depth is not None and depth >= self.max_depth) or (\n",
    "            len(np.unique(y_data)) < 2\n",
    "        ):\n",
    "            leaf_mark = self.class_mark(y_data)\n",
    "            return Node(mark=leaf_mark)\n",
    "\n",
    "        feat_index, thres = self.best_split(x_data, y_data)\n",
    "        l_index, r_index = self.split(x_data[:, feat_index], thres)\n",
    "\n",
    "        current_uncertainty = self.criterion(y_data)\n",
    "        info = self.info_gain(\n",
    "            current_uncertainty,\n",
    "            y_data[l_index],\n",
    "            y_data[r_index],\n",
    "        )\n",
    "\n",
    "        if info == 0:\n",
    "            leaf_mark = self.class_mark(y_data)\n",
    "            return Node(mark=leaf_mark)\n",
    "        left = self.build_tree(x_data[l_index], y_data[l_index], depth + 1)\n",
    "        right = self.build_tree(x_data[r_index], y_data[r_index], depth + 1)\n",
    "\n",
    "        self.importance[feat_index] += 1\n",
    "        return Node(feature=feat_index, threshold=thres, l_node=left, r_node=right)\n",
    "\n",
    "    def split(self, feat_col: np.ndarray, thres: int):\n",
    "        l_index = np.argwhere(feat_col <= thres).flatten()\n",
    "        r_index = np.argwhere(feat_col > thres).flatten()\n",
    "\n",
    "        return l_index, r_index\n",
    "\n",
    "    def best_split(self, x_data: np.ndarray, y_data: np.ndarray):\n",
    "        n_feat = x_data.shape[1]\n",
    "\n",
    "        if self.max_features is not None:\n",
    "            feats = self.rng.choice(n_feat, size=self.max_features, replace=False)\n",
    "        else:\n",
    "            feats = range(n_feat)\n",
    "\n",
    "        best_error = 1\n",
    "        split_index, split_thres = 0, 0\n",
    "        for feat_index in feats:  # type: ignore\n",
    "            feat_col = x_data[:, feat_index]\n",
    "            thresholds = np.unique(feat_col)\n",
    "            for thres in thresholds:\n",
    "                error = self.calculate_error(x_data, y_data, feat_col, thres)\n",
    "\n",
    "                if error < best_error:\n",
    "                    best_error = error\n",
    "                    split_index = feat_index\n",
    "                    split_thres = thres\n",
    "\n",
    "        return split_index, split_thres\n",
    "\n",
    "    def info_gain(self, current: float, left: np.ndarray, right: np.ndarray):\n",
    "        p = len(left) / (len(left) + len(right))\n",
    "        return current - p * self.criterion(left) - (1 - p) * self.criterion(right)\n",
    "\n",
    "    def calculate_error(\n",
    "        self,\n",
    "        x_data: np.ndarray,\n",
    "        y_data: np.ndarray,\n",
    "        feat_col: np.ndarray,\n",
    "        thres: int,\n",
    "    ) -> float:\n",
    "        n_samples, _ = x_data.shape\n",
    "        l_index, r_index = self.split(feat_col, thres)\n",
    "        if len(l_index) == 0 or len(r_index) == 0:\n",
    "            return 1\n",
    "        l_criterion = self.criterion(y_data[l_index])\n",
    "        r_criterion = self.criterion(y_data[r_index])\n",
    "        criterion_index = l_criterion * (l_index.shape[0] / n_samples) + r_criterion * (\n",
    "            r_index.shape[0] / n_samples\n",
    "        )\n",
    "\n",
    "        return criterion_index\n",
    "\n",
    "    def class_mark(self, y_data: np.ndarray):\n",
    "        mark = np.argmax(np.bincount(y_data))\n",
    "        return int(mark)"
   ]
  },
  {
   "cell_type": "markdown",
   "metadata": {},
   "source": [
    "### Question 2.1\n",
    "Using `criterion=gini`, showing the accuracy score of validation data by `max_depth=3` and `max_depth=10`, respectively.\n"
   ]
  },
  {
   "cell_type": "code",
   "execution_count": 297,
   "metadata": {},
   "outputs": [
    {
     "name": "stdout",
     "output_type": "stream",
     "text": [
      "clf_depth3 acc: 0.9166666666666666\n",
      "clf_depth10 acc: 0.9366666666666666\n"
     ]
    }
   ],
   "source": [
    "clf_depth3 = DecisionTree(criterion=\"gini\", max_depth=3)\n",
    "clf_depth3.fit(x_train, y_train)\n",
    "y_pred = clf_depth3.predict(x_val)\n",
    "acc = clf_depth3.get_accuracy(y_pred, y_val)\n",
    "print(f\"clf_depth3 acc: {acc}\")\n",
    "\n",
    "clf_depth10 = DecisionTree(criterion=\"gini\", max_depth=10)\n",
    "clf_depth10.fit(x_train, y_train)\n",
    "y_pred = clf_depth10.predict(x_val)\n",
    "acc = clf_depth10.get_accuracy(y_pred, y_val)\n",
    "print(f\"clf_depth10 acc: {acc}\")\n"
   ]
  },
  {
   "cell_type": "markdown",
   "metadata": {},
   "source": [
    "### Question 2.2\n",
    "Using `max_depth=3`, showing the accuracy score of validation data by `criterion=gini` and `criterion=entropy`, respectively.\n"
   ]
  },
  {
   "cell_type": "code",
   "execution_count": 298,
   "metadata": {},
   "outputs": [
    {
     "name": "stdout",
     "output_type": "stream",
     "text": [
      "clf_gini acc: 0.9166666666666666\n",
      "clf_entropy acc: 0.93\n"
     ]
    }
   ],
   "source": [
    "clf_gini = DecisionTree(criterion=\"gini\", max_depth=3)\n",
    "clf_gini.fit(x_train, y_train)\n",
    "y_pred = clf_gini.predict(x_val)\n",
    "acc = clf_gini.get_accuracy(y_pred, y_val)\n",
    "print(f\"clf_gini acc: {acc}\")\n",
    "\n",
    "clf_entropy = DecisionTree(criterion=\"entropy\", max_depth=3)\n",
    "clf_entropy.fit(x_train, y_train)\n",
    "y_pred = clf_entropy.predict(x_val)\n",
    "acc = clf_entropy.get_accuracy(y_pred, y_val)\n",
    "print(f\"clf_entropy acc: {acc}\")\n"
   ]
  },
  {
   "cell_type": "markdown",
   "metadata": {},
   "source": [
    "- Note: Your decisition tree scores should over **0.9**. It may suffer from overfitting, if so, you can tune the hyperparameter such as `max_depth`\n",
    "- Note: You should get the same results when re-building the model with the same arguments,  no need to prune the trees\n",
    "- Hint: You can use the recursive method to build the nodes\n"
   ]
  },
  {
   "cell_type": "markdown",
   "metadata": {},
   "source": [
    "## Question 3\n",
    "Plot the [feature importance](https://sefiks.com/2020/04/06/feature-importance-in-decision-trees/) of your Decision Tree model. You can get the feature importance by counting the feature used for splitting data.\n",
    "\n",
    "- You can simply plot the **counts of feature used** for building tree without normalize the importance. Take the figure below as example, outlook feature has been used for splitting for almost 50 times. Therefore, it has the largest importance\n",
    "\n",
    "![image](https://i2.wp.com/sefiks.com/wp-content/uploads/2020/04/c45-fi-results.jpg?w=481&ssl=1)"
   ]
  },
  {
   "cell_type": "code",
   "execution_count": 299,
   "metadata": {},
   "outputs": [
    {
     "data": {
      "image/png": "[encoded data removed]",
      "text/plain": [
       "<Figure size 640x480 with 1 Axes>"
      ]
     },
     "metadata": {},
     "output_type": "display_data"
    }
   ],
   "source": [
    "# print(x_train.columns.to_list())\n",
    "plt.barh(\n",
    "    range(clf_depth10.importance.shape[0], 0, -1),\n",
    "    clf_depth10.importance,\n",
    "    tick_label=train_df.loc[:, train_df.columns != \"price_range\"].columns,\n",
    "    height=0.5,\n",
    ")\n",
    "plt.show()\n"
   ]
  },
  {
   "cell_type": "markdown",
   "metadata": {},
   "source": [
    "## Question 4\n",
    "implement the AdaBooest algorithm by using the CART you just implemented from question 2 as base learner. You should implement one arguments for the AdaBooest.\n",
    "1. **n_estimators**: The maximum number of estimators at which boosting is terminated"
   ]
  },
  {
   "cell_type": "code",
   "execution_count": 300,
   "metadata": {},
   "outputs": [],
   "source": [
    "class AdaBoost:\n",
    "    def __init__(self, n_estimators):\n",
    "        self.n_estimators = n_estimators\n",
    "        self.clfs: list[DecisionTree] = []\n",
    "        self.alpha: list[float] = []\n",
    "\n",
    "    def fit(self, x_data: np.ndarray, y_data: np.ndarray):\n",
    "        self.clfs = []\n",
    "        y_series = convert_vote(y_data)\n",
    "        n_samples = x_data.shape[0]\n",
    "        w = np.full(n_samples, 1 / n_samples)\n",
    "\n",
    "        for _ in range(self.n_estimators):\n",
    "            weighted_index = np.random.choice(n_samples, n_samples, p=w)\n",
    "            weighted_x_train = x_data[weighted_index]\n",
    "            weighted_y_train = y_data[weighted_index]\n",
    "\n",
    "            clf = DecisionTree(criterion=\"gini\", max_depth=1, negative=True)\n",
    "            clf.fit(weighted_x_train, weighted_y_train)\n",
    "            y_pred = clf.predict(x_data)\n",
    "\n",
    "            error = self.loss_function(y_pred, y_series, w)\n",
    "            alpha = 0.5 * np.log((1 - error) / error)\n",
    "            if error > 0.5:\n",
    "                self.alpha.append(-alpha)\n",
    "            else:\n",
    "                self.alpha.append(alpha)\n",
    "\n",
    "            self.clfs.append(clf)\n",
    "            w = w * np.exp(-alpha * y_pred * y_series)\n",
    "            w = w / np.sum(w)\n",
    "\n",
    "    def predict(self, x_data: np.ndarray):\n",
    "        y_pred = np.zeros(x_data.shape[0])\n",
    "        for clf, alpha in zip(self.clfs, self.alpha):\n",
    "            y = clf.predict(x_data)\n",
    "            y = y * alpha\n",
    "            y_pred = y_pred + y\n",
    "\n",
    "        return y_pred > 0\n",
    "\n",
    "    def loss_function(self, y_pred: np.ndarray, y_data: np.ndarray, w: np.ndarray):\n",
    "        error = w * (y_pred != y_data)\n",
    "        return np.sum(error)\n",
    "\n",
    "    def get_accuracy(self, y_pred: np.ndarray, y_true: np.ndarray):\n",
    "        return np.count_nonzero(y_pred == y_true) / len(y_pred)"
   ]
  },
  {
   "cell_type": "markdown",
   "metadata": {},
   "source": [
    "### Question 4.1\n",
    "Show the accuracy score of validation data by `n_estimators=10` and `n_estimators=100`, respectively.\n"
   ]
  },
  {
   "cell_type": "code",
   "execution_count": 301,
   "metadata": {},
   "outputs": [
    {
     "name": "stdout",
     "output_type": "stream",
     "text": [
      "clf_10 acc: 0.9366666666666666\n"
     ]
    }
   ],
   "source": [
    "clf_10 = AdaBoost(10)\n",
    "clf_10.fit(x_train, y_train)\n",
    "y_pred = clf_10.predict(x_val)\n",
    "acc = clf_10.get_accuracy(y_pred, y_val)\n",
    "print(f\"clf_10 acc: {acc}\")"
   ]
  },
  {
   "cell_type": "code",
   "execution_count": 302,
   "metadata": {},
   "outputs": [
    {
     "name": "stdout",
     "output_type": "stream",
     "text": [
      "clf_100 acc: 0.9733333333333334\n"
     ]
    }
   ],
   "source": [
    "clf_100 = AdaBoost(100)\n",
    "clf_100.fit(x_train, y_train)\n",
    "y_pred = clf_100.predict(x_val)\n",
    "acc = clf_100.get_accuracy(y_pred, y_val)\n",
    "print(f\"clf_100 acc: {acc}\")"
   ]
  },
  {
   "cell_type": "markdown",
   "metadata": {},
   "source": [
    "## Question 5\n",
    "implement the Random Forest algorithm by using the CART you just implemented from question 2. You should implement three arguments for the Random Forest.\n",
    "\n",
    "1. **n_estimators**: The number of trees in the forest. \n",
    "2. **max_features**: The number of random select features to consider when looking for the best split\n",
    "3. **bootstrap**: Whether bootstrap samples are used when building tree\n"
   ]
  },
  {
   "cell_type": "code",
   "execution_count": 303,
   "metadata": {},
   "outputs": [],
   "source": [
    "class RandomForest:\n",
    "    def __init__(\n",
    "        self,\n",
    "        n_estimators,\n",
    "        max_features,\n",
    "        bootstrap=True,\n",
    "        criterion=\"gini\",\n",
    "        max_depth=None,\n",
    "    ):\n",
    "        self.n_estimators = n_estimators\n",
    "        self.max_features = int(max_features)\n",
    "        self.bootstrap = bootstrap\n",
    "        self.criterion = criterion\n",
    "        self.max_depth = max_depth\n",
    "        self.clfs: list[DecisionTree] = []\n",
    "\n",
    "    def fit(self, x_data: np.ndarray, y_data: np.ndarray):\n",
    "        self.clfs = []\n",
    "        generator = np.random.default_rng()\n",
    "        n_samples = x_data.shape[0]\n",
    "        if self.bootstrap:\n",
    "            data_index = generator.choice(n_samples, n_samples)\n",
    "            x_data = x_data[data_index]\n",
    "            y_data = y_data[data_index]\n",
    "\n",
    "        for _ in range(self.n_estimators):\n",
    "            clf = DecisionTree(\n",
    "                criterion=self.criterion,\n",
    "                max_depth=self.max_depth,\n",
    "                max_features=self.max_features,\n",
    "                negative=True,\n",
    "            )\n",
    "            clf.fit(x_data=x_data, y_data=y_data)\n",
    "            self.clfs.append(clf)\n",
    "\n",
    "    def predict(self, x_data: np.ndarray):\n",
    "        vote = np.zeros(x_data.shape[0])\n",
    "        i = 0\n",
    "        for clf in self.clfs:\n",
    "            i += 1\n",
    "            y_pred = clf.predict(x_data=x_data)\n",
    "            vote = vote + y_pred\n",
    "\n",
    "        return vote > 0\n",
    "\n",
    "    def get_accuracy(self, y_pred: np.ndarray, y_true: np.ndarray):\n",
    "        return np.count_nonzero(y_pred == y_true) / len(y_pred)\n"
   ]
  },
  {
   "cell_type": "markdown",
   "metadata": {},
   "source": [
    "### Question 5.1\n",
    "Using `criterion=gini`, `max_depth=None`, `max_features=sqrt(n_features)`, showing the accuracy score of validation data by `n_estimators=10` and `n_estimators=100`, respectively.\n"
   ]
  },
  {
   "cell_type": "code",
   "execution_count": 304,
   "metadata": {},
   "outputs": [],
   "source": [
    "clf_10tree = RandomForest(n_estimators=10, max_features=np.sqrt(x_train.shape[1]))\n",
    "clf_100tree = RandomForest(n_estimators=100, max_features=np.sqrt(x_train.shape[1]))"
   ]
  },
  {
   "cell_type": "code",
   "execution_count": 305,
   "metadata": {},
   "outputs": [
    {
     "name": "stdout",
     "output_type": "stream",
     "text": [
      "clf_10tree acc: 0.9166666666666666\n",
      "clf_100tree acc: 0.9233333333333333\n"
     ]
    }
   ],
   "source": [
    "clf_10tree.fit(x_data=x_train, y_data=y_train)\n",
    "y_pred = clf_10tree.predict(x_data=x_val)\n",
    "acc = clf_10tree.get_accuracy(y_pred=y_pred, y_true=y_val)\n",
    "print(f\"clf_10tree acc: {acc}\")\n",
    "\n",
    "clf_100tree.fit(x_data=x_train, y_data=y_train)\n",
    "y_pred = clf_100tree.predict(x_data=x_val)\n",
    "acc = clf_100tree.get_accuracy(y_pred=y_pred, y_true=y_val)\n",
    "print(f\"clf_100tree acc: {acc}\")"
   ]
  },
  {
   "cell_type": "markdown",
   "metadata": {},
   "source": [
    "### Question 5.2\n",
    "Using `criterion=gini`, `max_depth=None`, `n_estimators=10`, showing the accuracy score of validation data by `max_features=sqrt(n_features)` and `max_features=n_features`, respectively.\n"
   ]
  },
  {
   "cell_type": "code",
   "execution_count": 306,
   "metadata": {},
   "outputs": [],
   "source": [
    "clf_random_features = RandomForest(\n",
    "    n_estimators=10, max_features=np.sqrt(x_train.shape[1])\n",
    ")\n",
    "clf_all_features = RandomForest(n_estimators=10, max_features=x_train.shape[1])\n"
   ]
  },
  {
   "cell_type": "markdown",
   "metadata": {},
   "source": [
    "- Note: Use majority votes to get the final prediction, you may get slightly different results when re-building the random forest model"
   ]
  },
  {
   "cell_type": "code",
   "execution_count": 307,
   "metadata": {},
   "outputs": [
    {
     "name": "stdout",
     "output_type": "stream",
     "text": [
      "clf_random_features acc: 0.9233333333333333\n",
      "clf_all_features acc: 0.94\n"
     ]
    }
   ],
   "source": [
    "clf_random_features.fit(x_data=x_train, y_data=y_train)\n",
    "y_pred = clf_random_features.predict(x_data=x_val)\n",
    "acc = clf_random_features.get_accuracy(y_pred=y_pred, y_true=y_val)\n",
    "print(f\"clf_random_features acc: {acc}\")\n",
    "\n",
    "clf_all_features.fit(x_data=x_train, y_data=y_train)\n",
    "y_pred = clf_all_features.predict(x_data=x_val)\n",
    "acc = clf_all_features.get_accuracy(y_pred=y_pred, y_true=y_val)\n",
    "print(f\"clf_all_features acc: {acc}\")\n"
   ]
  },
  {
   "cell_type": "markdown",
   "metadata": {},
   "source": [
    "### Question 6. Train and tune your model on a real-world dataset\n",
    "Try you best to get higher accuracy score of your model. After parameter tuning, you can train your model on the full dataset (train + val).\n",
    "- Feature engineering\n",
    "- Hyperparameter tuning\n",
    "- Implement any other ensemble methods, such as gradient boosting. Please note that you **can not** call any package. Also, only ensemble method can be used. Neural network method is not allowed to used."
   ]
  },
  {
   "cell_type": "code",
   "execution_count": 308,
   "metadata": {},
   "outputs": [],
   "source": [
    "def train_your_model(data):\n",
    "    ## Define your model and training\n",
    "    x_train: np.ndarray = data.loc[:, train_df.columns != \"price_range\"].to_numpy()  # type: ignore\n",
    "    y_train: np.ndarray = data.loc[:, \"price_range\"].to_numpy()\n",
    "\n",
    "    ada_100 = AdaBoost(50)\n",
    "    ada_100.fit(x_train, y_train)\n",
    "\n",
    "    return ada_100"
   ]
  },
  {
   "cell_type": "code",
   "execution_count": 309,
   "metadata": {},
   "outputs": [],
   "source": [
    "train_merge = pd.concat([train_df, val_df], ignore_index=True)\n",
    "my_model = train_your_model(train_merge)"
   ]
  },
  {
   "cell_type": "code",
   "execution_count": 310,
   "metadata": {},
   "outputs": [
    {
     "name": "stdout",
     "output_type": "stream",
     "text": [
      "my_model acc: 0.9766666666666667\n"
     ]
    }
   ],
   "source": [
    "y_pred = my_model.predict(x_val)\n",
    "acc = my_model.get_accuracy(y_pred, y_val)\n",
    "\n",
    "print(f\"my_model acc: {acc}\")"
   ]
  },
  {
   "cell_type": "code",
   "execution_count": 312,
   "metadata": {},
   "outputs": [
    {
     "ename": "AssertionError",
     "evalue": "",
     "output_type": "error",
     "traceback": [
      "\u001b[0;31m---------------------------------------------------------------------------\u001b[0m",
      "\u001b[0;31mAssertionError\u001b[0m                            Traceback (most recent call last)",
      "Cell \u001b[0;32mIn [312], line 1\u001b[0m\n\u001b[0;32m----> 1\u001b[0m \u001b[39massert\u001b[39;00m y_pred\u001b[39m.\u001b[39mshape \u001b[39m==\u001b[39m (\u001b[39m500\u001b[39m,)\n",
      "\u001b[0;31mAssertionError\u001b[0m: "
     ]
    }
   ],
   "source": [
    "assert y_pred.shape == (500,)"
   ]
  },
  {
   "cell_type": "markdown",
   "metadata": {},
   "source": [
    "## Supplementary\n",
    "If you have trouble to implement this homework, TA strongly recommend watching [this video](https://www.youtube.com/watch?v=LDRbO9a6XPU), which explains Decision Tree model clearly. But don't copy code from any resources, try to finish this homework by yourself! "
   ]
  },
  {
   "cell_type": "markdown",
   "metadata": {},
   "source": [
    "### DO NOT MODIFY CODE BELOW"
   ]
  },
  {
   "cell_type": "code",
   "execution_count": null,
   "metadata": {},
   "outputs": [],
   "source": [
    "import pandas as pd\n",
    "from sklearn.metrics import accuracy_score\n",
    "\n",
    "y_test = pd.read_csv(\"y_test.csv\")[\"price_range\"].values\n",
    "\n",
    "print(\"Test-set accuarcy score: \", accuracy_score(y_test, y_pred))"
   ]
  },
  {
   "cell_type": "code",
   "execution_count": null,
   "metadata": {},
   "outputs": [],
   "source": []
  },
  {
   "cell_type": "code",
   "execution_count": 313,
   "metadata": {},
   "outputs": [
    {
     "name": "stdout",
     "output_type": "stream",
     "text": [
      "*** We will check your result for Question 3 manually *** (5 points)\n",
      "*** We will check your result for Question 6 manually *** (20 points)\n",
      "Approximate score range: 45.0 ~ 70.0\n",
      "*** This score is only for reference ***\n"
     ]
    }
   ],
   "source": [
    "def discrete_checker(score, thres, clf, name, x_train, y_train, x_test, y_test):\n",
    "    clf.fit(x_train, y_train)\n",
    "    y_pred = clf.predict(x_test)\n",
    "    if accuracy_score(y_test, y_pred) - thres >= 0:\n",
    "        return score\n",
    "    else:\n",
    "        print(f\"{name} failed\")\n",
    "        return 0\n",
    "\n",
    "\n",
    "def patient_checker(\n",
    "    score, thres, CLS, kwargs, name, x_train, y_train, x_test, y_test, patient=10\n",
    "):\n",
    "    while patient > 0:\n",
    "        patient -= 1\n",
    "        clf = CLS(**kwargs)\n",
    "        clf.fit(x_train, y_train)\n",
    "        y_pred = clf.predict(x_test)\n",
    "        if accuracy_score(y_test, y_pred) - thres >= 0:\n",
    "            return score\n",
    "    print(f\"{name} failed\")\n",
    "    print(\"Considering the randomness, we will check it manually\")\n",
    "    return 0\n",
    "\n",
    "\n",
    "def load_dataset():\n",
    "    file_url = (\n",
    "        \"http://storage.googleapis.com/download.tensorflow.org/data/abalone_train.csv\"\n",
    "    )\n",
    "    df = pd.read_csv(\n",
    "        file_url,\n",
    "        names=[\n",
    "            \"Length\",\n",
    "            \"Diameter\",\n",
    "            \"Height\",\n",
    "            \"Whole weight\",\n",
    "            \"Shucked weight\",\n",
    "            \"Viscera weight\",\n",
    "            \"Shell weight\",\n",
    "            \"Age\",\n",
    "        ],\n",
    "    )\n",
    "\n",
    "    df[\"Target\"] = (df[\"Age\"] > 15).astype(int)\n",
    "    df = df.drop(labels=[\"Age\"], axis=\"columns\")\n",
    "\n",
    "    train_idx = range(0, len(df), 10)\n",
    "    test_idx = range(1, len(df), 20)\n",
    "\n",
    "    train_df = df.iloc[train_idx]\n",
    "    test_df = df.iloc[test_idx]\n",
    "\n",
    "    x_train = train_df.drop(labels=[\"Target\"], axis=\"columns\")\n",
    "    feature_names = x_train.columns.values\n",
    "    x_train = x_train.values\n",
    "    y_train = train_df[\"Target\"].values\n",
    "\n",
    "    x_test = test_df.drop(labels=[\"Target\"], axis=\"columns\")\n",
    "    x_test = x_test.values\n",
    "    y_test = test_df[\"Target\"].values\n",
    "    return x_train, y_train, x_test, y_test, feature_names\n",
    "\n",
    "\n",
    "score = 0\n",
    "\n",
    "data = np.array([1, 2])\n",
    "if abs(gini(data) - 0.5) < 1e-4:\n",
    "    score += 2.5\n",
    "else:\n",
    "    print(\"gini test failed\")\n",
    "\n",
    "if abs(entropy(data) - 1) < 1e-4:\n",
    "    score += 2.5\n",
    "else:\n",
    "    print(\"entropy test failed\")\n",
    "\n",
    "x_train, y_train, x_test, y_test, feature_names = load_dataset()\n",
    "\n",
    "score += discrete_checker(\n",
    "    5,\n",
    "    0.9337,\n",
    "    DecisionTree(criterion=\"gini\", max_depth=3),\n",
    "    \"DecisionTree(criterion='gini', max_depth=3)\",\n",
    "    x_train,\n",
    "    y_train,\n",
    "    x_test,\n",
    "    y_test,\n",
    ")\n",
    "\n",
    "score += discrete_checker(\n",
    "    2.5,\n",
    "    0.9036,\n",
    "    DecisionTree(criterion=\"gini\", max_depth=10),\n",
    "    \"DecisionTree(criterion='gini', max_depth=10)\",\n",
    "    x_train,\n",
    "    y_train,\n",
    "    x_test,\n",
    "    y_test,\n",
    ")\n",
    "\n",
    "score += discrete_checker(\n",
    "    2.5,\n",
    "    0.9096,\n",
    "    DecisionTree(criterion=\"entropy\", max_depth=3),\n",
    "    \"DecisionTree(criterion='entropy', max_depth=3)\",\n",
    "    x_train,\n",
    "    y_train,\n",
    "    x_test,\n",
    "    y_test,\n",
    ")\n",
    "\n",
    "print(\"*** We will check your result for Question 3 manually *** (5 points)\")\n",
    "\n",
    "score += patient_checker(\n",
    "    7.5,\n",
    "    0.91,\n",
    "    AdaBoost,\n",
    "    {\"n_estimators\": 10},\n",
    "    \"AdaBoost(n_estimators=10)\",\n",
    "    x_train,\n",
    "    y_train,\n",
    "    x_test,\n",
    "    y_test,\n",
    ")\n",
    "\n",
    "score += patient_checker(\n",
    "    7.5,\n",
    "    0.87,\n",
    "    AdaBoost,\n",
    "    {\"n_estimators\": 100},\n",
    "    \"AdaBoost(n_estimators=100)\",\n",
    "    x_train,\n",
    "    y_train,\n",
    "    x_test,\n",
    "    y_test,\n",
    ")\n",
    "\n",
    "score += patient_checker(\n",
    "    5,\n",
    "    0.91,\n",
    "    RandomForest,\n",
    "    {\"n_estimators\": 10, \"max_features\": np.sqrt(x_train.shape[1])},\n",
    "    \"RandomForest(n_estimators=10, max_features=sqrt(n_features))\",\n",
    "    x_train,\n",
    "    y_train,\n",
    "    x_test,\n",
    "    y_test,\n",
    ")\n",
    "\n",
    "score += patient_checker(\n",
    "    5,\n",
    "    0.91,\n",
    "    RandomForest,\n",
    "    {\"n_estimators\": 100, \"max_features\": np.sqrt(x_train.shape[1])},\n",
    "    \"RandomForest(n_estimators=100, max_features=sqrt(n_features))\",\n",
    "    x_train,\n",
    "    y_train,\n",
    "    x_test,\n",
    "    y_test,\n",
    ")\n",
    "\n",
    "score += patient_checker(\n",
    "    5,\n",
    "    0.92,\n",
    "    RandomForest,\n",
    "    {\"n_estimators\": 10, \"max_features\": x_train.shape[1]},\n",
    "    \"RandomForest(n_estimators=10, max_features=n_features)\",\n",
    "    x_train,\n",
    "    y_train,\n",
    "    x_test,\n",
    "    y_test,\n",
    ")\n",
    "\n",
    "print(\"*** We will check your result for Question 6 manually *** (20 points)\")\n",
    "print(\"Approximate score range:\", score, \"~\", score + 25)\n",
    "print(\"*** This score is only for reference ***\")"
   ]
  }
 ],
 "metadata": {
  "kernelspec": {
   "display_name": "Python 3.10.6 ('.venv': venv)",
   "language": "python",
   "name": "python3"
  },
  "language_info": {
   "codemirror_mode": {
    "name": "ipython",
    "version": 3
   },
   "file_extension": ".py",
   "mimetype": "text/x-python",
   "name": "python",
   "nbconvert_exporter": "python",
   "pygments_lexer": "ipython3",
   "version": "3.10.6"
  },
  "vscode": {
   "interpreter": {
    "hash": "7ebc8587b40ba206a63acdaa68892d3f2405780135fc7b6b13b25f1a0c680118"
   }
  }
 },
 "nbformat": 4,
 "nbformat_minor": 4
}
