{
 "cells": [
  {
   "cell_type": "code",
   "execution_count": 2,
   "metadata": {},
   "outputs": [],
   "source": [
    "import numpy as np\n",
    "import pandas as pd\n",
    "from sklearn.svm import SVC, SVR\n",
    "from sklearn.metrics import accuracy_score"
   ]
  },
  {
   "cell_type": "markdown",
   "metadata": {},
   "source": [
    "## Load data"
   ]
  },
  {
   "cell_type": "code",
   "execution_count": 3,
   "metadata": {},
   "outputs": [],
   "source": [
    "x_train = np.load(\"x_train.npy\")\n",
    "y_train = np.load(\"y_train.npy\")\n",
    "x_test = np.load(\"x_test.npy\")\n",
    "# y_test = np.load(\"y_test.npy\")"
   ]
  },
  {
   "cell_type": "code",
   "execution_count": 4,
   "metadata": {},
   "outputs": [
    {
     "name": "stdout",
     "output_type": "stream",
     "text": [
      "(7000, 300)\n"
     ]
    }
   ],
   "source": [
    "# 7000 data with 300 features\n",
    "print(x_train.shape)"
   ]
  },
  {
   "cell_type": "code",
   "execution_count": 5,
   "metadata": {},
   "outputs": [
    {
     "name": "stdout",
     "output_type": "stream",
     "text": [
      "[0 1]\n"
     ]
    }
   ],
   "source": [
    "# It's a binary classification problem \n",
    "print(np.unique(y_train))"
   ]
  },
  {
   "cell_type": "markdown",
   "metadata": {},
   "source": [
    "## Question 1\n",
    "K-fold data partition: Implement the K-fold cross-validation function. Your function should take K as an argument and return a list of lists (len(list) should equal to K), which contains K elements. Each element is a list contains two parts, the first part contains the index of all training folds, e.g. Fold 2 to Fold 5 in split 1. The second part contains the index of validation fold, e.g. Fold 1 in  split 1"
   ]
  },
  {
   "cell_type": "code",
   "execution_count": 6,
   "metadata": {},
   "outputs": [],
   "source": [
    "rng = np.random.default_rng()\n",
    "def cross_validation(x_train: np.ndarray, y_train: np.ndarray, k=5):\n",
    "    fold_size = x_train.shape[0] // k\n",
    "    remainder = x_train.shape[0] % k\n",
    "\n",
    "    X = np.arange(x_train.shape[0])\n",
    "    rng.shuffle(X)\n",
    "\n",
    "    folds: list[np.ndarray] = []\n",
    "    ind = 0\n",
    "    for i in range(k):\n",
    "        if i < remainder:\n",
    "            folds.append(X[ind: ind + fold_size + 1])\n",
    "            ind += fold_size + 1\n",
    "        else:\n",
    "            folds.append(X[ind: ind + fold_size])\n",
    "            ind += fold_size\n",
    "\n",
    "    kf: list[list[np.ndarray]] = []\n",
    "    for i in range(k):\n",
    "        train_index = folds[:i] + folds[i + 1:]\n",
    "        train_index = np.concatenate(train_index)\n",
    "        val_index = folds[i]\n",
    "        kf.append([train_index, val_index])\n",
    "\n",
    "    return kf\n",
    "\n",
    "kfold_data = cross_validation(x_train, y_train, k=10)"
   ]
  },
  {
   "cell_type": "code",
   "execution_count": 7,
   "metadata": {},
   "outputs": [],
   "source": [
    "kfold_data = cross_validation(x_train, y_train, k=10)\n",
    "assert len(kfold_data) == 10 # should contain 10 fold of data\n",
    "assert len(kfold_data[0]) == 2 # each element should contain train fold and validation fold\n",
    "assert kfold_data[0][1].shape[0] == 700 # The number of data in each validation fold should equal to training data divieded by K"
   ]
  },
  {
   "cell_type": "markdown",
   "metadata": {},
   "source": [
    "## example"
   ]
  },
  {
   "cell_type": "code",
   "execution_count": 8,
   "metadata": {},
   "outputs": [
    {
     "name": "stdout",
     "output_type": "stream",
     "text": [
      "Split: 1, Training index: [ 0  1  2  3  4  5  6  7  8  9 10 11 13 14 16 18], Validation index: [12 15 17 19]\n",
      "Split: 2, Training index: [ 0  1  5  6  7  8  9 10 11 12 14 15 16 17 18 19], Validation index: [ 2  3  4 13]\n",
      "Split: 3, Training index: [ 0  1  2  3  4  6  7  8 10 11 12 13 15 16 17 19], Validation index: [ 5  9 14 18]\n",
      "Split: 4, Training index: [ 1  2  3  4  5  7  8  9 11 12 13 14 15 17 18 19], Validation index: [ 0  6 10 16]\n",
      "Split: 5, Training index: [ 0  2  3  4  5  6  9 10 12 13 14 15 16 17 18 19], Validation index: [ 1  7  8 11]\n"
     ]
    }
   ],
   "source": [
    "from sklearn.model_selection import KFold\n",
    "\n",
    "X = np.arange(20)\n",
    "kf = KFold(n_splits=5, shuffle=True)\n",
    "kfold_data= []\n",
    "for i, (train_index, val_index) in enumerate(kf.split(X), start=1):\n",
    "    print(\"Split: %s, Training index: %s, Validation index: %s\" % (i, train_index, val_index))\n",
    "    kfold_data.append([train_index, val_index])"
   ]
  },
  {
   "cell_type": "code",
   "execution_count": 9,
   "metadata": {},
   "outputs": [],
   "source": [
    "assert len(kfold_data) == 5 # should contain 5 fold of data\n",
    "assert len(kfold_data[0]) == 2 # each element should contains index of training fold and validation fold\n",
    "assert kfold_data[0][1].shape[0] == 4 # The number of data in each validation fold should equal to training data divieded by K"
   ]
  },
  {
   "cell_type": "markdown",
   "metadata": {},
   "source": []
  },
  {
   "cell_type": "markdown",
   "metadata": {},
   "source": [
    "## Question 2\n",
    "Using sklearn.svm.SVC to train a classifier on the provided train set and conduct the grid search of “C” and “gamma” to find the best parameters by cross-validation."
   ]
  },
  {
   "cell_type": "code",
   "execution_count": 10,
   "metadata": {},
   "outputs": [],
   "source": [
    "clf = SVC(C=1.0, kernel='rbf', gamma=0.01)"
   ]
  },
  {
   "cell_type": "code",
   "execution_count": 11,
   "metadata": {},
   "outputs": [],
   "source": [
    "## your code\n",
    "C = [1e0, 1e1, 1e2, 1e3, 1e4]\n",
    "gamma = [1e-4, 5e-4, 1e-5, 5e-5, 1e-4]\n",
    "K = 5\n",
    "\n",
    "# from tqdm import tqdm\n",
    "\n",
    "\n",
    "max_acc = 0.0\n",
    "best_parameters: tuple[float, float] = (0.0, 0.0)\n",
    "acc_list: list[list] = []\n",
    "\n",
    "# bar = tqdm(total=(len(C) * len(gamma) * K))\n",
    "\n",
    "for c in C:\n",
    "    acc_sub_list = []\n",
    "    for g in gamma:\n",
    "        total_acc = 0.0\n",
    "        kfold_data = cross_validation(x_train=x_train, y_train=y_train)\n",
    "\n",
    "        for folds in kfold_data:\n",
    "            clf = SVC(C=c, kernel='rbf', gamma=g)\n",
    "            x = x_train[folds[0]]\n",
    "            y = y_train[folds[0]]\n",
    "            clf.fit(x, y)\n",
    "            \n",
    "            x_val = x_train[folds[1]]\n",
    "            y_val = y_train[folds[1]]\n",
    "            y_pred = clf.predict(x_val)\n",
    "            acc = accuracy_score(y_val, y_pred)\n",
    "            total_acc += acc\n",
    "            # bar.update(1)\n",
    "\n",
    "        total_acc /= K\n",
    "        acc_sub_list.append(total_acc)\n",
    "        if total_acc > max_acc:\n",
    "            max_acc = total_acc\n",
    "            best_parameters = (c, g)\n",
    "\n",
    "    acc_list.append(acc_sub_list)\n",
    "\n",
    "# bar.close()\n",
    "        "
   ]
  },
  {
   "cell_type": "code",
   "execution_count": 20,
   "metadata": {},
   "outputs": [
    {
     "name": "stdout",
     "output_type": "stream",
     "text": [
      "C: 1000.0, gamma: 0.0001\n"
     ]
    }
   ],
   "source": [
    "print(f\"C: {best_parameters[0]}, gamma: {best_parameters[1]}\")"
   ]
  },
  {
   "cell_type": "code",
   "execution_count": 28,
   "metadata": {},
   "outputs": [
    {
     "data": {
      "image/png": "[encoded data removed]",
      "text/plain": [
       "<Figure size 640x480 with 2 Axes>"
      ]
     },
     "metadata": {},
     "output_type": "display_data"
    }
   ],
   "source": [
    "import matplotlib.pyplot as plt\n",
    "from matplotlib.axes import Axes\n",
    "from matplotlib.image import AxesImage\n",
    "from matplotlib.ticker import StrMethodFormatter\n",
    "\n",
    "\n",
    "def heatmap(\n",
    "    data: np.ndarray,\n",
    "    ax: Axes,\n",
    "    row_labels,\n",
    "    col_labels,\n",
    "    cbar_kw=None,\n",
    "    cbarlabel=\"\",\n",
    "    **kwargs\n",
    "):\n",
    "    \"\"\"\n",
    "    Create a heatmap from a numpy array and two lists of labels.\n",
    "\n",
    "    Parameters\n",
    "    ----------\n",
    "    data\n",
    "        A 2D numpy array of shape (M, N).\n",
    "    row_labels\n",
    "        A list or array of length M with the labels for the rows.\n",
    "    col_labels\n",
    "        A list or array of length N with the labels for the columns.\n",
    "    ax\n",
    "        A `matplotlib.axes.Axes` instance to which the heatmap is plotted.  If\n",
    "        not provided, use current axes or create a new one.  Optional.\n",
    "    cbar_kw\n",
    "        A dictionary with arguments to `matplotlib.Figure.colorbar`.  Optional.\n",
    "    cbarlabel\n",
    "        The label for the colorbar.  Optional.\n",
    "    **kwargs\n",
    "        All other arguments are forwarded to `imshow`.\n",
    "    \"\"\"\n",
    "\n",
    "    if cbar_kw is None:\n",
    "        cbar_kw = {}\n",
    "\n",
    "    # Plot the heatmap\n",
    "    im = ax.imshow(data, **kwargs)\n",
    "\n",
    "    # Create colorbar\n",
    "    cbar = ax.figure.colorbar(im, ax=ax, **cbar_kw)\n",
    "    cbar.ax.set_ylabel(cbarlabel, rotation=-90, va=\"bottom\")\n",
    "\n",
    "    # Show all ticks and label them with the respective list entries.\n",
    "    ax.set_xticks(np.arange(data.shape[1]), labels=col_labels)\n",
    "    ax.set_yticks(np.arange(data.shape[0]), labels=row_labels)\n",
    "\n",
    "    # # Turn spines off and create white grid.\n",
    "    ax.spines[:].set_visible(False)\n",
    "\n",
    "    plt.savefig(\"test_plot.png\")\n",
    "\n",
    "    ax.set_xticks((np.arange(data.shape[1] + 1) - 0.5), minor=True)\n",
    "    ax.set_yticks((np.arange(data.shape[0] + 1) - 0.5), minor=True)\n",
    "    ax.grid(which=\"minor\", color=\"w\", linestyle=\"-\", linewidth=3)\n",
    "    ax.tick_params(which=\"minor\", bottom=False, left=False)\n",
    "\n",
    "    plt.savefig(\"test_plot_comp.png\")\n",
    "\n",
    "    return im, cbar\n",
    "\n",
    "\n",
    "def annotate_heatmap(\n",
    "    im: AxesImage, valfmt=\"{x:.2f}\", textcolors=(\"black\", \"white\"), **textkw\n",
    "):\n",
    "    \"\"\"\n",
    "    A function to annotate a heatmap.\n",
    "\n",
    "    Parameters\n",
    "    ----------\n",
    "    im\n",
    "        The AxesImage to be labeled.\n",
    "    data\n",
    "        Data used to annotate.  If None, the image's data is used.  Optional.\n",
    "    valfmt\n",
    "        The format of the annotations inside the heatmap.  This should either\n",
    "        use the string format method, e.g. \"$ {x:.2f}\", or be a\n",
    "        `matplotlib.ticker.Formatter`.  Optional.\n",
    "    textcolors\n",
    "        A pair of colors.  The first is used for values below a threshold,\n",
    "        the second for those above.  Optional.\n",
    "    **kwargs\n",
    "        All other arguments are forwarded to each call to `text` used to create\n",
    "        the text labels.\n",
    "    \"\"\"\n",
    "\n",
    "    data: np.ndarray = im.get_array()\n",
    "\n",
    "    # Normalize the threshold to the images color range.\n",
    "\n",
    "    threshold = im.norm(data.max()) / 2\n",
    "\n",
    "    # Set default alignment to center, but allow it to be\n",
    "    # overwritten by textkw.\n",
    "    kw = dict(horizontalalignment=\"center\", verticalalignment=\"center\")\n",
    "    kw.update(textkw)\n",
    "\n",
    "    # Get the formatter in case a string is supplied\n",
    "    if isinstance(valfmt, str):\n",
    "        valfmt = StrMethodFormatter(valfmt)\n",
    "\n",
    "    # Loop over the data and create a `Text` for each \"pixel\".\n",
    "    # Change the text's color depending on the data.\n",
    "    texts = []\n",
    "    for i in range(data.shape[0]):\n",
    "        for j in range(data.shape[1]):\n",
    "            kw.update(color=textcolors[int(abs(im.norm(data[i, j]) - threshold) > 0.2)])\n",
    "            text = im.axes.text(j, i, valfmt(data[i, j]), **kw)\n",
    "            texts.append(text)\n",
    "\n",
    "    return texts\n",
    "\n",
    "\n",
    "fig, ax = plt.subplots()\n",
    "\n",
    "im, cbar = heatmap(\n",
    "    data=np.array(acc_list),\n",
    "    ax=ax,\n",
    "    row_labels=C,\n",
    "    col_labels=gamma,\n",
    "    cmap=\"RdBu\",\n",
    "    cbarlabel=\"\",\n",
    ")\n",
    "texts = annotate_heatmap(im, valfmt=\"{x:.4f}\")\n",
    "\n",
    "plt.title(\"Hyperparameter Gridsearch\")\n",
    "plt.tight_layout()\n",
    "plt.savefig(\"result\")\n",
    "plt.show()"
   ]
  },
  {
   "cell_type": "markdown",
   "metadata": {},
   "source": [
    "## Question 3\n",
    "Plot the grid search results of your SVM. The x, y represents the hyperparameters of “gamma” and “C”, respectively. And the color represents the average score of validation folds\n",
    "You reults should be look like this reference image below ![image](https://miro.medium.com/max/1296/1*wGWTup9r4cVytB5MOnsjdQ.png) "
   ]
  },
  {
   "cell_type": "markdown",
   "metadata": {},
   "source": [
    "## Question 4\n",
    "Train your SVM model by the best parameters you found from question 2 on the whole training set and evaluate the performance on the test set."
   ]
  },
  {
   "cell_type": "code",
   "execution_count": null,
   "metadata": {},
   "outputs": [],
   "source": [
    "best_model = SVC(C=best_parameters[0], kernel='rbf', gamma=best_parameters[1]) # type: ignore\n",
    "best_model.fit(x_train, y_train)\n",
    "\n",
    "y_pred = best_model.predict(x_test)\n",
    "print(\"Accuracy score: \", accuracy_score(y_pred, y_test))"
   ]
  }
 ],
 "metadata": {
  "kernelspec": {
   "display_name": "Python 3.10.8 ('.venv': venv)",
   "language": "python",
   "name": "python3"
  },
  "language_info": {
   "codemirror_mode": {
    "name": "ipython",
    "version": 3
   },
   "file_extension": ".py",
   "mimetype": "text/x-python",
   "name": "python",
   "nbconvert_exporter": "python",
   "pygments_lexer": "ipython3",
   "version": "3.10.8"
  },
  "vscode": {
   "interpreter": {
    "hash": "8823b3b347fb028c26c0e34cb471390a1c24218bb239557214f2a29d727d34c5"
   }
  }
 },
 "nbformat": 4,
 "nbformat_minor": 4
}
